{
  "nbformat": 4,
  "nbformat_minor": 0,
  "metadata": {
    "colab": {
      "name": "Comparison of the RLS simulation with the article data",
      "provenance": [],
      "collapsed_sections": [],
      "authorship_tag": "ABX9TyMO3mWQXGKAUMk3gdJvWVn/"
    },
    "kernelspec": {
      "name": "python3",
      "display_name": "Python 3"
    },
    "language_info": {
      "name": "python"
    }
  },
  "cells": [
    {
      "cell_type": "code",
      "metadata": {
        "id": "_sPNylZoA4aA"
      },
      "source": [
        "import numpy as np\n",
        "import matplotlib.pyplot as plt\n",
        "import collections as coll \n",
        "import random\n",
        "from time import time\n",
        "from timeit import timeit\n",
        "from scipy.interpolate import interp1d \n",
        "from scipy.optimize import curve_fit"
      ],
      "execution_count": 1,
      "outputs": []
    },
    {
      "cell_type": "markdown",
      "metadata": {
        "id": "-4jBWxit829w"
      },
      "source": [
        "## Initial growth model "
      ]
    },
    {
      "cell_type": "code",
      "metadata": {
        "colab": {
          "base_uri": "https://localhost:8080/"
        },
        "id": "nfk2jJzPBQGb",
        "outputId": "90039336-a868-46a5-f741-a63cc97ed55f"
      },
      "source": [
        "initial_time = time()# we use this library to calculate execution time   \n",
        "#-------------------------------------------------------------------------------\n",
        "#initial variables \n",
        "s=[]#this list is for save the replication times\n",
        "celulas=[]# this list is for save the total number of cells \n",
        "zi=[1,0,0,0,0,0,0,0,0,0,0,0,0,0,0,0,0,0,0,0,0,0,0,0,0,0,0,0,0,0,0]# initial age distribution \n",
        "t=0 # total time   \n",
        "R=0 # to count the replicative times \n",
        "tr=[]#list to save the total time in each iteration\n",
        "m=19 # number to determine the generation in which the cells die \n",
        "muertes=0# variable to count the number of dead and non-viable cells \n",
        "fraccion=[]# list to save the fraction of viable cells \n",
        "r=0 # per capita growth\n",
        "g=15 # number of generations that growth the population \n",
        "#------------------------------------------------------------------------------- \n",
        "for j in range(g): \n",
        "  zf=np.zeros(m,dtype=np.int64) # It has a defined length which is determined by the generation in which the cells die\n",
        "  for i in range(m-1):  \n",
        "    zf[i+1]= zi[i]\n",
        "    zf[0]=sum(zi)-zi[-1]\n",
        "  zi=zf \n",
        "#-------------------------------------------------------------------------------\n",
        "  R=R+120 # 120 is the constant replicative time, in minutes, that we took \n",
        "  s.append(R)\n",
        "  celulas.append(sum(zi)) \n",
        "#-------------------------------------------------------------------------------\n",
        "  t=t+max(s)    # total time \n",
        "  tr.append(t)\n",
        "#-------------------------------------------------------------------------------\n",
        "#calculations \n",
        "  muertes=muertes+zf[-1]#list to save the dead cells\n",
        "  total_celulas= sum(zi)+muertes # total cells, viable cells plus dead cells  \n",
        "  fraccion_viables= (sum(zi)-zi[-1])/total_celulas #fraction of viable cells  \n",
        "  fraccion.append(fraccion_viables)\n",
        "  r=zi[0]-muertes \n",
        "#-------------------------------------------------------------------------------\n",
        "  print('age distribution', zi)\n",
        "  #print('s',s)\n",
        "  #print('time',t) \n",
        "  #print('time list',tr) # \n",
        "  print('Non-viable cells', muertes) \n",
        "  #print('growth rate', r)#\n",
        "  #print('viable cells ', total)\n",
        "  #print('total of population ',total_celulas)\n",
        "  #print('fraction of viable cells',fraccion_viables)\n",
        "  #print('list of viable cells fraction', fraccion)\n",
        "  print('---------------')\n",
        "#-------------------------------------------------------------------------------\n",
        "print(len(zi))\n",
        "final_time = time()\n",
        "execution_time = final_time - initial_time\n",
        "#print('execution time',execution_time)"
      ],
      "execution_count": 50,
      "outputs": [
        {
          "output_type": "stream",
          "text": [
            "age distribution [1 1 0 0 0 0 0 0 0 0 0 0 0 0 0 0 0 0 0]\n",
            "Non-viable cells 0\n",
            "---------------\n",
            "age distribution [2 1 1 0 0 0 0 0 0 0 0 0 0 0 0 0 0 0 0]\n",
            "Non-viable cells 0\n",
            "---------------\n",
            "age distribution [4 2 1 1 0 0 0 0 0 0 0 0 0 0 0 0 0 0 0]\n",
            "Non-viable cells 0\n",
            "---------------\n",
            "age distribution [8 4 2 1 1 0 0 0 0 0 0 0 0 0 0 0 0 0 0]\n",
            "Non-viable cells 0\n",
            "---------------\n",
            "age distribution [16  8  4  2  1  1  0  0  0  0  0  0  0  0  0  0  0  0  0]\n",
            "Non-viable cells 0\n",
            "---------------\n",
            "age distribution [32 16  8  4  2  1  1  0  0  0  0  0  0  0  0  0  0  0  0]\n",
            "Non-viable cells 0\n",
            "---------------\n",
            "age distribution [64 32 16  8  4  2  1  1  0  0  0  0  0  0  0  0  0  0  0]\n",
            "Non-viable cells 0\n",
            "---------------\n",
            "age distribution [128  64  32  16   8   4   2   1   1   0   0   0   0   0   0   0   0   0\n",
            "   0]\n",
            "Non-viable cells 0\n",
            "---------------\n",
            "age distribution [256 128  64  32  16   8   4   2   1   1   0   0   0   0   0   0   0   0\n",
            "   0]\n",
            "Non-viable cells 0\n",
            "---------------\n",
            "age distribution [512 256 128  64  32  16   8   4   2   1   1   0   0   0   0   0   0   0\n",
            "   0]\n",
            "Non-viable cells 0\n",
            "---------------\n",
            "age distribution [1024  512  256  128   64   32   16    8    4    2    1    1    0    0\n",
            "    0    0    0    0    0]\n",
            "Non-viable cells 0\n",
            "---------------\n",
            "age distribution [2048 1024  512  256  128   64   32   16    8    4    2    1    1    0\n",
            "    0    0    0    0    0]\n",
            "Non-viable cells 0\n",
            "---------------\n",
            "age distribution [4096 2048 1024  512  256  128   64   32   16    8    4    2    1    1\n",
            "    0    0    0    0    0]\n",
            "Non-viable cells 0\n",
            "---------------\n",
            "age distribution [8192 4096 2048 1024  512  256  128   64   32   16    8    4    2    1\n",
            "    1    0    0    0    0]\n",
            "Non-viable cells 0\n",
            "---------------\n",
            "age distribution [16384  8192  4096  2048  1024   512   256   128    64    32    16     8\n",
            "     4     2     1     1     0     0     0]\n",
            "Non-viable cells 0\n",
            "---------------\n",
            "19\n"
          ],
          "name": "stdout"
        }
      ]
    },
    {
      "cell_type": "code",
      "metadata": {
        "colab": {
          "base_uri": "https://localhost:8080/"
        },
        "id": "S-OrvaZUBUmF",
        "outputId": "6172b747-b087-4823-81bf-7af45c5e7d0e"
      },
      "source": [
        "indice=[]#Ages \n",
        "ind=-1\n",
        "for i in range(len(zi)):\n",
        "  ind=ind+1\n",
        "  indice.append(ind)\n",
        "print(indice)"
      ],
      "execution_count": 3,
      "outputs": [
        {
          "output_type": "stream",
          "text": [
            "[0, 1, 2, 3, 4, 5, 6, 7, 8, 9, 10, 11, 12, 13, 14, 15, 16, 17, 18]\n"
          ],
          "name": "stdout"
        }
      ]
    },
    {
      "cell_type": "code",
      "metadata": {
        "colab": {
          "base_uri": "https://localhost:8080/",
          "height": 295
        },
        "id": "XviRWaWDpN4A",
        "outputId": "297b41e0-d7a6-4f3a-cb17-85ca3ea266ea"
      },
      "source": [
        "fig, ax = plt.subplots()\n",
        "ax.set_ylabel('Number of cells')\n",
        "ax.set_xlabel('Age')\n",
        "ax.set_title('Age Distribution ')\n",
        "plt.bar(indice, zi)\n",
        "plt.show()"
      ],
      "execution_count": 4,
      "outputs": [
        {
          "output_type": "display_data",
          "data": {
            "image/png": "[encoded data removed]",
            "text/plain": [
              "<Figure size 432x288 with 1 Axes>"
            ]
          },
          "metadata": {
            "tags": [],
            "needs_background": "light"
          }
        }
      ]
    },
    {
      "cell_type": "code",
      "metadata": {
        "colab": {
          "base_uri": "https://localhost:8080/"
        },
        "id": "P2wETBRpBYgK",
        "outputId": "c5936c24-a5fc-47a0-c837-65d1483482d5"
      },
      "source": [
        "dic= dict(zip(zi,indice))# dictionary that store the age distribution {number of cells:age}\n",
        "print(dic)"
      ],
      "execution_count": 5,
      "outputs": [
        {
          "output_type": "stream",
          "text": [
            "{16384: 0, 8192: 1, 4096: 2, 2048: 3, 1024: 4, 512: 5, 256: 6, 128: 7, 64: 8, 32: 9, 16: 10, 8: 11, 4: 12, 2: 13, 1: 15, 0: 18}\n"
          ],
          "name": "stdout"
        }
      ]
    },
    {
      "cell_type": "code",
      "metadata": {
        "colab": {
          "base_uri": "https://localhost:8080/"
        },
        "id": "FkcX2ykYBaeq",
        "outputId": "c9c4ee2c-3a96-4203-8122-2231cb6bd95c"
      },
      "source": [
        "#probability \n",
        "P=[] # probability list \n",
        "for i in zi:\n",
        "  p=i/total_celulas \n",
        "  P.append(p)\n",
        "print(P)"
      ],
      "execution_count": 6,
      "outputs": [
        {
          "output_type": "stream",
          "text": [
            "[0.5, 0.25, 0.125, 0.0625, 0.03125, 0.015625, 0.0078125, 0.00390625, 0.001953125, 0.0009765625, 0.00048828125, 0.000244140625, 0.0001220703125, 6.103515625e-05, 3.0517578125e-05, 3.0517578125e-05, 0.0, 0.0, 0.0]\n"
          ],
          "name": "stdout"
        }
      ]
    },
    {
      "cell_type": "code",
      "metadata": {
        "colab": {
          "base_uri": "https://localhost:8080/",
          "height": 295
        },
        "id": "9lMiQcCKBcjR",
        "outputId": "fc189548-d8ef-4505-9d20-c2b7eee6cdda"
      },
      "source": [
        "fig, ax = plt.subplots()   \n",
        "ax.set_ylabel('Probability')\n",
        "ax.set_xlabel('Age')\n",
        "ax.set_title('Probability distribution')\n",
        "plt.bar(indice, P)\n",
        "plt.show()"
      ],
      "execution_count": 7,
      "outputs": [
        {
          "output_type": "display_data",
          "data": {
            "image/png": "[encoded data removed]",
            "text/plain": [
              "<Figure size 432x288 with 1 Axes>"
            ]
          },
          "metadata": {
            "tags": [],
            "needs_background": "light"
          }
        }
      ]
    },
    {
      "cell_type": "code",
      "metadata": {
        "colab": {
          "base_uri": "https://localhost:8080/"
        },
        "id": "j0uQ25OpULkH",
        "outputId": "1125e9ea-daee-443c-d2aa-739b9d93cd8a"
      },
      "source": [
        "#number of the first sample \n",
        "muestra=int((total_celulas*0.02)/5) #sample \n",
        "print(muestra)\n",
        "print(total_celulas)"
      ],
      "execution_count": 8,
      "outputs": [
        {
          "output_type": "stream",
          "text": [
            "131\n",
            "32768\n"
          ],
          "name": "stdout"
        }
      ]
    },
    {
      "cell_type": "code",
      "metadata": {
        "colab": {
          "base_uri": "https://localhost:8080/"
        },
        "id": "IWvhfKH-BfDp",
        "outputId": "db1aecc8-4713-41b7-ce6f-5f10c9f1dab7"
      },
      "source": [
        "#taking of the first sample \n",
        "sample= random.choices(indice,weights=P,k=muestra)   \n",
        "print(sample)"
      ],
      "execution_count": 9,
      "outputs": [
        {
          "output_type": "stream",
          "text": [
            "[1, 0, 0, 0, 0, 0, 0, 6, 0, 0, 1, 2, 1, 0, 0, 0, 0, 0, 1, 0, 3, 0, 0, 0, 0, 0, 1, 0, 0, 0, 4, 1, 1, 1, 3, 0, 0, 6, 0, 0, 3, 2, 2, 3, 1, 0, 3, 1, 0, 1, 0, 0, 0, 0, 3, 2, 0, 0, 2, 1, 0, 0, 4, 0, 0, 0, 1, 1, 3, 0, 1, 2, 5, 1, 4, 0, 1, 2, 2, 0, 0, 0, 0, 4, 0, 0, 0, 0, 0, 2, 1, 0, 1, 0, 0, 0, 1, 4, 3, 0, 0, 2, 0, 1, 0, 0, 1, 0, 0, 2, 3, 8, 7, 0, 0, 2, 1, 2, 1, 0, 2, 0, 2, 4, 2, 1, 4, 1, 1, 2, 1]\n"
          ],
          "name": "stdout"
        }
      ]
    },
    {
      "cell_type": "code",
      "metadata": {
        "colab": {
          "base_uri": "https://localhost:8080/"
        },
        "id": "kpenJX-PBhz8",
        "outputId": "afd21717-d415-46b3-ccde-598be6670c92"
      },
      "source": [
        "#dictionary that stores the new age distribution for the sample {Age: number of cells}\n",
        "print(coll.Counter(sample))"
      ],
      "execution_count": 10,
      "outputs": [
        {
          "output_type": "stream",
          "text": [
            "Counter({0: 65, 1: 28, 2: 17, 3: 9, 4: 7, 6: 2, 5: 1, 8: 1, 7: 1})\n"
          ],
          "name": "stdout"
        }
      ]
    },
    {
      "cell_type": "markdown",
      "metadata": {
        "id": "vCvDbQQ5Po2T"
      },
      "source": [
        "\n",
        "\n",
        "---\n",
        "\n",
        "\n",
        "\n",
        "---\n",
        "\n"
      ]
    },
    {
      "cell_type": "code",
      "metadata": {
        "colab": {
          "base_uri": "https://localhost:8080/"
        },
        "id": "xTRF5t6_i_7-",
        "outputId": "9e4f3859-ceb6-4227-bf67-281c09044d44"
      },
      "source": [
        "#To organize the dictionary\n",
        "Dic= coll.Counter(sample)\n",
        "Dics=sorted(Dic)\n",
        "print(Dics)"
      ],
      "execution_count": 11,
      "outputs": [
        {
          "output_type": "stream",
          "text": [
            "[0, 1, 2, 3, 4, 5, 6, 7, 8]\n"
          ],
          "name": "stdout"
        }
      ]
    },
    {
      "cell_type": "code",
      "metadata": {
        "colab": {
          "base_uri": "https://localhost:8080/"
        },
        "id": "BBx90xsYjRyq",
        "outputId": "8592e0be-2211-4951-9c3b-dcc828ba1bbd"
      },
      "source": [
        "valores_ord = coll.OrderedDict(sorted(Dic.items()))\n",
        "print(valores_ord)\n",
        "print(valores_ord[0])"
      ],
      "execution_count": 12,
      "outputs": [
        {
          "output_type": "stream",
          "text": [
            "OrderedDict([(0, 65), (1, 28), (2, 17), (3, 9), (4, 7), (5, 1), (6, 2), (7, 1), (8, 1)])\n",
            "65\n"
          ],
          "name": "stdout"
        }
      ]
    },
    {
      "cell_type": "code",
      "metadata": {
        "colab": {
          "base_uri": "https://localhost:8080/"
        },
        "id": "_4pSePC7BlFm",
        "outputId": "9d87bad6-dc3d-4dd0-b457-b4fba4341fed"
      },
      "source": [
        "#to split the number of cells and ages of the dictionary \n",
        "valores=valores_ord.values()\n",
        "llaves=valores_ord.keys()\n",
        "Ncell=[]\n",
        "Edad=[]\n",
        "for i in valores:\n",
        "  Ncell.append(i)\n",
        "print('Number of cells',Ncell)\n",
        "for j in llaves:\n",
        "  Edad.append(j)\n",
        "print('Ages',Edad)\n",
        "print(sum(Ncell))"
      ],
      "execution_count": 13,
      "outputs": [
        {
          "output_type": "stream",
          "text": [
            "Number of cells [65, 28, 17, 9, 7, 1, 2, 1, 1]\n",
            "Ages [0, 1, 2, 3, 4, 5, 6, 7, 8]\n",
            "131\n"
          ],
          "name": "stdout"
        }
      ]
    },
    {
      "cell_type": "code",
      "metadata": {
        "colab": {
          "base_uri": "https://localhost:8080/",
          "height": 295
        },
        "id": "QFEh9AHTSLb-",
        "outputId": "f2c632c9-34c2-4c64-e30b-a171953ce3ba"
      },
      "source": [
        "fig, ax = plt.subplots()   \n",
        "ax.set_ylabel('Number of cells')\n",
        "ax.set_xlabel('Age')\n",
        "ax.set_title('Age distribution of the sample')\n",
        "plt.bar(Edad, Ncell)\n",
        "plt.show()"
      ],
      "execution_count": 14,
      "outputs": [
        {
          "output_type": "display_data",
          "data": {
            "image/png": "[encoded data removed]",
            "text/plain": [
              "<Figure size 432x288 with 1 Axes>"
            ]
          },
          "metadata": {
            "tags": [],
            "needs_background": "light"
          }
        }
      ]
    },
    {
      "cell_type": "code",
      "metadata": {
        "colab": {
          "base_uri": "https://localhost:8080/"
        },
        "id": "vIyzFPxgjlop",
        "outputId": "8c91e0ce-8e32-4d29-9fd5-42cc32c64997"
      },
      "source": [
        "#to organize the dictionary in a list \n",
        "inicial1=[0,0,0,0,0,0,0,0,0,0,0,0,0,0,0,0,0,0,0,0,0,0,0,0,0]\n",
        "for i in range(len(Edad)):\n",
        "  if i==Edad[i]:\n",
        "    inicial1[i]=Ncell[i]\n",
        "  else:\n",
        "    inicial1[Edad[i]]=Ncell[i]\n",
        "print(inicial1)\n",
        "print(len(inicial1))"
      ],
      "execution_count": 15,
      "outputs": [
        {
          "output_type": "stream",
          "text": [
            "[65, 28, 17, 9, 7, 1, 2, 1, 1, 0, 0, 0, 0, 0, 0, 0, 0, 0, 0, 0, 0, 0, 0, 0, 0]\n",
            "25\n"
          ],
          "name": "stdout"
        }
      ]
    },
    {
      "cell_type": "markdown",
      "metadata": {
        "id": "cXu8heb73mLJ"
      },
      "source": [
        "\n",
        "\n",
        "---\n",
        "\n",
        "\n",
        "\n",
        "---\n",
        "\n"
      ]
    },
    {
      "cell_type": "markdown",
      "metadata": {
        "id": "hX_hGFAC3rbX"
      },
      "source": [
        "## **Convolution**"
      ]
    },
    {
      "cell_type": "markdown",
      "metadata": {
        "id": "VNPhc5eV3tTn"
      },
      "source": [
        "We did the same simulation but this time we took the initial age distribution as the saple distribution that we got. "
      ]
    },
    {
      "cell_type": "code",
      "metadata": {
        "colab": {
          "base_uri": "https://localhost:8080/"
        },
        "id": "9o2Y3ukMhWjR",
        "outputId": "53e636b4-27cb-43eb-f784-8c24b063d5b4"
      },
      "source": [
        "tiempo_inicial = time()  \n",
        "#-------------------------------------------------------------------------------\n",
        "#initial variables \n",
        "s_1=[]\n",
        "R_1=0\n",
        "celulas_1=[]\n",
        "t_1=0  \n",
        "tr_1=[]\n",
        "m_1=19   \n",
        "muertes_1=0 \n",
        "fraccion_1=[]\n",
        "suma_1=[]\n",
        "r_1=0 \n",
        "g_1=10\n",
        "#------------------------------------------------------------------------------- \n",
        "\n",
        "for j_1 in range(g_1):\n",
        "  zf_1=np.zeros(m_1,dtype=np.int64) \n",
        "  for i_1 in range(m_1 -1): \n",
        "    zf_1[i_1+1]= inicial1[i_1]\n",
        "    zf_1[0]=sum(inicial1)-inicial1[-1]\n",
        "  inicial1=zf_1\n",
        "#-------------------------------------------------------------------------------\n",
        "\n",
        "  muertes_1=muertes_1+zf_1[-1]\n",
        "  total_celulas_1= sum(inicial1)+muertes_1 \n",
        "  fraccion_viables_1= (sum(inicial1)-inicial1[-1])/total_celulas_1\n",
        "  fraccion.append(fraccion_viables_1)\n",
        "  r_1=inicial1[0]-muertes_1 \n",
        "#-------------------------------------------------------------------------------\n",
        "  total_1=sum(inicial1)\n",
        "  suma_1.append(total_1)\n",
        "#-------------------------------------------------------------------------------\n",
        "  print(inicial1)\n",
        "  #print('s',s)\n",
        "  #print('time',t)\n",
        "  #print('time list',tr)\n",
        "  print('Non-viable cells', muertes_1)\n",
        "  #print('growth rate', r)\n",
        "  #print('viable cells', total)\n",
        "  #print('total of population',total_celulas)\n",
        "  #print('fraction of viable cells',fraccion_viables)\n",
        "  #print('list of viable cells fraction',fraccion)\n",
        "  print('---------------')\n",
        "#-------------------------------------------------------------------------------\n",
        "print(len(inicial1))\n",
        "tiempo_final = time()\n",
        "tiempo_ejecucion = tiempo_final - tiempo_inicial\n",
        "print('tiempo de ejecucion',tiempo_ejecucion)"
      ],
      "execution_count": 16,
      "outputs": [
        {
          "output_type": "stream",
          "text": [
            "[131  65  28  17   9   7   1   2   1   1   0   0   0   0   0   0   0   0\n",
            "   0]\n",
            "Non-viable cells 0\n",
            "---------------\n",
            "[262 131  65  28  17   9   7   1   2   1   1   0   0   0   0   0   0   0\n",
            "   0]\n",
            "Non-viable cells 0\n",
            "---------------\n",
            "[524 262 131  65  28  17   9   7   1   2   1   1   0   0   0   0   0   0\n",
            "   0]\n",
            "Non-viable cells 0\n",
            "---------------\n",
            "[1048  524  262  131   65   28   17    9    7    1    2    1    1    0\n",
            "    0    0    0    0    0]\n",
            "Non-viable cells 0\n",
            "---------------\n",
            "[2096 1048  524  262  131   65   28   17    9    7    1    2    1    1\n",
            "    0    0    0    0    0]\n",
            "Non-viable cells 0\n",
            "---------------\n",
            "[4192 2096 1048  524  262  131   65   28   17    9    7    1    2    1\n",
            "    1    0    0    0    0]\n",
            "Non-viable cells 0\n",
            "---------------\n",
            "[8384 4192 2096 1048  524  262  131   65   28   17    9    7    1    2\n",
            "    1    1    0    0    0]\n",
            "Non-viable cells 0\n",
            "---------------\n",
            "[16768  8384  4192  2096  1048   524   262   131    65    28    17     9\n",
            "     7     1     2     1     1     0     0]\n",
            "Non-viable cells 0\n",
            "---------------\n",
            "[33536 16768  8384  4192  2096  1048   524   262   131    65    28    17\n",
            "     9     7     1     2     1     1     0]\n",
            "Non-viable cells 0\n",
            "---------------\n",
            "[67072 33536 16768  8384  4192  2096  1048   524   262   131    65    28\n",
            "    17     9     7     1     2     1     1]\n",
            "Non-viable cells 1\n",
            "---------------\n",
            "19\n",
            "tiempo de ejecucion 0.013010740280151367\n"
          ],
          "name": "stdout"
        }
      ]
    },
    {
      "cell_type": "code",
      "metadata": {
        "colab": {
          "base_uri": "https://localhost:8080/"
        },
        "id": "EZZzawLalnxC",
        "outputId": "f203f5b2-5536-4be7-d458-23c9267128fc"
      },
      "source": [
        "edad=[]#Ages\n",
        "ind=-1\n",
        "for i in range(len(inicial1)):\n",
        "  ind=ind+1\n",
        "  edad.append(ind)\n",
        "print('Age',edad)"
      ],
      "execution_count": 17,
      "outputs": [
        {
          "output_type": "stream",
          "text": [
            "Age [0, 1, 2, 3, 4, 5, 6, 7, 8, 9, 10, 11, 12, 13, 14, 15, 16, 17, 18]\n"
          ],
          "name": "stdout"
        }
      ]
    },
    {
      "cell_type": "code",
      "metadata": {
        "colab": {
          "base_uri": "https://localhost:8080/",
          "height": 295
        },
        "id": "2iz_lHNvkMKU",
        "outputId": "f8fda10e-8113-4d12-8bd0-d991826ead58"
      },
      "source": [
        "fig, ax = plt.subplots()\n",
        "ax.set_ylabel('Number of cells')\n",
        "ax.set_xlabel('Age')\n",
        "ax.set_title('Age Distribution ')\n",
        "plt.bar(edad, inicial1)\n",
        "plt.show()"
      ],
      "execution_count": 18,
      "outputs": [
        {
          "output_type": "display_data",
          "data": {
            "image/png": "[encoded data removed]",
            "text/plain": [
              "<Figure size 432x288 with 1 Axes>"
            ]
          },
          "metadata": {
            "tags": [],
            "needs_background": "light"
          }
        }
      ]
    },
    {
      "cell_type": "code",
      "metadata": {
        "colab": {
          "base_uri": "https://localhost:8080/"
        },
        "id": "hDdMOLFWnKFu",
        "outputId": "c0b46367-aec9-47be-cd49-0966282354e8"
      },
      "source": [
        "#probability \n",
        "P_1=[]  \n",
        "for ii in inicial1:\n",
        "  p_1=ii/total_celulas_1  \n",
        "  P_1.append(p_1)\n",
        "print(P_1)"
      ],
      "execution_count": 19,
      "outputs": [
        {
          "output_type": "stream",
          "text": [
            "[0.49999627268999963, 0.24999813634499982, 0.12499906817249991, 0.062499534086249954, 0.031249767043124977, 0.015624883521562489, 0.007812441760781244, 0.003906220880390622, 0.001953110440195311, 0.0009765552200976555, 0.00048455030004845504, 0.00020872936002087292, 0.00012672854001267287, 6.709158000670916e-05, 5.218234000521823e-05, 7.454620000745462e-06, 1.4909240001490924e-05, 7.454620000745462e-06, 7.454620000745462e-06]\n"
          ],
          "name": "stdout"
        }
      ]
    },
    {
      "cell_type": "code",
      "metadata": {
        "colab": {
          "base_uri": "https://localhost:8080/"
        },
        "id": "-PG97kXwnqvc",
        "outputId": "9d8512a3-0320-45bc-ab5d-0c4a350020c1"
      },
      "source": [
        "#second sample, the number is the number of cells that was studied \n",
        "n_cell=180\n",
        "sample_1= random.choices(edad,weights=P_1,k=n_cell) \n",
        "print(sample_1)"
      ],
      "execution_count": 20,
      "outputs": [
        {
          "output_type": "stream",
          "text": [
            "[0, 1, 1, 0, 0, 5, 0, 1, 1, 5, 0, 0, 1, 0, 1, 1, 1, 1, 1, 0, 3, 0, 0, 2, 2, 0, 0, 2, 0, 0, 7, 0, 1, 0, 4, 2, 1, 0, 2, 1, 1, 0, 0, 1, 0, 4, 0, 1, 0, 1, 0, 0, 0, 2, 2, 4, 0, 0, 0, 1, 2, 1, 2, 2, 0, 0, 2, 0, 4, 0, 0, 0, 1, 0, 0, 0, 0, 2, 1, 0, 1, 1, 0, 1, 3, 1, 0, 0, 0, 1, 1, 0, 2, 1, 2, 0, 0, 2, 0, 0, 2, 6, 0, 1, 1, 1, 2, 0, 3, 0, 0, 0, 0, 0, 3, 0, 4, 0, 1, 3, 0, 0, 1, 2, 0, 0, 1, 4, 0, 2, 6, 1, 0, 0, 0, 1, 0, 1, 0, 0, 3, 4, 0, 0, 2, 1, 0, 0, 0, 0, 2, 0, 1, 0, 1, 1, 1, 1, 2, 1, 2, 2, 0, 1, 4, 0, 0, 0, 0, 0, 1, 0, 1, 0, 2, 0, 0, 2, 2, 2]\n"
          ],
          "name": "stdout"
        }
      ]
    },
    {
      "cell_type": "code",
      "metadata": {
        "colab": {
          "base_uri": "https://localhost:8080/"
        },
        "id": "lk0Xk82YVZWJ",
        "outputId": "dbe6ea5c-81b4-4f0b-c3d8-d5c769ebebc2"
      },
      "source": [
        "Dic_1= coll.Counter(sample_1)\n",
        "valores_1=Dic_1.values()\n",
        "llaves_1=Dic_1.keys()\n",
        "Ncell_1=[]\n",
        "Edad_1=[]\n",
        "for i in valores_1:\n",
        "  Ncell_1.append(i)\n",
        "print('Number of cells',Ncell_1)\n",
        "for j in llaves_1:\n",
        "  Edad_1.append(j)\n",
        "print('Ages',Edad_1)\n",
        "print(sum(Ncell_1))"
      ],
      "execution_count": 21,
      "outputs": [
        {
          "output_type": "stream",
          "text": [
            "Number of cells [86, 47, 2, 6, 28, 1, 8, 2]\n",
            "Ages [0, 1, 5, 3, 2, 7, 4, 6]\n",
            "180\n"
          ],
          "name": "stdout"
        }
      ]
    },
    {
      "cell_type": "code",
      "metadata": {
        "colab": {
          "base_uri": "https://localhost:8080/",
          "height": 295
        },
        "id": "LT3l6BgeS-xg",
        "outputId": "0cf9b6e0-031c-42b2-c0ec-23bd606a1dd6"
      },
      "source": [
        "fig, ax = plt.subplots() # coloca los letreros  \n",
        "ax.set_ylabel('Number of cells')\n",
        "ax.set_xlabel('Age')\n",
        "ax.set_title('Final age distribution ')\n",
        "plt.bar(Edad_1, Ncell_1)\n",
        "plt.show()"
      ],
      "execution_count": 22,
      "outputs": [
        {
          "output_type": "display_data",
          "data": {
            "image/png": "[encoded data removed]",
            "text/plain": [
              "<Figure size 432x288 with 1 Axes>"
            ]
          },
          "metadata": {
            "tags": [],
            "needs_background": "light"
          }
        }
      ]
    },
    {
      "cell_type": "markdown",
      "metadata": {
        "id": "XjREmh0HYOCi"
      },
      "source": [
        "\n",
        "\n",
        "---\n",
        "\n",
        "\n",
        "\n",
        "---\n",
        "\n"
      ]
    },
    {
      "cell_type": "code",
      "metadata": {
        "colab": {
          "base_uri": "https://localhost:8080/"
        },
        "id": "vN2OTiBuYPtD",
        "outputId": "6573fcb3-9157-45f3-e971-29020b87b102"
      },
      "source": [
        "#Percentage of ages within the distribution \n",
        "per_cell=[]\n",
        "for i in range(len(Edad_1)):\n",
        "  per_c=(Ncell_1[i]*100)/180\n",
        "  per_cell.append(per_c)\n",
        "print(per_cell)\n",
        "print(Edad_1)"
      ],
      "execution_count": 23,
      "outputs": [
        {
          "output_type": "stream",
          "text": [
            "[47.77777777777778, 26.11111111111111, 1.1111111111111112, 3.3333333333333335, 15.555555555555555, 0.5555555555555556, 4.444444444444445, 1.1111111111111112]\n",
            "[0, 1, 5, 3, 2, 7, 4, 6]\n"
          ],
          "name": "stdout"
        }
      ]
    },
    {
      "cell_type": "markdown",
      "metadata": {
        "id": "KkUHagK0hUYz"
      },
      "source": [
        "\n",
        "\n",
        "---\n",
        "\n",
        "\n",
        "\n",
        "---\n",
        "\n"
      ]
    },
    {
      "cell_type": "markdown",
      "metadata": {
        "id": "WKHn93MiPq-x"
      },
      "source": [
        "# Data "
      ]
    },
    {
      "cell_type": "code",
      "metadata": {
        "id": "Scr_Q_i8Pnt6"
      },
      "source": [
        "x=[0,11,12,13,14,15,16,17,18,19,21,25,26,27,28,35] # units are in hours\n",
        "y=[1,1,1,1,1,0.96,0.79,0.58,0.51,0.40,0.34,0,0,0,0,0]# units are in OD"
      ],
      "execution_count": 24,
      "outputs": []
    },
    {
      "cell_type": "code",
      "metadata": {
        "colab": {
          "base_uri": "https://localhost:8080/",
          "height": 331
        },
        "id": "ASjNHoaVQP3i",
        "outputId": "41a2cc18-5d9e-4ea5-9797-d11ed1251d78"
      },
      "source": [
        "#fit \n",
        "xa=np.array(x)\n",
        "ya=np.array(y)\n",
        "def fsigmoid(x,a,b):\n",
        "  return np.exp(a+b*x)/( 1+ np.exp(a+b*x))\n",
        "xdata = np.linspace(0, 35, 35)\n",
        "ydata = np.random.normal(size=len(xdata))\n",
        "popt, pcov = curve_fit(fsigmoid, xa, ya)\n",
        "a=curve_fit(fsigmoid,xa,ya)\n",
        "print('popt',popt,'pcov', pcov)\n",
        "plt.figure()\n",
        "plt.plot(xa, fsigmoid(xa, *popt), 'r-', label='fit')\n",
        "plt.plot(x,y)\n",
        "plt.title('RLS')\n",
        "plt.ylabel('Fraction of viable cells ')\n",
        "plt.xlabel('Generations')\n",
        "plt.legend(loc=4)\n",
        "plt.plot(xa, ya, 'b-', label='data')\n",
        "plt.show()"
      ],
      "execution_count": 25,
      "outputs": [
        {
          "output_type": "stream",
          "text": [
            "popt [10.01643518 -0.54299728] pcov [[ 1.54072518 -0.08542983]\n",
            " [-0.08542983  0.00478655]]\n"
          ],
          "name": "stdout"
        },
        {
          "output_type": "display_data",
          "data": {
            "image/png": "[encoded data removed]",
            "text/plain": [
              "<Figure size 432x288 with 1 Axes>"
            ]
          },
          "metadata": {
            "tags": [],
            "needs_background": "light"
          }
        }
      ]
    },
    {
      "cell_type": "markdown",
      "metadata": {
        "id": "xO1V4P3TTkUu"
      },
      "source": [
        "\n",
        "\n",
        "---\n",
        "\n"
      ]
    },
    {
      "cell_type": "markdown",
      "metadata": {
        "id": "tjxvBkYlBojq"
      },
      "source": [
        "# RLS simulation \n"
      ]
    },
    {
      "cell_type": "code",
      "metadata": {
        "colab": {
          "base_uri": "https://localhost:8080/"
        },
        "id": "oxwKgsaGBptH",
        "outputId": "e8b897a8-8750-4876-a10f-8a7aae5a5da0"
      },
      "source": [
        "R=[] \n",
        "for i in range(n_cell):\n",
        "  r=random.random()\n",
        "  R.append(r)\n",
        "print(R)\n",
        "print(len(R))"
      ],
      "execution_count": 26,
      "outputs": [
        {
          "output_type": "stream",
          "text": [
            "[0.3057055487733138, 0.7243352664082897, 0.2402847060721489, 0.550324288461733, 0.4317876085528878, 0.5003597112344285, 0.23165341269094364, 0.10588218937176841, 0.3115761587701481, 0.9613628523978152, 0.9989619626810107, 0.8783777380669577, 0.13938147649999466, 0.45891795782496847, 0.7254379134519813, 0.4923516233367278, 0.06497899353939174, 0.6299288867161749, 0.9885544164370437, 0.4586064997897301, 0.9139531359117847, 0.3487156796479388, 0.2363637430169787, 0.2733982042591889, 0.2775141516706906, 0.8800521723544986, 0.5474586156461739, 0.5175613624718284, 0.5174190904186904, 0.9739747471764997, 0.8104480933314885, 0.3923663847898736, 0.49637359630532074, 0.9732884589176034, 0.8156182705870021, 0.47413356939092144, 0.6009377136822389, 0.46023819491195794, 0.5146000113238725, 0.36925485100556776, 0.530101029636276, 0.07643255122772186, 0.49287204535779705, 0.49356521587310853, 0.6365606389833283, 0.7340169157950636, 0.5946172621645025, 0.14402706354080563, 0.21304510133880683, 0.0777590857055731, 0.3755142565578311, 0.24186876233516907, 0.6734974507975349, 0.9419341168028798, 0.380164795058052, 0.559697768665624, 0.0058270930688040234, 0.6998210140675067, 0.8562351938792216, 0.1117128507823254, 0.6794982894023417, 0.17870117222943305, 0.7561531487423262, 0.7922313644897566, 0.7685305977776813, 0.7112881168608107, 0.2546752182810892, 0.7499843734460679, 0.5159949313170632, 0.6249282801178938, 0.6819330707195962, 0.35812474535164707, 0.5988639481583267, 0.7011461131832377, 0.014012983116810984, 0.45546278015461816, 0.8143201771016073, 0.7884656828843367, 0.4295500935125176, 0.6598073286590694, 0.8775145409837906, 0.04630617459176134, 0.7774206256548813, 0.4008380018129041, 0.07813338421685467, 0.763093230795699, 0.4776945560267333, 0.4436642081066895, 0.20977733767180284, 0.882001224658946, 0.5579207710794959, 0.8180716830139668, 0.8233322111348449, 0.08424757672061856, 0.4862016256599452, 0.09239337285385452, 0.07603375452544314, 0.2766461352353974, 0.27474776348398144, 0.7862712902559094, 0.680268895935853, 0.37939918786618465, 0.20381002318482877, 0.7989889562519974, 0.6396493685136085, 0.5146525128251282, 0.5272491485899662, 0.1740388553081228, 0.2771215340568123, 0.7412720937662763, 0.99284549073155, 0.5510464738108695, 0.6830386123815566, 0.8008019950479996, 0.4547004043053614, 0.022470202414230145, 0.26569743082342934, 0.3798661007077687, 0.6401535470377244, 0.05378103150748215, 0.9576386817978976, 0.24750663630106595, 0.41538228639048735, 0.41816898740630426, 0.27406997875109895, 0.7300388613632407, 0.31570184948490587, 0.00829109761529545, 0.6466190007199244, 0.7374649593000207, 0.8048125851685158, 0.6502336875619413, 0.8196099615925286, 0.8341472607548297, 0.8014078818336603, 0.5622457302154465, 0.6628983235324563, 0.7212107640561527, 0.7906481939920459, 0.5660529574268075, 0.8415057542031095, 0.19031303677844835, 0.3566389888515865, 0.7374291692893424, 0.962653754195269, 0.46288852573465245, 0.7500256711590294, 0.9563981267873674, 0.5646260175466198, 0.6822666221801339, 0.43695041875459795, 0.035770798878515864, 0.580959258366614, 0.953508020293246, 0.5830414845066062, 0.23154958693367012, 0.31131253395934766, 0.30939517318672716, 0.8080903196636462, 0.8264560829032966, 0.014851842089385614, 0.4863213261510183, 0.1673170074017788, 0.08476115406846896, 0.42877724127601724, 0.7645414389871114, 0.24597527348067616, 0.09047116897553897, 0.9973065257292961, 0.3101034942676896, 0.595086237793769, 0.3722295287144729, 0.3941569332303292, 0.7000461367629354, 0.13866220841823607, 0.07440128613095942, 0.10969238700335282, 0.43779533632617085, 0.26363326183783353, 0.34001388649784414]\n",
            "180\n"
          ],
          "name": "stdout"
        }
      ]
    },
    {
      "cell_type": "markdown",
      "metadata": {
        "id": "rql_sEsKFjUe"
      },
      "source": [
        "Equation used for simulation\n",
        "$$f(x)=\\frac{ln\\left ( \\frac{1-x}{x} \\right )-a}{b}$$"
      ]
    },
    {
      "cell_type": "code",
      "metadata": {
        "colab": {
          "base_uri": "https://localhost:8080/"
        },
        "id": "kI2tPbVYBsep",
        "outputId": "45c5f816-de79-46a2-ece8-fa18ac379751"
      },
      "source": [
        "p=[]\n",
        "def inversa(x,a,b):\n",
        "  return (np.log((1-x)/x)-a)/b\n",
        "for i in R:\n",
        "  p1= inversa(i,popt[0],popt[1])\n",
        "  p.append(p1)\n",
        "print(p)"
      ],
      "execution_count": 27,
      "outputs": [
        {
          "output_type": "stream",
          "text": [
            "[16.93592525702995, 20.22570734692431, 16.326630344874058, 18.81854021817761, 17.940925340067583, 18.449215732076414, 16.238454362725598, 14.517429330209486, 16.986593787269314, 24.365817860124867, 31.097430240557614, 22.087756684887633, 15.09399530089966, 18.143250465374035, 20.235889918681192, 18.390219602003416, 13.53585082165937, 19.426150461566614, 26.65772991711852, 18.140940390022635, 22.798129517793235, 17.296119323872546, 16.28685037485357, 16.64646623427474, 16.684446776609455, 22.116794795235208, 18.797226330658866, 18.575985263424396, 18.57493592958544, 25.117534914291845, 21.122314832527913, 17.641081154139396, 18.419851470409426, 25.068302130432333, 21.184955697273015, 18.25585009161708, 19.20048088152584, 18.153040005032565, 18.554147761065323, 17.4605299701758, 18.66857419633171, 13.857527919118663, 18.39405413847408, 18.399161332768447, 19.478739067239527, 20.316003184390603, 19.15206905290445, 15.164344084925464, 16.040168878843662, 13.891863416490233, 17.509853927155977, 16.342575215630138, 19.779991467292056, 23.578004196214234, 17.546287348626972, 18.88843839623767, 8.981706625465355, 20.005405554703646, 21.73270836234265, 14.628198172561296, 19.83049015093278, 15.637763570426165, 20.53074496411598, 20.9114554889032, 20.656581910834333, 20.107068378309037, 16.468966714093547, 20.46964960299613, 18.5644331004889, 19.38675409705509, 19.851121163267482, 17.371951694381153, 19.184569216166363, 20.017036971890935, 10.612900716490506, 18.11760976392277, 21.169102217496874, 20.869601315497757, 17.924119481817353, 19.666527316105856, 22.072921447272517, 12.875511579026075, 20.74988825030664, 17.706277403526027, 13.901454547536298, 20.600745249515366, 18.28214329492348, 18.029797591293097, 16.00407103119971, 22.15103968975632, 18.875164461144895, 21.215156590739987, 21.280997601519854, 14.052462452963344, 18.344894104520566, 14.238891453766973, 13.847098777541447, 16.676466186511217, 16.658958343560855, 20.84546260231688, 19.83701082799882, 17.54030144500674, 15.937069894434876, 20.98799165157966, 19.503371623525787, 18.554534845623103, 18.647496375647084, 15.578652575120147, 16.68083893857926, 20.385048540323684, 27.53101693518542, 18.823915447529945, 19.86051668808325, 21.008852007093285, 18.111948012304797, 11.498393619884343, 16.57443319458649, 17.54395256172462, 19.50740113388245, 13.165594411894725, 24.189200364853935, 16.398756804543403, 17.81717255262339, 17.838285848097975, 16.65268925821231, 20.278655647573185, 17.021889426947677, 9.635753407154905, 19.55929791942012, 20.34866384855483, 21.055509420315705, 19.58849899990684, 21.234254229259, 21.421368411891482, 21.01585495164826, 18.90749136988537, 19.691944195033823, 20.1969896718074, 20.89379176128312, 18.936006911422854, 21.521120082801648, 15.779927471583632, 17.36003749225612, 20.348323427477528, 24.43087099694422, 18.172679826965837, 20.470055235631992, 24.133655437399902, 18.925312698395434, 19.853954032516572, 17.97962442310572, 12.379874162957844, 19.048249364734815, 24.0098865939035, 19.064012107776048, 16.237379929128284, 16.984329825215138, 16.967832111453205, 21.09418318550794, 21.32082722940638, 10.721539900272793, 18.345776546742677, 15.491186951089738, 14.064688160589725, 17.91830963942244, 20.615529417320857, 16.383582949453164, 14.19627674477618, 29.33838146730241, 16.973933313923908, 19.15565273886114, 17.48401241997576, 17.654901087538786, 20.007379555883933, 15.08292858412636, 13.803876833791806, 14.590401005878546, 17.985947730353434, 16.554900274585805, 17.225137453053634]\n"
          ],
          "name": "stdout"
        }
      ]
    },
    {
      "cell_type": "markdown",
      "metadata": {
        "id": "wypgQX1JRcBB"
      },
      "source": [
        "The next part is for separate the elements into the list *p* taking into a count the age distribution sample. \\\n",
        "As in each run of the code the age distribution change. The number  of lists needed changes varies, so it is posibble that present error when the numer of ages is grater or less that the numbers of lists p_() so, please only coment the line the error occurs and check in the line of print if the number of the sume is n_cell or 180. "
      ]
    },
    {
      "cell_type": "code",
      "metadata": {
        "colab": {
          "base_uri": "https://localhost:8080/"
        },
        "id": "G3k_SraYM0AQ",
        "outputId": "25a9c351-57fe-449e-f5c3-0b683cd031bd"
      },
      "source": [
        "p_1=p[0:Ncell_1[0]]\n",
        "p_2=p[Ncell_1[0]:Ncell_1[1]+Ncell_1[0]]\n",
        "p_3=p[Ncell_1[1]+Ncell_1[0]:(Ncell_1[2]+Ncell_1[1]+Ncell_1[0])]\n",
        "p_4=p[(Ncell_1[2]+Ncell_1[1]+Ncell_1[0]):(Ncell_1[2]+Ncell_1[1]+Ncell_1[3]+Ncell_1[0])]\n",
        "p_5=p[(Ncell_1[2]+Ncell_1[1]+Ncell_1[3]+Ncell_1[0]):(Ncell_1[2]+Ncell_1[1]+Ncell_1[3]+Ncell_1[4]+Ncell_1[0])]\n",
        "p_6=p[(Ncell_1[2]+Ncell_1[1]+Ncell_1[3]+Ncell_1[4]+Ncell_1[0]):(Ncell_1[2]+Ncell_1[1]+Ncell_1[3]+Ncell_1[4]+Ncell_1[5]+Ncell_1[0])]\n",
        "p_7=p[(Ncell_1[2]+Ncell_1[1]+Ncell_1[3]+Ncell_1[4]+Ncell_1[5]+Ncell_1[0]):(Ncell_1[2]+Ncell_1[1]+Ncell_1[3]+Ncell_1[4]+Ncell_1[5]+Ncell_1[6]+Ncell_1[0])]\n",
        "p_8=p[(Ncell_1[2]+Ncell_1[1]+Ncell_1[3]+Ncell_1[4]+Ncell_1[5]+Ncell_1[6]+Ncell_1[0]):(Ncell_1[2]+Ncell_1[1]+Ncell_1[3]+Ncell_1[4]+Ncell_1[5]+Ncell_1[6]+Ncell_1[0]+Ncell_1[7])]\n",
        "#p_9=p[(Ncell_1[2]+Ncell_1[1]+Ncell_1[3]+Ncell_1[4]+Ncell_1[5]+Ncell_1[6]+Ncell_1[0]+Ncell_1[7]):(Ncell_1[2]+Ncell_1[1]+Ncell_1[3]+Ncell_1[4]+Ncell_1[5]+Ncell_1[6]+Ncell_1[0]+Ncell_1[7]+Ncell_1[8])]\n",
        "print(len(p_6)+len(p_5)+len(p_4)+len(p_3)+len(p_2)+len(p_1)+len(p_7)+len(p_8))#+len(p_9))"
      ],
      "execution_count": 29,
      "outputs": [
        {
          "output_type": "stream",
          "text": [
            "180\n"
          ],
          "name": "stdout"
        }
      ]
    },
    {
      "cell_type": "markdown",
      "metadata": {
        "id": "ehQUj-u2AdD4"
      },
      "source": [
        "Then we subtract to the numbers given in the list *p*, the number of age in each part. "
      ]
    },
    {
      "cell_type": "code",
      "metadata": {
        "colab": {
          "base_uri": "https://localhost:8080/"
        },
        "id": "2hUvlDVQR_tm",
        "outputId": "185384e7-70f5-4a78-8e51-5e20f0e36bef"
      },
      "source": [
        "dp_1=[]\n",
        "for i in range(len(p_1)):\n",
        "  d=p_1[i]-Edad_1[0]\n",
        "  dp_1.append(d)\n",
        "print(dp_1)\n",
        "len(dp_1)"
      ],
      "execution_count": 30,
      "outputs": [
        {
          "output_type": "stream",
          "text": [
            "[16.93592525702995, 20.22570734692431, 16.326630344874058, 18.81854021817761, 17.940925340067583, 18.449215732076414, 16.238454362725598, 14.517429330209486, 16.986593787269314, 24.365817860124867, 31.097430240557614, 22.087756684887633, 15.09399530089966, 18.143250465374035, 20.235889918681192, 18.390219602003416, 13.53585082165937, 19.426150461566614, 26.65772991711852, 18.140940390022635, 22.798129517793235, 17.296119323872546, 16.28685037485357, 16.64646623427474, 16.684446776609455, 22.116794795235208, 18.797226330658866, 18.575985263424396, 18.57493592958544, 25.117534914291845, 21.122314832527913, 17.641081154139396, 18.419851470409426, 25.068302130432333, 21.184955697273015, 18.25585009161708, 19.20048088152584, 18.153040005032565, 18.554147761065323, 17.4605299701758, 18.66857419633171, 13.857527919118663, 18.39405413847408, 18.399161332768447, 19.478739067239527, 20.316003184390603, 19.15206905290445, 15.164344084925464, 16.040168878843662, 13.891863416490233, 17.509853927155977, 16.342575215630138, 19.779991467292056, 23.578004196214234, 17.546287348626972, 18.88843839623767, 8.981706625465355, 20.005405554703646, 21.73270836234265, 14.628198172561296, 19.83049015093278, 15.637763570426165, 20.53074496411598, 20.9114554889032, 20.656581910834333, 20.107068378309037, 16.468966714093547, 20.46964960299613, 18.5644331004889, 19.38675409705509, 19.851121163267482, 17.371951694381153, 19.184569216166363, 20.017036971890935, 10.612900716490506, 18.11760976392277, 21.169102217496874, 20.869601315497757, 17.924119481817353, 19.666527316105856, 22.072921447272517, 12.875511579026075, 20.74988825030664, 17.706277403526027, 13.901454547536298, 20.600745249515366]\n"
          ],
          "name": "stdout"
        },
        {
          "output_type": "execute_result",
          "data": {
            "text/plain": [
              "86"
            ]
          },
          "metadata": {
            "tags": []
          },
          "execution_count": 30
        }
      ]
    },
    {
      "cell_type": "code",
      "metadata": {
        "colab": {
          "base_uri": "https://localhost:8080/"
        },
        "id": "zYtf3e1ES6IA",
        "outputId": "cefe7de4-e845-47ee-9ef0-121a83401258"
      },
      "source": [
        "dp_2=[]\n",
        "for i in range(len(p_2)):\n",
        "  d=p_2[i]-Edad_1[1]\n",
        "  dp_2.append(d)\n",
        "print(dp_2)\n",
        "len(dp_2)"
      ],
      "execution_count": 31,
      "outputs": [
        {
          "output_type": "stream",
          "text": [
            "[17.28214329492348, 17.029797591293097, 15.004071031199711, 21.15103968975632, 17.875164461144895, 20.215156590739987, 20.280997601519854, 13.052462452963344, 17.344894104520566, 13.238891453766973, 12.847098777541447, 15.676466186511217, 15.658958343560855, 19.84546260231688, 18.83701082799882, 16.54030144500674, 14.937069894434876, 19.98799165157966, 18.503371623525787, 17.554534845623103, 17.647496375647084, 14.578652575120147, 15.68083893857926, 19.385048540323684, 26.53101693518542, 17.823915447529945, 18.86051668808325, 20.008852007093285, 17.111948012304797, 10.498393619884343, 15.57443319458649, 16.54395256172462, 18.50740113388245, 12.165594411894725, 23.189200364853935, 15.398756804543403, 16.81717255262339, 16.838285848097975, 15.652689258212309, 19.278655647573185, 16.021889426947677, 8.635753407154905, 18.55929791942012, 19.34866384855483, 20.055509420315705, 18.58849899990684, 20.234254229259]\n"
          ],
          "name": "stdout"
        },
        {
          "output_type": "execute_result",
          "data": {
            "text/plain": [
              "47"
            ]
          },
          "metadata": {
            "tags": []
          },
          "execution_count": 31
        }
      ]
    },
    {
      "cell_type": "code",
      "metadata": {
        "colab": {
          "base_uri": "https://localhost:8080/"
        },
        "id": "a5n9k0CBS8jq",
        "outputId": "c503a67e-c670-400e-ca71-88cad5d1d06d"
      },
      "source": [
        "dp_3=[]\n",
        "for i in range(len(p_3)):\n",
        "  d=p_3[i]-Edad_1[2]\n",
        "  dp_3.append(d)\n",
        "print(dp_3)\n",
        "len(dp_3)"
      ],
      "execution_count": 32,
      "outputs": [
        {
          "output_type": "stream",
          "text": [
            "[16.421368411891482, 16.01585495164826]\n"
          ],
          "name": "stdout"
        },
        {
          "output_type": "execute_result",
          "data": {
            "text/plain": [
              "2"
            ]
          },
          "metadata": {
            "tags": []
          },
          "execution_count": 32
        }
      ]
    },
    {
      "cell_type": "code",
      "metadata": {
        "colab": {
          "base_uri": "https://localhost:8080/"
        },
        "id": "VQJ758dvTJYn",
        "outputId": "2b15c73b-aeba-4c9e-f999-3cfe412e8e51"
      },
      "source": [
        "dp_4=[]\n",
        "for i in range(len(p_4)):\n",
        "  d=p_4[i]-Edad_1[3]\n",
        "  dp_4.append(d)\n",
        "#dp_4=[dp_3-Edad[3]]\n",
        "print(dp_4)\n",
        "len(dp_4)"
      ],
      "execution_count": 33,
      "outputs": [
        {
          "output_type": "stream",
          "text": [
            "[15.90749136988537, 16.691944195033823, 17.1969896718074, 17.89379176128312, 15.936006911422854, 18.521120082801648]\n"
          ],
          "name": "stdout"
        },
        {
          "output_type": "execute_result",
          "data": {
            "text/plain": [
              "6"
            ]
          },
          "metadata": {
            "tags": []
          },
          "execution_count": 33
        }
      ]
    },
    {
      "cell_type": "code",
      "metadata": {
        "colab": {
          "base_uri": "https://localhost:8080/"
        },
        "id": "s8MQnvAOTSDY",
        "outputId": "1683931e-d226-4720-9187-2d7c2206df75"
      },
      "source": [
        "dp_5=[]\n",
        "for i in range(len(p_5)):\n",
        "  d=p_5[i]-Edad_1[4]\n",
        "  dp_5.append(d)\n",
        "print(dp_5)\n",
        "len(dp_5)"
      ],
      "execution_count": 34,
      "outputs": [
        {
          "output_type": "stream",
          "text": [
            "[13.779927471583632, 15.360037492256119, 18.348323427477528, 22.43087099694422, 16.172679826965837, 18.470055235631992, 22.133655437399902, 16.925312698395434, 17.853954032516572, 15.979624423105719, 10.379874162957844, 17.048249364734815, 22.0098865939035, 17.064012107776048, 14.237379929128284, 14.984329825215138, 14.967832111453205, 19.09418318550794, 19.32082722940638, 8.721539900272793, 16.345776546742677, 13.491186951089738, 12.064688160589725, 15.91830963942244, 18.615529417320857, 14.383582949453164, 12.19627674477618, 27.33838146730241]\n"
          ],
          "name": "stdout"
        },
        {
          "output_type": "execute_result",
          "data": {
            "text/plain": [
              "28"
            ]
          },
          "metadata": {
            "tags": []
          },
          "execution_count": 34
        }
      ]
    },
    {
      "cell_type": "code",
      "metadata": {
        "colab": {
          "base_uri": "https://localhost:8080/"
        },
        "id": "goADsN_3TT4g",
        "outputId": "ff959e67-cceb-44c0-d561-b7cff8136db0"
      },
      "source": [
        "dp_6=[]\n",
        "for i in range(len(p_6)):\n",
        "  d=p_6[i]-Edad_1[5]\n",
        "  dp_6.append(d)\n",
        "print(dp_6)\n",
        "len(dp_6)"
      ],
      "execution_count": 35,
      "outputs": [
        {
          "output_type": "stream",
          "text": [
            "[9.973933313923908]\n"
          ],
          "name": "stdout"
        },
        {
          "output_type": "execute_result",
          "data": {
            "text/plain": [
              "1"
            ]
          },
          "metadata": {
            "tags": []
          },
          "execution_count": 35
        }
      ]
    },
    {
      "cell_type": "code",
      "metadata": {
        "colab": {
          "base_uri": "https://localhost:8080/"
        },
        "id": "bxtg0UX9TV0A",
        "outputId": "800b91a1-77e5-4835-89b1-1382ac5a57e3"
      },
      "source": [
        "dp_7=[]\n",
        "for i in range(len(p_7)):\n",
        "  d=p_7[i]-Edad_1[6]\n",
        "  dp_7.append(d)\n",
        "print(dp_7)\n",
        "len(dp_7)"
      ],
      "execution_count": 36,
      "outputs": [
        {
          "output_type": "stream",
          "text": [
            "[15.15565273886114, 13.484012419975759, 13.654901087538786, 16.007379555883933, 11.08292858412636, 9.803876833791806, 10.590401005878546, 13.985947730353434]\n"
          ],
          "name": "stdout"
        },
        {
          "output_type": "execute_result",
          "data": {
            "text/plain": [
              "8"
            ]
          },
          "metadata": {
            "tags": []
          },
          "execution_count": 36
        }
      ]
    },
    {
      "cell_type": "code",
      "metadata": {
        "colab": {
          "base_uri": "https://localhost:8080/"
        },
        "id": "LPPAsjLOTX1Y",
        "outputId": "51d43f24-87b5-44d1-828e-dab73f50f6b1"
      },
      "source": [
        "dp_8=[]\n",
        "for i in range(len(p_8)):\n",
        "  d=p_8[i]-Edad_1[7]\n",
        "  dp_8.append(d)\n",
        "print(dp_8)\n",
        "print(Edad_1[7])\n",
        "len(dp_8)"
      ],
      "execution_count": 37,
      "outputs": [
        {
          "output_type": "stream",
          "text": [
            "[10.554900274585805, 11.225137453053634]\n",
            "6\n"
          ],
          "name": "stdout"
        },
        {
          "output_type": "execute_result",
          "data": {
            "text/plain": [
              "2"
            ]
          },
          "metadata": {
            "tags": []
          },
          "execution_count": 37
        }
      ]
    },
    {
      "cell_type": "code",
      "metadata": {
        "id": "W6W8xWlDTajo"
      },
      "source": [
        "dp_9=[]\n",
        "for i in range(len(p_9)):\n",
        "  d=p_9[i]-Edad_1[8]\n",
        "  dp_9.append(d)\n",
        "print(dp_9)\n",
        "len(dp_9)"
      ],
      "execution_count": null,
      "outputs": []
    },
    {
      "cell_type": "markdown",
      "metadata": {
        "id": "9ZetkgmZA55J"
      },
      "source": [
        "Please if error occurs, it is because you are run the list p_() that is not defined, so, please don´t run that cell of code. \\\n",
        "And please check if the len of the *listaobservada* is 180 or *n_cell* "
      ]
    },
    {
      "cell_type": "code",
      "metadata": {
        "colab": {
          "base_uri": "https://localhost:8080/"
        },
        "id": "bR3m0z0xTmm_",
        "outputId": "bdcba095-bfac-4813-dc9b-e95fcbbe38bf"
      },
      "source": [
        "listaobservada=dp_1+dp_2+dp_3+dp_4+dp_5+dp_6+dp_7+dp_8#+dp_9\n",
        "print(listaobservada)\n",
        "len(listaobservada)"
      ],
      "execution_count": 38,
      "outputs": [
        {
          "output_type": "stream",
          "text": [
            "[16.93592525702995, 20.22570734692431, 16.326630344874058, 18.81854021817761, 17.940925340067583, 18.449215732076414, 16.238454362725598, 14.517429330209486, 16.986593787269314, 24.365817860124867, 31.097430240557614, 22.087756684887633, 15.09399530089966, 18.143250465374035, 20.235889918681192, 18.390219602003416, 13.53585082165937, 19.426150461566614, 26.65772991711852, 18.140940390022635, 22.798129517793235, 17.296119323872546, 16.28685037485357, 16.64646623427474, 16.684446776609455, 22.116794795235208, 18.797226330658866, 18.575985263424396, 18.57493592958544, 25.117534914291845, 21.122314832527913, 17.641081154139396, 18.419851470409426, 25.068302130432333, 21.184955697273015, 18.25585009161708, 19.20048088152584, 18.153040005032565, 18.554147761065323, 17.4605299701758, 18.66857419633171, 13.857527919118663, 18.39405413847408, 18.399161332768447, 19.478739067239527, 20.316003184390603, 19.15206905290445, 15.164344084925464, 16.040168878843662, 13.891863416490233, 17.509853927155977, 16.342575215630138, 19.779991467292056, 23.578004196214234, 17.546287348626972, 18.88843839623767, 8.981706625465355, 20.005405554703646, 21.73270836234265, 14.628198172561296, 19.83049015093278, 15.637763570426165, 20.53074496411598, 20.9114554889032, 20.656581910834333, 20.107068378309037, 16.468966714093547, 20.46964960299613, 18.5644331004889, 19.38675409705509, 19.851121163267482, 17.371951694381153, 19.184569216166363, 20.017036971890935, 10.612900716490506, 18.11760976392277, 21.169102217496874, 20.869601315497757, 17.924119481817353, 19.666527316105856, 22.072921447272517, 12.875511579026075, 20.74988825030664, 17.706277403526027, 13.901454547536298, 20.600745249515366, 17.28214329492348, 17.029797591293097, 15.004071031199711, 21.15103968975632, 17.875164461144895, 20.215156590739987, 20.280997601519854, 13.052462452963344, 17.344894104520566, 13.238891453766973, 12.847098777541447, 15.676466186511217, 15.658958343560855, 19.84546260231688, 18.83701082799882, 16.54030144500674, 14.937069894434876, 19.98799165157966, 18.503371623525787, 17.554534845623103, 17.647496375647084, 14.578652575120147, 15.68083893857926, 19.385048540323684, 26.53101693518542, 17.823915447529945, 18.86051668808325, 20.008852007093285, 17.111948012304797, 10.498393619884343, 15.57443319458649, 16.54395256172462, 18.50740113388245, 12.165594411894725, 23.189200364853935, 15.398756804543403, 16.81717255262339, 16.838285848097975, 15.652689258212309, 19.278655647573185, 16.021889426947677, 8.635753407154905, 18.55929791942012, 19.34866384855483, 20.055509420315705, 18.58849899990684, 20.234254229259, 16.421368411891482, 16.01585495164826, 15.90749136988537, 16.691944195033823, 17.1969896718074, 17.89379176128312, 15.936006911422854, 18.521120082801648, 13.779927471583632, 15.360037492256119, 18.348323427477528, 22.43087099694422, 16.172679826965837, 18.470055235631992, 22.133655437399902, 16.925312698395434, 17.853954032516572, 15.979624423105719, 10.379874162957844, 17.048249364734815, 22.0098865939035, 17.064012107776048, 14.237379929128284, 14.984329825215138, 14.967832111453205, 19.09418318550794, 19.32082722940638, 8.721539900272793, 16.345776546742677, 13.491186951089738, 12.064688160589725, 15.91830963942244, 18.615529417320857, 14.383582949453164, 12.19627674477618, 27.33838146730241, 9.973933313923908, 15.15565273886114, 13.484012419975759, 13.654901087538786, 16.007379555883933, 11.08292858412636, 9.803876833791806, 10.590401005878546, 13.985947730353434, 10.554900274585805, 11.225137453053634]\n"
          ],
          "name": "stdout"
        },
        {
          "output_type": "execute_result",
          "data": {
            "text/plain": [
              "180"
            ]
          },
          "metadata": {
            "tags": []
          },
          "execution_count": 38
        }
      ]
    },
    {
      "cell_type": "markdown",
      "metadata": {
        "id": "u9zD4BZ8TnYg"
      },
      "source": [
        "# RLS simulation withtout the age distribution "
      ]
    },
    {
      "cell_type": "code",
      "metadata": {
        "colab": {
          "base_uri": "https://localhost:8080/"
        },
        "id": "nI2Pu6NUTvUw",
        "outputId": "09913f86-0f79-487f-ae5b-c8821061e295"
      },
      "source": [
        "l=[1,2,3,4,5,6,7,8,9,10,11,12,13,14,15,16,17,18,19,20,21,22,23,24,25,26,27,28,29,30]#List of times to plot \n",
        "d=[] # list that stores the values of the fraction viable cell \n",
        "for i in x:  \n",
        "  num=0  \n",
        "  for j in p:\n",
        "    if j>i:\n",
        "      num=num+1\n",
        "  d.append(num)\n",
        "print(d)\n",
        "for i in range(len(d)):\n",
        "    d[i] /= n_cell\n",
        "print(d)"
      ],
      "execution_count": 39,
      "outputs": [
        {
          "output_type": "stream",
          "text": [
            "[180, 176, 175, 173, 166, 159, 151, 128, 107, 76, 31, 6, 4, 3, 2, 0]\n",
            "[1.0, 0.9777777777777777, 0.9722222222222222, 0.9611111111111111, 0.9222222222222223, 0.8833333333333333, 0.8388888888888889, 0.7111111111111111, 0.5944444444444444, 0.4222222222222222, 0.17222222222222222, 0.03333333333333333, 0.022222222222222223, 0.016666666666666666, 0.011111111111111112, 0.0]\n"
          ],
          "name": "stdout"
        }
      ]
    },
    {
      "cell_type": "code",
      "metadata": {
        "colab": {
          "base_uri": "https://localhost:8080/",
          "height": 295
        },
        "id": "v6G3rEPvTycZ",
        "outputId": "5d1c6f2b-30cc-44aa-c4fa-e5a389ba72a3"
      },
      "source": [
        "plt.plot(x,d)\n",
        "plt.xlabel('Generations')\n",
        "plt.ylabel('Fraction of viable cells  ')\n",
        "plt.title('RLS ')\n",
        "plt.show()  "
      ],
      "execution_count": 40,
      "outputs": [
        {
          "output_type": "display_data",
          "data": {
            "image/png": "[encoded data removed]",
            "text/plain": [
              "<Figure size 432x288 with 1 Axes>"
            ]
          },
          "metadata": {
            "tags": [],
            "needs_background": "light"
          }
        }
      ]
    },
    {
      "cell_type": "markdown",
      "metadata": {
        "id": "LWZ-KhtaT30Q"
      },
      "source": [
        "## RLS taking into a count the age distribution "
      ]
    },
    {
      "cell_type": "code",
      "metadata": {
        "colab": {
          "base_uri": "https://localhost:8080/"
        },
        "id": "qkfhZr_eUOhf",
        "outputId": "4a2a7133-83c5-4c9f-ea5c-6156af5bf7e9"
      },
      "source": [
        "l=[1,2,3,4,5,6,7,8,9,10,11,12,13,14,15,16,17,18,19,20,21,22,23,24,25,26,27,29,29,30]#List of times to plot\n",
        "viab=[] # list that stores the values of the fraction viable cell\n",
        "for i in x:\n",
        "  num=0  \n",
        "  for j in listaobservada:\n",
        "    if j>i:\n",
        "      num=num+1\n",
        "  viab.append(num)\n",
        "print(viab)\n",
        "for i in range(len(viab)):\n",
        "    viab[i] /= n_cell\n",
        "print(viab)"
      ],
      "execution_count": 41,
      "outputs": [
        {
          "output_type": "stream",
          "text": [
            "[180, 170, 168, 163, 152, 144, 128, 106, 84, 56, 21, 6, 4, 2, 1, 0]\n",
            "[1.0, 0.9444444444444444, 0.9333333333333333, 0.9055555555555556, 0.8444444444444444, 0.8, 0.7111111111111111, 0.5888888888888889, 0.4666666666666667, 0.3111111111111111, 0.11666666666666667, 0.03333333333333333, 0.022222222222222223, 0.011111111111111112, 0.005555555555555556, 0.0]\n"
          ],
          "name": "stdout"
        }
      ]
    },
    {
      "cell_type": "code",
      "metadata": {
        "colab": {
          "base_uri": "https://localhost:8080/",
          "height": 295
        },
        "id": "y_0PHcI8T7Xh",
        "outputId": "657f9c4a-2e86-46bf-d344-7550213f8bb2"
      },
      "source": [
        "plt.plot(x,viab) \n",
        "plt.xlabel('Generations')\n",
        "plt.ylabel('Fraction of viable cells ')\n",
        "plt.title('RLS with age distribution ')\n",
        "plt.show()"
      ],
      "execution_count": 42,
      "outputs": [
        {
          "output_type": "display_data",
          "data": {
            "image/png": "[encoded data removed]",
            "text/plain": [
              "<Figure size 432x288 with 1 Axes>"
            ]
          },
          "metadata": {
            "tags": [],
            "needs_background": "light"
          }
        }
      ]
    },
    {
      "cell_type": "markdown",
      "metadata": {
        "id": "xgk2cC3uUUg_"
      },
      "source": [
        "Comparison of the simulation of the two RLS curves"
      ]
    },
    {
      "cell_type": "code",
      "metadata": {
        "colab": {
          "base_uri": "https://localhost:8080/",
          "height": 295
        },
        "id": "uVwCWL4IUYaW",
        "outputId": "2dc3d537-1097-4608-966a-56a3e1616aaa"
      },
      "source": [
        "plt.plot(x, viab, '--', label='Age distribution') \n",
        "plt.plot(x, d, label=' virgin') \n",
        "plt.title('RLS')\n",
        "plt.ylabel('Fraction of viable cells')\n",
        "plt.xlabel('Generations')\n",
        "plt.legend(loc=3)\n",
        "plt.show()"
      ],
      "execution_count": 43,
      "outputs": [
        {
          "output_type": "display_data",
          "data": {
            "image/png": "[encoded data removed]",
            "text/plain": [
              "<Figure size 432x288 with 1 Axes>"
            ]
          },
          "metadata": {
            "tags": [],
            "needs_background": "light"
          }
        }
      ]
    },
    {
      "cell_type": "markdown",
      "metadata": {
        "id": "x0YFGn6hVPo3"
      },
      "source": [
        "## Comparison with the data"
      ]
    },
    {
      "cell_type": "markdown",
      "metadata": {
        "id": "1JpGxJbTVU98"
      },
      "source": [
        "RLS without the age distribution(virgin cells) "
      ]
    },
    {
      "cell_type": "code",
      "metadata": {
        "colab": {
          "base_uri": "https://localhost:8080/",
          "height": 295
        },
        "id": "mJ097I8YVRqI",
        "outputId": "04f6ab34-18f1-40d9-e559-4f9cfbcc8e72"
      },
      "source": [
        "plt.plot(x, d, '--', label='Simulation') \n",
        "plt.plot(x, y, label=' data ')\n",
        "plt.title('RLS')\n",
        "plt.ylabel('Fraction of viable cells ')\n",
        "plt.xlabel('Generations')\n",
        "plt.legend(loc=3)\n",
        "plt.show()"
      ],
      "execution_count": 44,
      "outputs": [
        {
          "output_type": "display_data",
          "data": {
            "image/png": "[encoded data removed]",
            "text/plain": [
              "<Figure size 432x288 with 1 Axes>"
            ]
          },
          "metadata": {
            "tags": [],
            "needs_background": "light"
          }
        }
      ]
    },
    {
      "cell_type": "markdown",
      "metadata": {
        "id": "tRJfteI8XIO-"
      },
      "source": [
        "Least Squares"
      ]
    },
    {
      "cell_type": "code",
      "metadata": {
        "colab": {
          "base_uri": "https://localhost:8080/"
        },
        "id": "KZiuw1MpXL0v",
        "outputId": "6dbf8eb5-ed9b-4717-cbd7-a818da59fc66"
      },
      "source": [
        "error=[]\n",
        "for i in range(len(xa)):\n",
        "  r_1=ya[i]\n",
        "  r_t=(r_1-d[i])**2\n",
        "  error.append(r_t)\n",
        "print(error)\n",
        "print(sum(error))"
      ],
      "execution_count": 45,
      "outputs": [
        {
          "output_type": "stream",
          "text": [
            "[0.0, 0.0004938271604938286, 0.0007716049382716057, 0.0015123456790123435, 0.006049382716049374, 0.005877777777777777, 0.002390123456790122, 0.017190123456790142, 0.007130864197530862, 0.0004938271604938261, 0.02814938271604939, 0.0011111111111111111, 0.0004938271604938272, 0.0002777777777777778, 0.0001234567901234568, 0.0]\n",
            "0.07206543209876545\n"
          ],
          "name": "stdout"
        }
      ]
    },
    {
      "cell_type": "markdown",
      "metadata": {
        "id": "ZZcu8bjyVgom"
      },
      "source": [
        "RLS with the age distribution "
      ]
    },
    {
      "cell_type": "code",
      "metadata": {
        "colab": {
          "base_uri": "https://localhost:8080/",
          "height": 295
        },
        "id": "d2zBHSVlVkpI",
        "outputId": "1bd1a954-f9ee-4635-e830-35971a2fef10"
      },
      "source": [
        "plt.plot(x, viab, '--', label='simulacion')\n",
        "plt.plot(x, y, label=' datos ')\n",
        "plt.title('RLS')\n",
        "plt.ylabel('Fracción de células viables ')\n",
        "plt.xlabel('Generaciones')\n",
        "plt.legend(loc=3)\n",
        "plt.show()"
      ],
      "execution_count": 49,
      "outputs": [
        {
          "output_type": "display_data",
          "data": {
            "image/png": "[encoded data removed]",
            "text/plain": [
              "<Figure size 432x288 with 1 Axes>"
            ]
          },
          "metadata": {
            "tags": [],
            "needs_background": "light"
          }
        }
      ]
    },
    {
      "cell_type": "markdown",
      "metadata": {
        "id": "d_C5eCxTan_e"
      },
      "source": [
        "Least Squares"
      ]
    },
    {
      "cell_type": "code",
      "metadata": {
        "colab": {
          "base_uri": "https://localhost:8080/"
        },
        "id": "2cWa7p6QWC-Y",
        "outputId": "ed526e3a-a45b-4ff4-885b-4e33e173a417"
      },
      "source": [
        "error=[]\n",
        "for i in range(len(xa)):\n",
        "  r_t=(ya[i]-viab[i])**2\n",
        "  error.append(r_t)\n",
        "print(error)\n",
        "print(sum(error))"
      ],
      "execution_count": 48,
      "outputs": [
        {
          "output_type": "stream",
          "text": [
            "[0.0, 0.0030864197530864226, 0.004444444444444443, 0.008919753086419752, 0.02419753086419753, 0.025599999999999973, 0.0062234567901234585, 7.901234567901336e-05, 0.001877777777777778, 0.007901234567901238, 0.049877777777777785, 0.0011111111111111111, 0.0004938271604938272, 0.0001234567901234568, 3.08641975308642e-05, 0.0]\n",
            "0.13396666666666665\n"
          ],
          "name": "stdout"
        }
      ]
    },
    {
      "cell_type": "code",
      "metadata": {
        "id": "1FxwVBM1WuOo"
      },
      "source": [
        ""
      ],
      "execution_count": null,
      "outputs": []
    }
  ]
}