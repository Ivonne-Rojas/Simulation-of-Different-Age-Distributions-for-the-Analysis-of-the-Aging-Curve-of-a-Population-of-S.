{
  "nbformat": 4,
  "nbformat_minor": 0,
  "metadata": {
    "colab": {
      "name": "Experimental growth curve fit",
      "provenance": [],
      "authorship_tag": "ABX9TyNeAGP5sbrbScRJ3Q2YBKqD",
      "include_colab_link": true
    },
    "kernelspec": {
      "name": "python3",
      "display_name": "Python 3"
    },
    "language_info": {
      "name": "python"
    }
  },
  "cells": [
    {
      "cell_type": "markdown",
      "metadata": {
        "id": "view-in-github",
        "colab_type": "text"
      },
      "source": [
        "<a href=\"https://colab.research.google.com/github/Ivonne-Rojas/Simulation-of-Different-Age-Distributions-for-the-Analysis-of-the-Aging-Curve-of-a-Population-of-S./blob/main/Experimental_growth_curve_fit.ipynb\" target=\"_parent\"><img src=\"https://colab.research.google.com/assets/colab-badge.svg\" alt=\"Open In Colab\"/></a>"
      ]
    },
    {
      "cell_type": "code",
      "metadata": {
        "id": "pt6T0gMhOl66"
      },
      "source": [
        "import pandas as pd  \n",
        "import numpy as np \n",
        "import matplotlib.pyplot as plt \n",
        "import collections as coll \n",
        "import random  \n",
        "import openpyxl \n",
        "from openpyxl import load_workbook # \n",
        "from time import time  \n",
        "from timeit import timeit \n",
        "from scipy.interpolate import interp1d \t\n",
        "from scipy.optimize import curve_fit\n",
        "from sklearn.linear_model import LogisticRegression "
      ],
      "execution_count": 1,
      "outputs": []
    },
    {
      "cell_type": "code",
      "metadata": {
        "id": "Bl8zq6ypOs52"
      },
      "source": [
        "# These are the experimental data taken from Slipstreaming Mother Machine: A Microfluidic Device for\n",
        "# Single-Cell Dynamic Imaging of Yeast\n",
        "\n",
        "time=[12,13,14,15,16,17,18,19,20,21]# units are in hours \n",
        "OD=[0.0993333333333333,0.147666666666667,0.203,0.273,0.382333333333333,0.484333333333333,0.723333333333333,0.780333333333333,0.977666666666667,1.035]\n",
        "\n",
        "Ntime=np.array(time)\n",
        "NOD=np.array(OD)"
      ],
      "execution_count": 2,
      "outputs": []
    },
    {
      "cell_type": "code",
      "metadata": {
        "colab": {
          "base_uri": "https://localhost:8080/",
          "height": 295
        },
        "id": "CUl2CCWePmaw",
        "outputId": "563a798b-4472-470f-93a3-1f0056326dd9"
      },
      "source": [
        "plt.scatter(time, OD)\n",
        "plt.xlabel('time(h)')\n",
        "plt.ylabel('OD')\n",
        "plt.title(' ')\n",
        "plt.show()  "
      ],
      "execution_count": 3,
      "outputs": [
        {
          "output_type": "display_data",
          "data": {
            "image/png": "[encoded data removed]",
            "text/plain": [
              "<Figure size 432x288 with 1 Axes>"
            ]
          },
          "metadata": {
            "tags": [],
            "needs_background": "light"
          }
        }
      ]
    },
    {
      "cell_type": "code",
      "metadata": {
        "colab": {
          "base_uri": "https://localhost:8080/",
          "height": 431
        },
        "id": "d8TmZQ9N3GlD",
        "outputId": "627d5c36-40b4-46c9-dc8e-9a6d1764e5a5"
      },
      "source": [
        "#fit \n",
        "def fsigmoid(x,a,b,c,k):\n",
        "  return k*a*np.exp(-b*(x+c))/ (k + a*np.exp(-b*(x+c)))#Model used for the logistic growth model \n",
        "#k load capacity, a initial population, b growth rate,c parameter  \n",
        "xdata = np.linspace(0, 35, 35)\n",
        "ydata = np.random.normal(size=len(xdata))\n",
        "popt, pcov = curve_fit(fsigmoid, Ntime, NOD)\n",
        "a=curve_fit(fsigmoid,Ntime,NOD)\n",
        "print('popt',popt,'pcov', pcov)\n",
        "plt.figure()\n",
        "plt.plot(Ntime, fsigmoid(Ntime, *popt), 'r-', label='fit')\n",
        "#plt.plot(x,y)\n",
        "plt.plot(Ntime, NOD, 'b-', label='data')\n",
        "plt.show()"
      ],
      "execution_count": 4,
      "outputs": [
        {
          "output_type": "stream",
          "text": [
            "popt [  4.13490858  -0.44174271 -20.54597581   1.33100493] pcov [[-9.00336687e+14 -2.75564303e+06  4.92912293e+14 -1.08228423e+06]\n",
            " [-2.75564309e+06 -6.01567682e-03  1.50864710e+06  2.57766337e-03]\n",
            " [ 4.92912293e+14  1.50864705e+06 -2.69857413e+14  5.92524051e+05]\n",
            " [-1.08228451e+06  2.57766257e-03  5.92524198e+05  1.66043698e-02]]\n"
          ],
          "name": "stdout"
        },
        {
          "output_type": "stream",
          "text": [
            "/usr/local/lib/python3.7/dist-packages/ipykernel_launcher.py:3: RuntimeWarning: overflow encountered in exp\n",
            "  This is separate from the ipykernel package so we can avoid doing imports until\n",
            "/usr/local/lib/python3.7/dist-packages/ipykernel_launcher.py:3: RuntimeWarning: invalid value encountered in true_divide\n",
            "  This is separate from the ipykernel package so we can avoid doing imports until\n"
          ],
          "name": "stderr"
        },
        {
          "output_type": "display_data",
          "data": {
            "image/png": "[encoded data removed]",
            "text/plain": [
              "<Figure size 432x288 with 1 Axes>"
            ]
          },
          "metadata": {
            "tags": [],
            "needs_background": "light"
          }
        }
      ]
    },
    {
      "cell_type": "code",
      "metadata": {
        "id": "QIGpIehLRIRM"
      },
      "source": [
        "ylist=[]\n",
        "for i in xdata:\n",
        "  y=fsigmoid(i,popt[0],popt[1],popt[2],popt[3])\n",
        "  ylist.append(y)"
      ],
      "execution_count": 5,
      "outputs": []
    },
    {
      "cell_type": "code",
      "metadata": {
        "colab": {
          "base_uri": "https://localhost:8080/",
          "height": 305
        },
        "id": "ucJ_RshzT4Fc",
        "outputId": "7f527f0b-17db-4806-b8d3-6948d3aa407d"
      },
      "source": [
        "plt.plot(xdata,ylist)\n",
        "plt.scatter(time, OD)\n",
        "axes = plt.gca() \n",
        "plt.xlabel('time(h)')\n",
        "plt.ylabel('OD')\n",
        "plt.title('Growth curve ')\n",
        "axes.title.set_size(20)\n",
        "axes.xaxis.label.set_size(16)\n",
        "axes.yaxis.label.set_size(16)\n",
        "plt.savefig('Growth curve ajuste_2.png')\n",
        "plt.show()"
      ],
      "execution_count": 6,
      "outputs": [
        {
          "output_type": "display_data",
          "data": {
            "image/png": "[encoded data removed]",
            "text/plain": [
              "<Figure size 432x288 with 1 Axes>"
            ]
          },
          "metadata": {
            "tags": [],
            "needs_background": "light"
          }
        }
      ]
    },
    {
      "cell_type": "code",
      "metadata": {
        "colab": {
          "base_uri": "https://localhost:8080/"
        },
        "id": "_846_4doQDp3",
        "outputId": "5b2cc19a-4482-4746-bce9-6cca28065792"
      },
      "source": [
        "#takes the logarithm of OD\n",
        "LogOD=[]\n",
        "for i in range(len(ylist)):\n",
        "  lo=np.log(ylist[i])\n",
        "  LogOD.append(lo)\n",
        "print(LogOD)"
      ],
      "execution_count": 7,
      "outputs": [
        {
          "output_type": "stream",
          "text": [
            "[-7.656925128342914, -7.202394464089416, -6.747981446463002, -6.293753685554822, -5.839817532440498, -5.386340110023341, -4.933583624714041, -4.481958441466196, -4.0321042939112575, -3.5850123861574033, -3.1422038033018618, -2.7059780244352334, -2.2797311847824053, -1.8683018764996582, -1.478214261533083, -1.1175574252628344, -0.7951521466863679, -0.5188241188569492, -0.293195316698558, -0.11809411017025336, 0.011382005858363995, 0.10319492313316267, 0.16616082119813466, 0.20827951627513547, 0.23595917295452454, 0.2539310257777196, 0.2655060881555578, 0.2729219157434502, 0.2776568041038684, 0.2806733102467078, 0.2825923637837972, 0.28381213885643364, 0.2845870000927429, 0.28507905105288556, 0.28539144010375295]\n"
          ],
          "name": "stdout"
        }
      ]
    },
    {
      "cell_type": "code",
      "metadata": {
        "colab": {
          "base_uri": "https://localhost:8080/",
          "height": 295
        },
        "id": "OTm-94_jShRq",
        "outputId": "bc1517d1-78cc-403d-ab4a-563972018406"
      },
      "source": [
        "#graph of logarithm of OD verus time \n",
        "plt.plot(xdata, LogOD)\n",
        "plt.xlabel('time (h) ')\n",
        "plt.ylabel('LogarithmOD')\n",
        "plt.title(' ')\n",
        "plt.show() "
      ],
      "execution_count": 8,
      "outputs": [
        {
          "output_type": "display_data",
          "data": {
            "image/png": "[encoded data removed]",
            "text/plain": [
              "<Figure size 432x288 with 1 Axes>"
            ]
          },
          "metadata": {
            "tags": [],
            "needs_background": "light"
          }
        }
      ]
    },
    {
      "cell_type": "code",
      "metadata": {
        "colab": {
          "base_uri": "https://localhost:8080/"
        },
        "id": "S6L7qYmsSwVP",
        "outputId": "cd82feb0-9bbe-4e86-8d85-66759d5385bf"
      },
      "source": [
        "#calculates the slope of the graph of the logarithm of OD vs time\n",
        "pendientes=[]\n",
        "for i in range(len(LogOD)-1):\n",
        "  y=LogOD[i+1]-LogOD[i]\n",
        "  x=xdata[i+1]-xdata[i]\n",
        "  pendiente=y/x\n",
        "  pendientes.append(pendiente)\n",
        "print(pendientes)\n",
        "print(len(pendientes))"
      ],
      "execution_count": 9,
      "outputs": [
        {
          "output_type": "stream",
          "text": [
            "[0.44154407384625577, 0.4414297885513735, 0.4412498248822316, 0.4409665487396295, 0.44052092463380943, 0.43982058572903454, 0.4387216065836212, 0.43700117191051147, 0.43431785324660127, 0.4301569090596689, 0.42376218518472475, 0.41406835851989016, 0.3996741851889544, 0.3789422545389587, 0.3503523552339559, 0.3131936991885675, 0.2684329413200063, 0.2191822649538662, 0.17009831491321054, 0.1257767984277995, 0.08918969106694714, 0.061166872405972905, 0.040915303789086574, 0.026888809345692197, 0.01745837131396088, 0.011244346309900016, 0.007203946799666904, 0.004599605835834804, 0.0029303202530439657, 0.0018642234360297376, 0.0011849243562753922, 0.0007527223438432853, 0.00047799236128143424, 0.00030346364941403537]\n",
            "34\n"
          ],
          "name": "stdout"
        }
      ]
    },
    {
      "cell_type": "code",
      "metadata": {
        "colab": {
          "base_uri": "https://localhost:8080/",
          "height": 295
        },
        "id": "XkvfTg-eVryI",
        "outputId": "3715f505-bdc6-42b4-a7c4-4ecb42ee1ea9"
      },
      "source": [
        "plt.plot(pendientes)\n",
        "plt.xlabel('time (h)  ')\n",
        "plt.ylabel('slope ')\n",
        "plt.title(' ')\n",
        "plt.show() "
      ],
      "execution_count": 10,
      "outputs": [
        {
          "output_type": "display_data",
          "data": {
            "image/png": "[encoded data removed]",
            "text/plain": [
              "<Figure size 432x288 with 1 Axes>"
            ]
          },
          "metadata": {
            "tags": [],
            "needs_background": "light"
          }
        }
      ]
    },
    {
      "cell_type": "code",
      "metadata": {
        "colab": {
          "base_uri": "https://localhost:8080/"
        },
        "id": "wzCWhpg7Tsri",
        "outputId": "ba59ce63-9888-44d3-801f-cd6a28ac2fad"
      },
      "source": [
        "#caculate the change of the slope per centual \n",
        "deltapen=[]\n",
        "for i in range(len(pendientes)-1):\n",
        "  de=((pendientes[i+1]-pendientes[i])/pendientes[i])*100\n",
        "  deltapen.append(de)\n",
        "print(deltapen)\n",
        "print(len(deltapen))\n",
        "print(xdata)"
      ],
      "execution_count": 11,
      "outputs": [
        {
          "output_type": "stream",
          "text": [
            "[-0.02588310015957111, -0.04076835632966569, -0.06419858470826621, -0.10105621550971053, -0.15897971370078673, -0.24986987446067588, -0.39214724036661036, -0.6140300842167263, -0.958041249243746, -1.4866026187800052, -2.2875629312249504, -3.4762794680541367, -5.187207835350756, -7.5446585759581675, -10.606081417827168, -14.291717229474553, -18.347478563529577, -22.394124839884704, -26.05641126311289, -29.088916094373886, -31.419347152957265, -33.108720162237326, -34.28178002954409, -35.071980728079915, -35.59338321033253, -35.932720310079446, -36.15158518317375, -36.29192679480701, -36.38158033773903, -36.438715801205575, -36.47507202828207, -36.49818353459813, -36.5128663143299]\n",
            "33\n",
            "[ 0.          1.02941176  2.05882353  3.08823529  4.11764706  5.14705882\n",
            "  6.17647059  7.20588235  8.23529412  9.26470588 10.29411765 11.32352941\n",
            " 12.35294118 13.38235294 14.41176471 15.44117647 16.47058824 17.5\n",
            " 18.52941176 19.55882353 20.58823529 21.61764706 22.64705882 23.67647059\n",
            " 24.70588235 25.73529412 26.76470588 27.79411765 28.82352941 29.85294118\n",
            " 30.88235294 31.91176471 32.94117647 33.97058824 35.        ]\n"
          ],
          "name": "stdout"
        }
      ]
    },
    {
      "cell_type": "code",
      "metadata": {
        "colab": {
          "base_uri": "https://localhost:8080/",
          "height": 279
        },
        "id": "prxuBI5LVBZe",
        "outputId": "222a821a-fb45-4050-fa1f-b087b9bd0814"
      },
      "source": [
        "plt.plot(deltapen)\n",
        "plt.xlabel('time (h) ')\n",
        "plt.ylabel('slope delta')\n",
        "plt.title('')\n",
        "plt.show() "
      ],
      "execution_count": 12,
      "outputs": [
        {
          "output_type": "display_data",
          "data": {
            "image/png": "[encoded data removed]",
            "text/plain": [
              "<Figure size 432x288 with 1 Axes>"
            ]
          },
          "metadata": {
            "tags": [],
            "needs_background": "light"
          }
        }
      ]
    },
    {
      "cell_type": "markdown",
      "metadata": {
        "id": "pKLgbGkFWDHq"
      },
      "source": [
        "\n",
        "\n",
        "---\n",
        "\n",
        "\n",
        "\n",
        "---\n",
        "\n"
      ]
    },
    {
      "cell_type": "code",
      "metadata": {
        "id": "h5FCgxBXkWk4"
      },
      "source": [
        ""
      ],
      "execution_count": null,
      "outputs": []
    }
  ]
}