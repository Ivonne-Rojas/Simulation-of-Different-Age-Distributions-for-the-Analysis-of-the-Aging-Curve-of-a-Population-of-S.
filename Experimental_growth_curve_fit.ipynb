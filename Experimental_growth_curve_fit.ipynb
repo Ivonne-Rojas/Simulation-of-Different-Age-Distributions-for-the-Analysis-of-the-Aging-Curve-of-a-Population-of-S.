{
  "nbformat": 4,
  "nbformat_minor": 0,
  "metadata": {
    "colab": {
      "name": "Experimental growth curve fit",
      "provenance": [],
      "authorship_tag": "ABX9TyPxqfSGPeTCTKWD2K4HGlq2",
      "include_colab_link": true
    },
    "kernelspec": {
      "name": "python3",
      "display_name": "Python 3"
    },
    "language_info": {
      "name": "python"
    }
  },
  "cells": [
    {
      "cell_type": "markdown",
      "metadata": {
        "id": "view-in-github",
        "colab_type": "text"
      },
      "source": [
        "<a href=\"https://colab.research.google.com/github/Ivonne-Rojas/Simulation-of-Different-Age-Distributions-for-the-Analysis-of-the-Aging-Curve-of-a-Population-of-S./blob/main/Experimental_growth_curve_fit.ipynb\" target=\"_parent\"><img src=\"https://colab.research.google.com/assets/colab-badge.svg\" alt=\"Open In Colab\"/></a>"
      ]
    },
    {
      "cell_type": "code",
      "metadata": {
        "id": "pt6T0gMhOl66"
      },
      "source": [
        "import pandas as pd  \n",
        "import numpy as np \n",
        "import matplotlib.pyplot as plt \n",
        "import collections as coll \n",
        "import random  \n",
        "import openpyxl \n",
        "from openpyxl import load_workbook # \n",
        "from time import time  \n",
        "from timeit import timeit \n",
        "from scipy.interpolate import interp1d \t\n",
        "from scipy.optimize import curve_fit\n",
        "from sklearn.linear_model import LogisticRegression "
      ],
      "execution_count": null,
      "outputs": []
    },
    {
      "cell_type": "code",
      "metadata": {
        "id": "Bl8zq6ypOs52"
      },
      "source": [
        "# These are the experimental data taken from Slipstreaming Mother Machine: A Microfluidic Device for\n",
        "# Single-Cell Dynamic Imaging of Yeast\n",
        "\n",
        "tiempo=[12,13,14,15,16,17,18,19,20,21]# units are in hours \n",
        "OD=[0.0993333333333333,0.147666666666667,0.203,0.273,0.382333333333333,0.484333333333333,0.723333333333333,0.780333333333333,0.977666666666667,1.035]\n",
        "\n",
        "Ntiempo=np.array(tiempo)\n",
        "NOD=np.array(OD)"
      ],
      "execution_count": null,
      "outputs": []
    },
    {
      "cell_type": "code",
      "metadata": {
        "colab": {
          "base_uri": "https://localhost:8080/",
          "height": 295
        },
        "id": "CUl2CCWePmaw",
        "outputId": "b16114e6-51fd-4724-a366-98d004c56e57"
      },
      "source": [
        "plt.scatter(tiempo, OD)\n",
        "plt.xlabel('tiempo ')\n",
        "plt.ylabel('OD')\n",
        "plt.title(' ')\n",
        "plt.show()  "
      ],
      "execution_count": null,
      "outputs": [
        {
          "output_type": "display_data",
          "data": {
            "image/png": "[encoded data removed]",
            "text/plain": [
              "<Figure size 432x288 with 1 Axes>"
            ]
          },
          "metadata": {
            "tags": [],
            "needs_background": "light"
          }
        }
      ]
    },
    {
      "cell_type": "code",
      "metadata": {
        "colab": {
          "base_uri": "https://localhost:8080/",
          "height": 431
        },
        "id": "d8TmZQ9N3GlD",
        "outputId": "678ad92a-827a-4984-f55f-5608dbc429f1"
      },
      "source": [
        "#fit \n",
        "def fsigmoid(x,a,b,c,k):\n",
        "  return k*a*np.exp(-b*(x+c))/ (k + a*np.exp(-b*(x+c)))#Model used for the logistic growth model \n",
        "#k load capacity, a initial population, b growth rate,c parameter  \n",
        "xdata = np.linspace(0, 35, 35)\n",
        "ydata = np.random.normal(size=len(xdata))\n",
        "popt, pcov = curve_fit(fsigmoid, Ntiempo, NOD)\n",
        "a=curve_fit(fsigmoid,Ntiempo,NOD)\n",
        "print('popt',popt,'pcov', pcov)\n",
        "plt.figure()\n",
        "plt.plot(Ntiempo, fsigmoid(Ntiempo, *popt), 'r-', label='fit')\n",
        "#plt.plot(x,y)\n",
        "plt.plot(Ntiempo, NOD, 'b-', label='data')\n",
        "plt.show()"
      ],
      "execution_count": null,
      "outputs": [
        {
          "output_type": "stream",
          "text": [
            "popt [  4.59444493  -0.44174255 -20.78453977   1.33100546] pcov [[-2.62758049e+14 -1.25317594e+05  1.29465405e+14  1.74014999e+06]\n",
            " [-1.25317689e+05  2.35869773e-03  6.17461490e+04  6.72013144e-03]\n",
            " [ 1.29465405e+14  6.17461032e+04 -6.37898297e+13 -8.57401874e+05]\n",
            " [ 1.74014972e+06  6.72013066e-03 -8.57401747e+05  6.38105451e-03]]\n"
          ],
          "name": "stdout"
        },
        {
          "output_type": "stream",
          "text": [
            "/usr/local/lib/python3.7/dist-packages/ipykernel_launcher.py:3: RuntimeWarning: overflow encountered in exp\n",
            "  This is separate from the ipykernel package so we can avoid doing imports until\n",
            "/usr/local/lib/python3.7/dist-packages/ipykernel_launcher.py:3: RuntimeWarning: invalid value encountered in true_divide\n",
            "  This is separate from the ipykernel package so we can avoid doing imports until\n"
          ],
          "name": "stderr"
        },
        {
          "output_type": "display_data",
          "data": {
            "image/png": "[encoded data removed]",
            "text/plain": [
              "<Figure size 432x288 with 1 Axes>"
            ]
          },
          "metadata": {
            "tags": [],
            "needs_background": "light"
          }
        }
      ]
    },
    {
      "cell_type": "code",
      "metadata": {
        "id": "QIGpIehLRIRM"
      },
      "source": [
        "ylist=[]\n",
        "for i in xdata:\n",
        "  y=fsigmoid(i,popt[0],popt[1],popt[2],popt[3])\n",
        "  ylist.append(y)"
      ],
      "execution_count": null,
      "outputs": []
    },
    {
      "cell_type": "code",
      "metadata": {
        "colab": {
          "base_uri": "https://localhost:8080/",
          "height": 265
        },
        "id": "ucJ_RshzT4Fc",
        "outputId": "ba76d6c2-ae0e-47db-ff79-ba400b4808f6"
      },
      "source": [
        "plt.plot(xdata,ylist)\n",
        "plt.scatter(tiempo, OD)\n",
        "plt.show()"
      ],
      "execution_count": null,
      "outputs": [
        {
          "output_type": "display_data",
          "data": {
            "image/png": "[encoded data removed]",
            "text/plain": [
              "<Figure size 432x288 with 1 Axes>"
            ]
          },
          "metadata": {
            "tags": [],
            "needs_background": "light"
          }
        }
      ]
    },
    {
      "cell_type": "code",
      "metadata": {
        "colab": {
          "base_uri": "https://localhost:8080/"
        },
        "id": "_846_4doQDp3",
        "outputId": "80e463a9-a1a8-4fe9-b1d4-073092f3c7f2"
      },
      "source": [
        "#takes the logarithm of OD\n",
        "LogOD=[]\n",
        "for i in range(len(ylist)):\n",
        "  lo=np.log(ylist[i])\n",
        "  LogOD.append(lo)\n",
        "print(LogOD)"
      ],
      "execution_count": null,
      "outputs": [
        {
          "output_type": "stream",
          "text": [
            "[-7.656922953966313, -7.202392455297504, -6.7479796033581305, -6.293752008267394, -5.839816021127283, -5.386338764854502, -4.933582445836636, -4.48195742892182, -4.032103447468883, -3.5850117049965227, -3.142203285444806, -2.7059776657878474, -2.279730977628602, -1.8683018073846644, -1.4782143088020754, -1.1175575572169572, -0.7951523221542723, -0.5188242919619459, -0.29319544548367465, -0.11809416532987654, 0.011382036910487758, 0.1031950383443445, 0.16616100950246557, 0.20827976321687772, 0.23595946443841545, 0.2539313498469828, 0.2655064354487856, 0.27292227928804697, 0.2776571788725249, 0.2806736926931848, 0.28259275144440216, 0.28381253003817986, 0.2845873936416688, 0.28507944618732955, 0.28539183629685216]\n"
          ],
          "name": "stdout"
        }
      ]
    },
    {
      "cell_type": "code",
      "metadata": {
        "colab": {
          "base_uri": "https://localhost:8080/",
          "height": 295
        },
        "id": "OTm-94_jShRq",
        "outputId": "a8e04a8e-dca2-41c7-f016-a1be3e6dee12"
      },
      "source": [
        "#graph of logarithm of OD verus time \n",
        "plt.plot(xdata, LogOD)\n",
        "plt.xlabel('tiempo ')\n",
        "plt.ylabel('LogaritmoOD')\n",
        "plt.title(' ')\n",
        "plt.show() "
      ],
      "execution_count": null,
      "outputs": [
        {
          "output_type": "display_data",
          "data": {
            "image/png": "[encoded data removed]",
            "text/plain": [
              "<Figure size 432x288 with 1 Axes>"
            ]
          },
          "metadata": {
            "tags": [],
            "needs_background": "light"
          }
        }
      ]
    },
    {
      "cell_type": "code",
      "metadata": {
        "colab": {
          "base_uri": "https://localhost:8080/"
        },
        "id": "S6L7qYmsSwVP",
        "outputId": "badbf034-f63b-429f-c60d-29e46687d5c9"
      },
      "source": [
        "#calculates the slope of the graph of the logarithm of OD vs time\n",
        "pendientes=[]\n",
        "for i in range(len(LogOD)-1):\n",
        "  y=LogOD[i+1]-LogOD[i]\n",
        "  x=xdata[i+1]-xdata[i]\n",
        "  pendiente=y/x\n",
        "  pendientes.append(pendiente)\n",
        "print(pendientes)\n",
        "print(len(pendientes))"
      ],
      "execution_count": null,
      "outputs": [
        {
          "output_type": "stream",
          "text": [
            "[0.44154391299255696, 0.44142962759824883, 0.44124966380242947, 0.44096638750753686, 0.440520763236416, 0.4398204241887836, 0.43872144500296434, 0.4370010105542823, 0.4343176926874354, 0.4301567504216678, 0.4237620305239026, 0.4140682113546957, 0.3996740510941107, 0.3789421414802294, 0.3503522729684006, 0.3131936569180367, 0.2684329436154024, 0.2191823080074639, 0.1700983864351185, 0.1257768821763537, 0.08918977282146069, 0.06116694341074629, 0.040915360751143305, 0.026888852615208042, 0.01745840296832253, 0.011244368870322754, 0.007203962586711049, 0.00459961673920712, 0.0029303277114982105, 0.001864228501182562, 0.0011849277768126235, 0.0007527246433892548, 0.00047799390149902264, 0.0003034646778219625]\n",
            "34\n"
          ],
          "name": "stdout"
        }
      ]
    },
    {
      "cell_type": "code",
      "metadata": {
        "colab": {
          "base_uri": "https://localhost:8080/",
          "height": 295
        },
        "id": "XkvfTg-eVryI",
        "outputId": "3c73a172-f22e-46b5-8ae9-8d31750a2af4"
      },
      "source": [
        "plt.plot(pendientes)\n",
        "plt.xlabel(' ')\n",
        "plt.ylabel('pendiente')\n",
        "plt.title(' ')\n",
        "plt.show() "
      ],
      "execution_count": null,
      "outputs": [
        {
          "output_type": "display_data",
          "data": {
            "image/png": "[encoded data removed]",
            "text/plain": [
              "<Figure size 432x288 with 1 Axes>"
            ]
          },
          "metadata": {
            "tags": [],
            "needs_background": "light"
          }
        }
      ]
    },
    {
      "cell_type": "code",
      "metadata": {
        "colab": {
          "base_uri": "https://localhost:8080/"
        },
        "id": "wzCWhpg7Tsri",
        "outputId": "17b244f4-dfd4-4c66-8c67-154c3fadcd88"
      },
      "source": [
        "#caculate the change of the slope per centual \n",
        "deltapen=[]\n",
        "for i in range(len(pendientes)-1):\n",
        "  de=((pendientes[i+1]-pendientes[i])/pendientes[i])*100\n",
        "  deltapen.append(de)\n",
        "print(deltapen)\n",
        "print(len(deltapen))\n",
        "print(xdata)"
      ],
      "execution_count": null,
      "outputs": [
        {
          "output_type": "stream",
          "text": [
            "[-0.025883132106513704, -0.040768399891623855, -0.06419864265765127, -0.10105628994528859, -0.15897980437678907, -0.2498699754214996, -0.39214733363909404, -0.6140301285444237, -0.9580411610728758, -1.4866022424375918, -2.2875619972894508, -3.476277546999323, -5.187204312395942, -7.544652700845214, -10.606072492561044, -14.291704928860764, -18.347463222883096, -22.394107452629775, -26.056393119090863, -29.088898310894407, -31.419330405527834, -33.108704686468, -34.2817657682349, -35.07196748719487, -35.593370764066194, -35.9327084535224, -36.151573750647934, -36.29191566070917, -36.381569410561795, -36.4387050159907, -36.47506133968487, -36.49817291130739, -36.51285573513054]\n",
            "33\n",
            "[ 0.          1.02941176  2.05882353  3.08823529  4.11764706  5.14705882\n",
            "  6.17647059  7.20588235  8.23529412  9.26470588 10.29411765 11.32352941\n",
            " 12.35294118 13.38235294 14.41176471 15.44117647 16.47058824 17.5\n",
            " 18.52941176 19.55882353 20.58823529 21.61764706 22.64705882 23.67647059\n",
            " 24.70588235 25.73529412 26.76470588 27.79411765 28.82352941 29.85294118\n",
            " 30.88235294 31.91176471 32.94117647 33.97058824 35.        ]\n"
          ],
          "name": "stdout"
        }
      ]
    },
    {
      "cell_type": "code",
      "metadata": {
        "colab": {
          "base_uri": "https://localhost:8080/",
          "height": 295
        },
        "id": "prxuBI5LVBZe",
        "outputId": "c1bd48ae-397f-450d-8071-e36c480889d9"
      },
      "source": [
        "plt.plot(deltapen)\n",
        "plt.xlabel(' ')\n",
        "plt.ylabel('delta de pendiente')\n",
        "plt.title(' ')\n",
        "plt.show() "
      ],
      "execution_count": null,
      "outputs": [
        {
          "output_type": "display_data",
          "data": {
            "image/png": "[encoded data removed]",
            "text/plain": [
              "<Figure size 432x288 with 1 Axes>"
            ]
          },
          "metadata": {
            "tags": [],
            "needs_background": "light"
          }
        }
      ]
    },
    {
      "cell_type": "markdown",
      "metadata": {
        "id": "pKLgbGkFWDHq"
      },
      "source": [
        "\n",
        "\n",
        "---\n",
        "\n",
        "\n",
        "\n",
        "---\n",
        "\n"
      ]
    },
    {
      "cell_type": "code",
      "metadata": {
        "id": "h5FCgxBXkWk4"
      },
      "source": [
        ""
      ],
      "execution_count": null,
      "outputs": []
    }
  ]
}