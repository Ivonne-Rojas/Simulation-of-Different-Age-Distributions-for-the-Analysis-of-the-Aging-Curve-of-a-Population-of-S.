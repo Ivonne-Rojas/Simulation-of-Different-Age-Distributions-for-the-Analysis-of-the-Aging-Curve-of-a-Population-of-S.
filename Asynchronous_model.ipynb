{
  "nbformat": 4,
  "nbformat_minor": 0,
  "metadata": {
    "colab": {
      "name": "Asynchronous_model.ipynb",
      "provenance": [],
      "collapsed_sections": [],
      "include_colab_link": true
    },
    "kernelspec": {
      "display_name": "Python 3",
      "language": "python",
      "name": "python3"
    },
    "language_info": {
      "codemirror_mode": {
        "name": "ipython",
        "version": 3
      },
      "file_extension": ".py",
      "mimetype": "text/x-python",
      "name": "python",
      "nbconvert_exporter": "python",
      "pygments_lexer": "ipython3",
      "version": "3.8.3"
    }
  },
  "cells": [
    {
      "cell_type": "markdown",
      "metadata": {
        "id": "view-in-github",
        "colab_type": "text"
      },
      "source": [
        "<a href=\"https://colab.research.google.com/github/Ivonne-Rojas/Simulation-of-Different-Age-Distributions-for-the-Analysis-of-the-Aging-Curve-of-a-Population-of-S./blob/main/Asynchronous_model.ipynb\" target=\"_parent\"><img src=\"https://colab.research.google.com/assets/colab-badge.svg\" alt=\"Open In Colab\"/></a>"
      ]
    },
    {
      "cell_type": "code",
      "metadata": {
        "id": "z-hDAJjEde-K"
      },
      "source": [
        "import numpy as np\n",
        "import matplotlib.pyplot as plt\n",
        "import collections as coll \n",
        "import random\n",
        "import openpyxl\n",
        "from openpyxl import load_workbook\n",
        "from time import time\n",
        "from timeit import timeit"
      ],
      "execution_count": null,
      "outputs": []
    },
    {
      "cell_type": "markdown",
      "metadata": {
        "id": "OXBEwlee8Vwd"
      },
      "source": [
        "Here we define a list \"L\" that contains lists, which store the sampled replication times of each of the replication time distributions found."
      ]
    },
    {
      "cell_type": "code",
      "metadata": {
        "id": "1BItKavkeu3V",
        "outputId": "5070e2d9-e394-4013-d332-3a9ccf3a508b"
      },
      "source": [
        "tiempo_inicial = time() \n",
        "wb = openpyxl.load_workbook (\"Aleatorios S_0 1-05-21.xlsx\")\n",
        "hoja = wb['Ale 1']\n",
        "\n",
        "L = [[]]\n",
        "for row in hoja['A1':'A9900']:\n",
        "  v = row[0].value\n",
        "  L[0].append(v)\n",
        "tiempo_final = time()\n",
        "tiempo_ejecucion = tiempo_final - tiempo_inicial\n",
        "print('Execution time',tiempo_ejecucion)"
      ],
      "execution_count": null,
      "outputs": [
        {
          "output_type": "stream",
          "text": [
            "Execution time 30.596231937408447\n"
          ],
          "name": "stdout"
        }
      ]
    },
    {
      "cell_type": "code",
      "metadata": {
        "colab": {
          "base_uri": "https://localhost:8080/"
        },
        "id": "sQDk35IkevmB",
        "outputId": "36647b1b-fa83-434e-c6b4-1b396c55e0e7"
      },
      "source": [
        "tiempo_inicial = time() \n",
        "wb = openpyxl.load_workbook (\"Aleatorios S_0 1-05-21.xlsx\")\n",
        "hoja= wb['Ale 1']\n",
        "\n",
        "L.append([]) \n",
        "for row in hoja['A1':'A9900']:\n",
        "  v = row[0].value\n",
        "  L[1].append(v)\n",
        "print(len(L[1]))\n",
        "tiempo_final = time()\n",
        "tiempo_ejecucion = tiempo_final - tiempo_inicial\n",
        "print(tiempo_ejecucion)"
      ],
      "execution_count": null,
      "outputs": [
        {
          "output_type": "stream",
          "text": [
            "9900\n",
            "31.88810157775879\n"
          ],
          "name": "stdout"
        }
      ]
    },
    {
      "cell_type": "code",
      "metadata": {
        "colab": {
          "base_uri": "https://localhost:8080/"
        },
        "id": "U88hcejSeyQW",
        "outputId": "65b5094e-743c-474d-8132-af4411305462"
      },
      "source": [
        "wb = openpyxl.load_workbook (\"Aleatorios S_0 1-05-21.xlsx\")\n",
        "hoja = wb['Ale 1']\n",
        "L.append([])\n",
        "for row in hoja['A1':'A9900']:\n",
        "  v = row[0].value\n",
        "  L[2].append(v)\n",
        "print(len(L[2]))"
      ],
      "execution_count": null,
      "outputs": [
        {
          "output_type": "stream",
          "text": [
            "9900\n"
          ],
          "name": "stdout"
        }
      ]
    },
    {
      "cell_type": "code",
      "metadata": {
        "colab": {
          "base_uri": "https://localhost:8080/"
        },
        "id": "w6_N1QCAe2Og",
        "outputId": "39755d27-ae92-45d9-8c3e-98ce8408409b"
      },
      "source": [
        "wb = openpyxl.load_workbook (\"Aleatorios S_0 1-05-21.xlsx\")\n",
        "hoja = wb['Ale 1']\n",
        "\n",
        "L.append([])\n",
        "for row in hoja['A1':'A9900']:\n",
        "  v = row[0].value\n",
        "  L[3].append(v)\n",
        "print(len(L[3]))"
      ],
      "execution_count": null,
      "outputs": [
        {
          "output_type": "stream",
          "text": [
            "9900\n"
          ],
          "name": "stdout"
        }
      ]
    },
    {
      "cell_type": "code",
      "metadata": {
        "colab": {
          "base_uri": "https://localhost:8080/"
        },
        "id": "dcThgiVLe3B2",
        "outputId": "debe3055-4f8e-4734-8bd2-fe90e52ab21e"
      },
      "source": [
        "wb = openpyxl.load_workbook (\"Aleatorios S_0 1-05-21.xlsx\")\n",
        "hoja = wb['Ale 1']\n",
        "\n",
        "L.append([])\n",
        "for row in hoja['A1':'A9900']:\n",
        "  v = row[0].value\n",
        "  L[4].append(v)\n",
        "print(len(L[4]))"
      ],
      "execution_count": null,
      "outputs": [
        {
          "output_type": "stream",
          "text": [
            "9900\n"
          ],
          "name": "stdout"
        }
      ]
    },
    {
      "cell_type": "code",
      "metadata": {
        "colab": {
          "base_uri": "https://localhost:8080/"
        },
        "id": "ECPRUxQQfE_I",
        "outputId": "b6e4dce0-7318-48a2-88c3-8ef732313651"
      },
      "source": [
        "wb = openpyxl.load_workbook (\"Aleatorios S_0 1-05-21.xlsx\")\n",
        "hoja = wb['Ale 1']\n",
        "\n",
        "L.append([])\n",
        "for row in hoja['A1':'A9900']:\n",
        "  v = row[0].value\n",
        "  L[5].append(v)\n",
        "print(len(L[5]))"
      ],
      "execution_count": null,
      "outputs": [
        {
          "output_type": "stream",
          "text": [
            "9900\n"
          ],
          "name": "stdout"
        }
      ]
    },
    {
      "cell_type": "code",
      "metadata": {
        "colab": {
          "base_uri": "https://localhost:8080/"
        },
        "id": "Z9SqK5yDfNgv",
        "outputId": "a232a4e6-543b-4236-bd8d-e94e9b3b8aac"
      },
      "source": [
        "wb = openpyxl.load_workbook (\"Aleatorios S_0 1-05-21.xlsx\")\n",
        "hoja = wb['Ale 1']\n",
        "\n",
        "L.append([])\n",
        "for row in hoja['A1':'A9900']:\n",
        "  v = row[0].value\n",
        "  L[6].append(v)\n",
        "print(len(L[6]))"
      ],
      "execution_count": null,
      "outputs": [
        {
          "output_type": "stream",
          "text": [
            "9900\n"
          ],
          "name": "stdout"
        }
      ]
    },
    {
      "cell_type": "code",
      "metadata": {
        "colab": {
          "base_uri": "https://localhost:8080/"
        },
        "id": "_svEAWe1fV1Y",
        "outputId": "7aecc564-6dc5-4f11-d455-2c9c9c0b1bfd"
      },
      "source": [
        "wb = openpyxl.load_workbook (\"Aleatorios S_0 1-05-21.xlsx\")\n",
        "hoja = wb['Ale 1']\n",
        "\n",
        "L.append([])\n",
        "for row in hoja['A1':'A9900']:\n",
        "  v = row[0].value\n",
        "  L[7].append(v)\n",
        "print(len(L[7]))"
      ],
      "execution_count": null,
      "outputs": [
        {
          "output_type": "stream",
          "text": [
            "9900\n"
          ],
          "name": "stdout"
        }
      ]
    },
    {
      "cell_type": "code",
      "metadata": {
        "colab": {
          "base_uri": "https://localhost:8080/"
        },
        "id": "vjzuEDhvfZK4",
        "outputId": "136f863f-9265-4b34-a653-33287aa7daac"
      },
      "source": [
        "wb = openpyxl.load_workbook (\"Aleatorios S_0 1-05-21.xlsx\")\n",
        "hoja = wb['Ale 1']\n",
        "\n",
        "L.append([])\n",
        "for row in hoja['A1':'A9900']:\n",
        "  v = row[0].value\n",
        "  L[8].append(v)\n",
        "print(len(L[8]))"
      ],
      "execution_count": null,
      "outputs": [
        {
          "output_type": "stream",
          "text": [
            "9900\n"
          ],
          "name": "stdout"
        }
      ]
    },
    {
      "cell_type": "code",
      "metadata": {
        "colab": {
          "base_uri": "https://localhost:8080/"
        },
        "id": "jeCyhK77feMv",
        "outputId": "02bf72a9-3863-4448-b7c9-814de73873eb"
      },
      "source": [
        "wb = openpyxl.load_workbook (\"Aleatorios S_0 1-05-21.xlsx\")\n",
        "hoja = wb['Ale 1']\n",
        "\n",
        "L.append([])\n",
        "for row in hoja['A1':'A990']:\n",
        "  v = row[0].value\n",
        "  L[9].append(v)\n",
        "print(len(L[9]))"
      ],
      "execution_count": null,
      "outputs": [
        {
          "output_type": "stream",
          "text": [
            "990\n"
          ],
          "name": "stdout"
        }
      ]
    },
    {
      "cell_type": "code",
      "metadata": {
        "colab": {
          "base_uri": "https://localhost:8080/"
        },
        "id": "AFTcDAtSfhmv",
        "outputId": "a0af2728-0c89-438f-cd84-14818285b56f"
      },
      "source": [
        "wb = openpyxl.load_workbook (\"Aleatorios S_0 1-05-21.xlsx\")\n",
        "hoja = wb['Ale 1']\n",
        "\n",
        "L.append([])\n",
        "for row in hoja['A1':'A9900']:\n",
        "  v = row[0].value\n",
        "  L[10].append(v)\n",
        "print(len(L[10]))"
      ],
      "execution_count": null,
      "outputs": [
        {
          "output_type": "stream",
          "text": [
            "9900\n"
          ],
          "name": "stdout"
        }
      ]
    },
    {
      "cell_type": "code",
      "metadata": {
        "colab": {
          "base_uri": "https://localhost:8080/"
        },
        "id": "aNbVgpqbp8qk",
        "outputId": "8d3573f6-71a1-475b-cd47-149d25ad0071"
      },
      "source": [
        "wb = openpyxl.load_workbook (\"Aleatorios S_0 1-05-21.xlsx\")\n",
        "hoja = wb['Ale 1']\n",
        "\n",
        "L.append([])\n",
        "for row in hoja['A1':'A9900']:\n",
        "  v = row[0].value\n",
        "  L[11].append(v)\n",
        "print(len(L[11]))"
      ],
      "execution_count": null,
      "outputs": [
        {
          "output_type": "stream",
          "text": [
            "9900\n"
          ],
          "name": "stdout"
        }
      ]
    },
    {
      "cell_type": "code",
      "metadata": {
        "colab": {
          "base_uri": "https://localhost:8080/"
        },
        "id": "kbFOmzxhqBLH",
        "outputId": "a5f66c9a-8506-4257-8d75-c83ee3a51f69"
      },
      "source": [
        "wb = openpyxl.load_workbook (\"Aleatorios S_0 1-05-21.xlsx\")\n",
        "hoja = wb['Ale 2']\n",
        "\n",
        "L.append([])\n",
        "for row in hoja['A1':'A9900']:\n",
        "  v = row[0].value\n",
        "  L[12].append(v)\n",
        "print(len(L[12]))"
      ],
      "execution_count": null,
      "outputs": [
        {
          "output_type": "stream",
          "text": [
            "9900\n"
          ],
          "name": "stdout"
        }
      ]
    },
    {
      "cell_type": "code",
      "metadata": {
        "colab": {
          "base_uri": "https://localhost:8080/"
        },
        "id": "uZPD2DTyqGpT",
        "outputId": "fda808cd-5ccf-4f2d-be83-1cc63a393146"
      },
      "source": [
        "wb = openpyxl.load_workbook (\"Aleatorios S_0 1-05-21.xlsx\")\n",
        "hoja = wb['Ale 3']\n",
        "\n",
        "L.append([])\n",
        "for row in hoja['A1':'A9900']:\n",
        "  v = row[0].value\n",
        "  L[13].append(v)\n",
        "print(len(L[13]))"
      ],
      "execution_count": null,
      "outputs": [
        {
          "output_type": "stream",
          "text": [
            "9900\n"
          ],
          "name": "stdout"
        }
      ]
    },
    {
      "cell_type": "code",
      "metadata": {
        "colab": {
          "base_uri": "https://localhost:8080/"
        },
        "id": "rLRGZXFHqLNq",
        "outputId": "d17acd15-3b75-4486-cac7-091fe9d01d66"
      },
      "source": [
        "wb = openpyxl.load_workbook (\"Aleatorios S_0 1-05-21.xlsx\")\n",
        "hoja = wb['Ale 4']\n",
        "\n",
        "L.append([])\n",
        "for row in hoja['A1':'A9900']:\n",
        "  v = row[0].value\n",
        "  L[14].append(v)\n",
        "print(len(L[14]))"
      ],
      "execution_count": null,
      "outputs": [
        {
          "output_type": "stream",
          "text": [
            "9900\n"
          ],
          "name": "stdout"
        }
      ]
    },
    {
      "cell_type": "code",
      "metadata": {
        "colab": {
          "base_uri": "https://localhost:8080/"
        },
        "id": "7eX5bP1XqPV9",
        "outputId": "4d26ed75-5ab7-441b-db36-eea0bca10207"
      },
      "source": [
        "wb = openpyxl.load_workbook (\"Aleatorios S_0 1-05-21.xlsx\")\n",
        "hoja = wb['Ale 5']\n",
        "\n",
        "L.append([])\n",
        "for row in hoja['A1':'A9900']:\n",
        "  v = row[0].value\n",
        "  L[15].append(v)\n",
        "print(len(L[15]))"
      ],
      "execution_count": null,
      "outputs": [
        {
          "output_type": "stream",
          "text": [
            "9900\n"
          ],
          "name": "stdout"
        }
      ]
    },
    {
      "cell_type": "code",
      "metadata": {
        "colab": {
          "base_uri": "https://localhost:8080/"
        },
        "id": "ywvlwe79qT-s",
        "outputId": "2e0e5812-b5c3-4d6e-8a29-ceffc2a858d9"
      },
      "source": [
        "wb = openpyxl.load_workbook (\"Aleatorios S_0 1-05-21.xlsx\")\n",
        "hoja = wb['Ale 6']\n",
        "\n",
        "L.append([])\n",
        "for row in hoja['A1':'A9900']:\n",
        "  v = row[0].value\n",
        "  L[16].append(v)\n",
        "print(len(L[16]))"
      ],
      "execution_count": null,
      "outputs": [
        {
          "output_type": "stream",
          "text": [
            "9900\n"
          ],
          "name": "stdout"
        }
      ]
    },
    {
      "cell_type": "code",
      "metadata": {
        "colab": {
          "base_uri": "https://localhost:8080/"
        },
        "id": "Sr9LFs2fqa0a",
        "outputId": "bfc1ad5a-a924-4684-f484-7075d0ac18fa"
      },
      "source": [
        "wb = openpyxl.load_workbook (\"Aleatorios S_0 1-05-21.xlsx\")\n",
        "hoja = wb['Ale 7']\n",
        "\n",
        "L.append([])\n",
        "for row in hoja['A1':'A9900']:\n",
        "  v = row[0].value\n",
        "  L[17].append(v)\n",
        "print(len(L[17]))"
      ],
      "execution_count": null,
      "outputs": [
        {
          "output_type": "stream",
          "text": [
            "9900\n"
          ],
          "name": "stdout"
        }
      ]
    },
    {
      "cell_type": "code",
      "metadata": {
        "colab": {
          "base_uri": "https://localhost:8080/"
        },
        "id": "r2nnYFdCv3dH",
        "outputId": "c68ac685-9b2a-4532-bbbb-2d4d2475c296"
      },
      "source": [
        "wb = openpyxl.load_workbook (\"Aleatorios S_0 1-05-21.xlsx\")\n",
        "hoja = wb['Ale 8']\n",
        "\n",
        "L.append([])\n",
        "for row in hoja['A1':'A9900']:\n",
        "  v = row[0].value\n",
        "  L[18].append(v)\n",
        "print(len(L[18]))"
      ],
      "execution_count": null,
      "outputs": [
        {
          "output_type": "stream",
          "text": [
            "9900\n"
          ],
          "name": "stdout"
        }
      ]
    },
    {
      "cell_type": "code",
      "metadata": {
        "colab": {
          "base_uri": "https://localhost:8080/"
        },
        "id": "pfE2taAgv15m",
        "outputId": "ad03af90-b79c-4e01-d4b9-4deda0112a93"
      },
      "source": [
        "wb = openpyxl.load_workbook (\"Aleatorios S_0 1-05-21.xlsx\")\n",
        "hoja = wb['Ale 9']\n",
        "\n",
        "L.append([])\n",
        "for row in hoja['A1':'A9900']:\n",
        "  v = row[0].value\n",
        "  L[19].append(v)\n",
        "print(len(L[19]))"
      ],
      "execution_count": null,
      "outputs": [
        {
          "output_type": "stream",
          "text": [
            "9900\n"
          ],
          "name": "stdout"
        }
      ]
    },
    {
      "cell_type": "code",
      "metadata": {
        "colab": {
          "base_uri": "https://localhost:8080/"
        },
        "id": "XTLtgIK65NW6",
        "outputId": "0476a8f4-891c-4234-c1e0-6d4fbf7bc562"
      },
      "source": [
        "print(len(L))"
      ],
      "execution_count": null,
      "outputs": [
        {
          "output_type": "stream",
          "text": [
            "20\n"
          ],
          "name": "stdout"
        }
      ]
    },
    {
      "cell_type": "markdown",
      "metadata": {
        "id": "4EV7K1QK2j7S"
      },
      "source": [
        "\n",
        "\n",
        "---\n",
        "\n",
        "\n",
        "\n",
        "---\n",
        "\n"
      ]
    },
    {
      "cell_type": "markdown",
      "metadata": {
        "id": "LchjkLbMbDLB"
      },
      "source": [
        "We define the interval with which the graph will be made"
      ]
    },
    {
      "cell_type": "code",
      "metadata": {
        "colab": {
          "base_uri": "https://localhost:8080/"
        },
        "id": "9rG01Q3F2pDR",
        "outputId": "a9677738-91ad-419d-99c9-92f25c96439e"
      },
      "source": [
        "tiempos=[]\n",
        "tm=-10\n",
        "for i in range(200):\n",
        "  tm=tm+10\n",
        "  tiempos.append(tm)\n",
        "print(tiempos)\n",
        "len(tiempos)"
      ],
      "execution_count": null,
      "outputs": [
        {
          "output_type": "stream",
          "text": [
            "[0, 10, 20, 30, 40, 50, 60, 70, 80, 90, 100, 110, 120, 130, 140, 150, 160, 170, 180, 190, 200, 210, 220, 230, 240, 250, 260, 270, 280, 290, 300, 310, 320, 330, 340, 350, 360, 370, 380, 390, 400, 410, 420, 430, 440, 450, 460, 470, 480, 490, 500, 510, 520, 530, 540, 550, 560, 570, 580, 590, 600, 610, 620, 630, 640, 650, 660, 670, 680, 690, 700, 710, 720, 730, 740, 750, 760, 770, 780, 790, 800, 810, 820, 830, 840, 850, 860, 870, 880, 890, 900, 910, 920, 930, 940, 950, 960, 970, 980, 990, 1000, 1010, 1020, 1030, 1040, 1050, 1060, 1070, 1080, 1090, 1100, 1110, 1120, 1130, 1140, 1150, 1160, 1170, 1180, 1190, 1200, 1210, 1220, 1230, 1240, 1250, 1260, 1270, 1280, 1290, 1300, 1310, 1320, 1330, 1340, 1350, 1360, 1370, 1380, 1390, 1400, 1410, 1420, 1430, 1440, 1450, 1460, 1470, 1480, 1490, 1500, 1510, 1520, 1530, 1540, 1550, 1560, 1570, 1580, 1590, 1600, 1610, 1620, 1630, 1640, 1650, 1660, 1670, 1680, 1690, 1700, 1710, 1720, 1730, 1740, 1750, 1760, 1770, 1780, 1790, 1800, 1810, 1820, 1830, 1840, 1850, 1860, 1870, 1880, 1890, 1900, 1910, 1920, 1930, 1940, 1950, 1960, 1970, 1980, 1990]\n"
          ],
          "name": "stdout"
        },
        {
          "output_type": "execute_result",
          "data": {
            "text/plain": [
              "200"
            ]
          },
          "metadata": {
            "tags": []
          },
          "execution_count": 23
        }
      ]
    },
    {
      "cell_type": "markdown",
      "metadata": {
        "id": "o64boJJcBzBS"
      },
      "source": [
        "\n",
        "\n",
        "---\n",
        "\n",
        "\n",
        "\n",
        "---\n",
        "\n"
      ]
    },
    {
      "cell_type": "code",
      "metadata": {
        "colab": {
          "base_uri": "https://localhost:8080/"
        },
        "id": "D5KUY8ELfljD",
        "outputId": "7d667b0b-9698-4e88-e0ba-a9e4c9f046ff"
      },
      "source": [
        "tiempo_inicial = time() # we use this library to calculate execution time\n",
        "#-------------------------------------------------------------------------------\n",
        "#initial variables \n",
        "zi=[1,0,0,0,0,0,0,0,0,0,0,0,0,0,0,0,0,0,0,0,0,0,0,0,0,0,0,0,0,0,0]# initial age distribution\n",
        "t=0 # total time\n",
        "tr=[0] #list that stores the values of the total time in each iteration \n",
        "m=16  # number to determine the generation in which the cells die \n",
        "g=18 # number of generations that growth the population \n",
        "muertes=0 # variable to count the number of dead and non-viable cells\n",
        "fraccion=[] # list to save the fraction of viable cells \n",
        "r=0 # per capita growth\n",
        "NC= np.ones(len(tiempos),dtype=np.int64) # array that store the number of cells that there in each interval of time \n",
        "s=[]#this list is for save the replication times\n",
        "tb=[] # list that store the sum of the replication times to calculate the time that the cell born\n",
        "#------------------------------------------------------------------------------- \n",
        "for j in range(g):\n",
        "  zf=np.zeros(m,dtype=np.int64) \n",
        "  for i in range(m-1):  \n",
        "    zf[i+1]= zi[i]\n",
        "    zf[0]=sum(zi)-zi[-1]\n",
        "  zi=zf\n",
        "#-------------------------------------------------------------------------------\n",
        "# to choose a random number from each list (sample of each replication distribution)\n",
        "  s.append([])\n",
        "  for k in range(zi[0]):\n",
        "    for o in range(len(L)):\n",
        "      if o==j:\n",
        "        R=random.choice(L[o])+400\n",
        "        s[o].append(R)\n",
        "#-------------------------------------------------------------------------------\n",
        "#To add the replication times with the total time for each cell\n",
        "for i_1 in range(len(s)-1):\n",
        "    for j_1 in range(len(s[i_1])):\n",
        "        a=s[i_1][j_1]+s[i_1+1][2*j_1-2]\n",
        "        b=s[i_1][j_1]+s[i_1+1][2*j_1-1]\n",
        "        tb.append(a)\n",
        "        tb.append(b)\n",
        "#-------------------------------------------------------------------------------\n",
        "# to know how many cells are in a certain time interval\n",
        "for p in range(len(tb)):\n",
        "    for tiem in range(len(tiempos)):\n",
        "        if tiempos[tiem]<= tb[p] <=tiempos[tiem+1]:\n",
        "            for NC_i in range(tiem,len(NC)):\n",
        "                NC[NC_i]=NC[NC_i]+1\n",
        "            break \n",
        "print(len(tb))\n",
        "print(tb[-2])\n",
        "tiempo_final = time()\n",
        "tiempo_ejecucion = tiempo_final - tiempo_inicial\n",
        "print('Execution time',tiempo_ejecucion)"
      ],
      "execution_count": null,
      "outputs": [
        {
          "output_type": "stream",
          "text": [
            "262134\n",
            "949.8821109240581\n",
            "Execution time 32.96319341659546\n"
          ],
          "name": "stdout"
        }
      ]
    },
    {
      "cell_type": "code",
      "metadata": {
        "id": "mZtMgtv4309D",
        "outputId": "c7e85f88-2e76-4f8e-aece-7cf1a47b98b2"
      },
      "source": [
        "plt.plot(tiempos,NC)  \n",
        "plt.xlabel('Time (min)',fontsize=14)\n",
        "plt.ylabel('Fraction of viable cells',fontsize=14)\n",
        "plt.title('Growth curve',fontsize=18)\n",
        "#plt.savefig('Growth curve.png')\n",
        "plt.show() "
      ],
      "execution_count": null,
      "outputs": [
        {
          "output_type": "display_data",
          "data": {
            "image/png": "[encoded data removed]",
            "text/plain": [
              "<Figure size 432x288 with 1 Axes>"
            ]
          },
          "metadata": {
            "tags": [],
            "needs_background": "light"
          }
        }
      ]
    },
    {
      "cell_type": "markdown",
      "metadata": {
        "id": "nf5Q-lB9DHkt"
      },
      "source": [
        "We compare the the simulation with the data "
      ]
    },
    {
      "cell_type": "code",
      "metadata": {
        "id": "kkfinjjOLfbX"
      },
      "source": [
        "#These are the experimental data taken from Slipstreaming Mother Machine: A Microfluidic Device for\n",
        "# Single-Cell Dynamic Imaging of Yeast \n",
        "tiempo_od=[720,780,840,900,960,1020,1080,1140,1200,1260] #units are in minutes \n",
        "OD=[0.0993333333333333,0.147666666666667,0.203,0.273,0.382333333333333,0.484333333333333,0.723333333333333,0.780333333333333,0.977666666666667,1.035]"
      ],
      "execution_count": null,
      "outputs": []
    },
    {
      "cell_type": "code",
      "metadata": {
        "id": "6V-q24cwf-I4"
      },
      "source": [
        "Ntiempo=np.array(tiempo_od)\n",
        "NOD=np.array(OD)"
      ],
      "execution_count": null,
      "outputs": []
    },
    {
      "cell_type": "markdown",
      "metadata": {
        "id": "SARfD4DrDdhC"
      },
      "source": [
        "we normalize the data to be able to make the comparison"
      ]
    },
    {
      "cell_type": "code",
      "metadata": {
        "id": "RHqLoFzQiRNL"
      },
      "source": [
        "rt=1.33/NC[-1]\n",
        "NC1=[]\n",
        "for i in range(len(NC)):\n",
        "  NC1.append(NC[i]*rt)"
      ],
      "execution_count": null,
      "outputs": []
    },
    {
      "cell_type": "code",
      "metadata": {
        "colab": {
          "base_uri": "https://localhost:8080/",
          "height": 295
        },
        "id": "ade0RG5wVLxo",
        "outputId": "e9fbb8b4-ba19-4054-85de-37f907477db1"
      },
      "source": [
        "axes = plt.gca() \n",
        "plt.plot(tiempos,NC1) \n",
        "plt.plot(tiempo_od,OD)\n",
        "plt.xlabel('Time (min)')\n",
        "plt.ylabel('')\n",
        "plt.title('Growth curve')\n",
        "axes.title.set_size(18)\n",
        "axes.xaxis.label.set_size(14)\n",
        "axes.yaxis.label.set_size(14)\n",
        "#plt.savefig('Growth curve.png')\n",
        "plt.show() "
      ],
      "execution_count": null,
      "outputs": [
        {
          "output_type": "display_data",
          "data": {
            "image/png": "[encoded data removed]",
            "text/plain": [
              "<Figure size 432x288 with 1 Axes>"
            ]
          },
          "metadata": {
            "tags": [],
            "needs_background": "light"
          }
        }
      ]
    },
    {
      "cell_type": "code",
      "metadata": {
        "id": "XF8cASCuR6ie"
      },
      "source": [
        ""
      ],
      "execution_count": null,
      "outputs": []
    }
  ]
}