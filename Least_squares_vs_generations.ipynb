{
  "nbformat": 4,
  "nbformat_minor": 0,
  "metadata": {
    "colab": {
      "name": "Least squares vs generations",
      "provenance": [],
      "authorship_tag": "ABX9TyNKD6dFpM2Nd0+8CryFwrK3"
    },
    "kernelspec": {
      "name": "python3",
      "display_name": "Python 3"
    },
    "language_info": {
      "name": "python"
    }
  },
  "cells": [
    {
      "cell_type": "code",
      "metadata": {
        "id": "qDLUdJbwBNWJ"
      },
      "source": [
        "import statistics\n",
        "import matplotlib.pyplot as plt\n",
        "import numpy as np\n",
        "import math"
      ],
      "execution_count": null,
      "outputs": []
    },
    {
      "cell_type": "markdown",
      "metadata": {
        "id": "N-04K09o9UVE"
      },
      "source": [
        "Data"
      ]
    },
    {
      "cell_type": "markdown",
      "metadata": {
        "id": "R1rHYamF-sJf"
      },
      "source": [
        "The data was taken of the run of the simulation of the \"Comparison of the RLS simulation with the article data\". "
      ]
    },
    {
      "cell_type": "markdown",
      "metadata": {
        "id": "tCJqjlXnWnHc"
      },
      "source": [
        "The nuembers are the least squares that were obtained."
      ]
    },
    {
      "cell_type": "code",
      "metadata": {
        "id": "R05gPwFcBiYT"
      },
      "source": [
        "g0=[0.03437407407407409,0.09870123456790124,0.051312345679012356,0.04789259259259259,0.06436790123456791]\n",
        "g2=[0.16180617283950618,0.06642962962962964,0.17280000000000004,0.18802839506172836,0.21309012345679013]\n",
        "g4=[0.24657160493827157,0.16414567901234567,0.20094814814814818,0.18747283950617286,0.12665185185185188]\n",
        "g6=[0.13384938271604938,0.16872592592592595,0.17362098765432105,0.098120987654321,0.17446049382716047]\n",
        "g8=[0.10653456790123457,0.06815185185185187,0.1095530864197531,0.1423987654320988,0.12246049382716051]\n",
        "g10=[0.24788024691358027,0.15291728395061727,0.1442320987654321,0.13857160493827164,0.15779999999999997]\n",
        "g15=[0.1215037037037037,0.08315802469135804,0.26678148148148145,0.12096049382716052,0.15851604938271605]\n",
        "g20=[0.13155925925925932,0.14251604938271606,0.08746666666666668,0.3130530864197531,0.1333987654320988]\n",
        "g25=[0.19817654320987654,0.13283086419753087,0.09149753086419754,0.11586463830324455,0.13662098765432099]\n",
        "g30=[0.12880617283950618,0.17705925925925928,0.14523209876543214,0.08082469135802473,0.2233802469135803]\n",
        "g35=[0.150016049382716,0.1610530864197531,0.08254074074074078,0.14125061728395066,0.17476296296296298]\n",
        "g40=[0.16912098765432096,0.13369506172839504,0.16976296296296298,0.1617691358024691,0.0928246913580247]"
      ],
      "execution_count": null,
      "outputs": []
    },
    {
      "cell_type": "code",
      "metadata": {
        "id": "FH0IpgI9HZ_Y"
      },
      "source": [
        "def intervalo(x):\n",
        "  inte=(1.96)*(x/(np.sqrt(5)))\n",
        "  return inte "
      ],
      "execution_count": null,
      "outputs": []
    },
    {
      "cell_type": "markdown",
      "metadata": {
        "id": "h7BzKBhXWwq8"
      },
      "source": [
        "\n",
        "\n",
        "---\n",
        "\n",
        "\n",
        "\n",
        "---\n",
        "\n"
      ]
    },
    {
      "cell_type": "code",
      "metadata": {
        "colab": {
          "base_uri": "https://localhost:8080/"
        },
        "id": "6kQcJWTLBlNS",
        "outputId": "2b575d4e-e804-465c-b29a-3b1c76ae9c1d"
      },
      "source": [
        "promg0=statistics.mean(g0) \n",
        "standar0=statistics.stdev(g0)\n",
        "i0=intervalo(standar0)\n",
        "print(promg0,standar0,i0)"
      ],
      "execution_count": null,
      "outputs": [
        {
          "output_type": "stream",
          "text": [
            "0.059329629629629635 0.024461039774497845 0.021441046712552495\n"
          ],
          "name": "stdout"
        }
      ]
    },
    {
      "cell_type": "code",
      "metadata": {
        "colab": {
          "base_uri": "https://localhost:8080/"
        },
        "id": "Xx0xac0TBnZN",
        "outputId": "4f4add60-4374-4682-84b4-958f7bf8e818"
      },
      "source": [
        "promg2=statistics.mean(g2) \n",
        "standar2=statistics.stdev(g2)\n",
        "i2=intervalo(standar2)\n",
        "print(promg2,standar2,i2)"
      ],
      "execution_count": null,
      "outputs": [
        {
          "output_type": "stream",
          "text": [
            "0.16043086419753086 0.05595922709925598 0.04905042521881561\n"
          ],
          "name": "stdout"
        }
      ]
    },
    {
      "cell_type": "code",
      "metadata": {
        "colab": {
          "base_uri": "https://localhost:8080/"
        },
        "id": "06dF0_UFBpeV",
        "outputId": "1033b4f2-9222-4c56-b79c-30ff6a2ec31b"
      },
      "source": [
        "promg4=statistics.mean(g4) \n",
        "standar4=statistics.stdev(g4)\n",
        "i4=intervalo(standar4)\n",
        "print(promg4,standar4,i4)"
      ],
      "execution_count": null,
      "outputs": [
        {
          "output_type": "stream",
          "text": [
            "0.18515802469135803 0.04441510198235541 0.03893155340597188\n"
          ],
          "name": "stdout"
        }
      ]
    },
    {
      "cell_type": "code",
      "metadata": {
        "colab": {
          "base_uri": "https://localhost:8080/"
        },
        "id": "X43F8AWABsFJ",
        "outputId": "10696958-1beb-4676-ca8a-0d2213142b07"
      },
      "source": [
        "promg6=statistics.mean(g6) \n",
        "standar6=statistics.stdev(g6)\n",
        "i6=intervalo(standar6)\n",
        "print(promg6,standar6,i6)"
      ],
      "execution_count": null,
      "outputs": [
        {
          "output_type": "stream",
          "text": [
            "0.14975555555555556 0.033387507817299975 0.02926544093488504\n"
          ],
          "name": "stdout"
        }
      ]
    },
    {
      "cell_type": "code",
      "metadata": {
        "colab": {
          "base_uri": "https://localhost:8080/"
        },
        "id": "oOHSU59vBt7t",
        "outputId": "9168beed-13fa-48cb-e112-82ac8614d6b7"
      },
      "source": [
        "promg8=statistics.mean(g8) \n",
        "standar8=statistics.stdev(g8)\n",
        "i8=intervalo(standar8)\n",
        "print(promg8,standar8,i8)"
      ],
      "execution_count": null,
      "outputs": [
        {
          "output_type": "stream",
          "text": [
            "0.10981975308641977 0.027240860476498843 0.023877666990087178\n"
          ],
          "name": "stdout"
        }
      ]
    },
    {
      "cell_type": "code",
      "metadata": {
        "colab": {
          "base_uri": "https://localhost:8080/"
        },
        "id": "RppO8-JPBvm4",
        "outputId": "815f3678-d478-4dfa-d772-d0cfd62a2dfe"
      },
      "source": [
        "promg10=statistics.mean(g10) \n",
        "standar10=statistics.stdev(g10)\n",
        "i10=intervalo(standar10)\n",
        "print(promg10,standar10,i10)"
      ],
      "execution_count": null,
      "outputs": [
        {
          "output_type": "stream",
          "text": [
            "0.16828024691358026 0.04511910084360983 0.03954863561543204\n"
          ],
          "name": "stdout"
        }
      ]
    },
    {
      "cell_type": "code",
      "metadata": {
        "colab": {
          "base_uri": "https://localhost:8080/"
        },
        "id": "b6pHXa-fBy0_",
        "outputId": "662d4eb1-b413-45e4-972e-23de9ceab8ad"
      },
      "source": [
        "promg15=statistics.mean(g15) \n",
        "standar15=statistics.stdev(g15)\n",
        "i15=intervalo(standar15)\n",
        "print(promg15,standar15,i15)"
      ],
      "execution_count": null,
      "outputs": [
        {
          "output_type": "stream",
          "text": [
            "0.15018395061728396 0.07041564067996586 0.06172203042192444\n"
          ],
          "name": "stdout"
        }
      ]
    },
    {
      "cell_type": "code",
      "metadata": {
        "colab": {
          "base_uri": "https://localhost:8080/"
        },
        "id": "2pe8B02PB07m",
        "outputId": "4dba122d-88f6-4cbb-a6aa-2d90b96e5b24"
      },
      "source": [
        "promg20=statistics.mean(g20) \n",
        "standar20=statistics.stdev(g20)\n",
        "i20=intervalo(standar20)\n",
        "print(promg20,standar20,i20)"
      ],
      "execution_count": null,
      "outputs": [
        {
          "output_type": "stream",
          "text": [
            "0.16159876543209878 0.0873151495963453 0.07653510310549264\n"
          ],
          "name": "stdout"
        }
      ]
    },
    {
      "cell_type": "code",
      "metadata": {
        "colab": {
          "base_uri": "https://localhost:8080/"
        },
        "id": "VqDvJa4xB2pw",
        "outputId": "68a77e23-5365-4da8-8366-2e09f2c3d13e"
      },
      "source": [
        "promg25=statistics.mean(g25) \n",
        "standar25=statistics.stdev(g25)\n",
        "i25=intervalo(standar25)\n",
        "print(promg25,standar25,i25)"
      ],
      "execution_count": null,
      "outputs": [
        {
          "output_type": "stream",
          "text": [
            "0.1349981128458341 0.03955134395132724 0.034668281521243995\n"
          ],
          "name": "stdout"
        }
      ]
    },
    {
      "cell_type": "code",
      "metadata": {
        "colab": {
          "base_uri": "https://localhost:8080/"
        },
        "id": "lLZyYvYjB4Rf",
        "outputId": "0e0728f1-dc7f-4cf7-929b-d99c9360f306"
      },
      "source": [
        "promg30=statistics.mean(g30) \n",
        "standar30=statistics.stdev(g30)\n",
        "i30=intervalo(standar30)\n",
        "print(promg30,standar30,i30)"
      ],
      "execution_count": null,
      "outputs": [
        {
          "output_type": "stream",
          "text": [
            "0.15106049382716052 0.053311292027521266 0.046729407793217013\n"
          ],
          "name": "stdout"
        }
      ]
    },
    {
      "cell_type": "code",
      "metadata": {
        "colab": {
          "base_uri": "https://localhost:8080/"
        },
        "id": "6pKWkMIqB6BK",
        "outputId": "3fb1f92f-fff8-43fc-b5a3-39ad66c25a95"
      },
      "source": [
        "promg35=statistics.mean(g35) \n",
        "standar35=statistics.stdev(g35)\n",
        "i35=intervalo(standar35)\n",
        "print(promg35,standar35,i35)"
      ],
      "execution_count": null,
      "outputs": [
        {
          "output_type": "stream",
          "text": [
            "0.1419246913580247 0.03548459391445231 0.031103617945502763\n"
          ],
          "name": "stdout"
        }
      ]
    },
    {
      "cell_type": "code",
      "metadata": {
        "colab": {
          "base_uri": "https://localhost:8080/"
        },
        "id": "0LWx0KAyB8MF",
        "outputId": "602cf836-598e-4fda-e6f9-1afe524b04af"
      },
      "source": [
        "promg40=statistics.mean(g40) \n",
        "standar40=statistics.stdev(g40)\n",
        "i40=intervalo(standar40)\n",
        "print(promg40,standar40,i40)"
      ],
      "execution_count": null,
      "outputs": [
        {
          "output_type": "stream",
          "text": [
            "0.14543456790123455 0.0328836985092648 0.028823832605583237\n"
          ],
          "name": "stdout"
        }
      ]
    },
    {
      "cell_type": "code",
      "metadata": {
        "colab": {
          "base_uri": "https://localhost:8080/"
        },
        "id": "mpxZiYm2B-ON",
        "outputId": "ce3d1f78-26cb-4b85-82d2-10a85348d9a5"
      },
      "source": [
        "x=[0,2,4,6,8,10,15,20,25,30,35,40]\n",
        "y=[promg0,promg2,promg4,promg6,promg8,promg10,promg15,promg20,promg25,promg30,promg35,promg40]\n",
        "yerr=[i0,i2,i4,i6,i8,i10,i15,i20,i25,i30,i35,i40]"
      ],
      "execution_count": null,
      "outputs": [
        {
          "output_type": "stream",
          "text": [
            "12\n",
            "12\n"
          ],
          "name": "stdout"
        }
      ]
    },
    {
      "cell_type": "code",
      "metadata": {
        "colab": {
          "base_uri": "https://localhost:8080/",
          "height": 305
        },
        "id": "z-ruS_lRCAN9",
        "outputId": "1f49201d-80df-4f72-b56b-e807d122ee0e"
      },
      "source": [
        "plt.scatter(x,y) \n",
        "axes = plt.gca() \n",
        "plt.errorbar(x,y,yerr=yerr,xerr=None)\n",
        "plt.xlabel('Generations')\n",
        "plt.ylabel('Least squares')\n",
        "plt.title(' ')\n",
        "axes.title.set_size(20)\n",
        "axes.xaxis.label.set_size(16)\n",
        "axes.yaxis.label.set_size(16)\n",
        "plt.savefig('Least squares .png')\n",
        "plt.show() "
      ],
      "execution_count": null,
      "outputs": [
        {
          "output_type": "display_data",
          "data": {
            "image/png": "[encoded data removed]",
            "text/plain": [
              "<Figure size 432x288 with 1 Axes>"
            ]
          },
          "metadata": {
            "tags": [],
            "needs_background": "light"
          }
        }
      ]
    },
    {
      "cell_type": "code",
      "metadata": {
        "id": "Ahk8Pw-xMMWz"
      },
      "source": [
        ""
      ],
      "execution_count": null,
      "outputs": []
    }
  ]
}