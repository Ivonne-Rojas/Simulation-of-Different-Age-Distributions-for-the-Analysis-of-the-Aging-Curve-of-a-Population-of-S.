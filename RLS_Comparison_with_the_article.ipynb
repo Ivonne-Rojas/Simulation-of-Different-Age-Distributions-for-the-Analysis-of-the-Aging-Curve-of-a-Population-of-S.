{
  "nbformat": 4,
  "nbformat_minor": 0,
  "metadata": {
    "colab": {
      "name": "RLS Comparison with the article ",
      "provenance": [],
      "collapsed_sections": [],
      "authorship_tag": "ABX9TyO534oW3BkRTSUlGnLbx+WD",
      "include_colab_link": true
    },
    "kernelspec": {
      "name": "python3",
      "display_name": "Python 3"
    }
  },
  "cells": [
    {
      "cell_type": "markdown",
      "metadata": {
        "id": "view-in-github",
        "colab_type": "text"
      },
      "source": [
        "<a href=\"https://colab.research.google.com/github/Ivonne-Rojas/Simulation-of-Different-Age-Distributions-for-the-Analysis-of-the-Aging-Curve-of-a-Population-of-S./blob/main/RLS_Comparison_with_the_article.ipynb\" target=\"_parent\"><img src=\"https://colab.research.google.com/assets/colab-badge.svg\" alt=\"Open In Colab\"/></a>"
      ]
    },
    {
      "cell_type": "code",
      "metadata": {
        "id": "-aCEZHiDLUSd"
      },
      "source": [
        "import pandas as pd \n",
        "import numpy as np\n",
        "import matplotlib.pyplot as plt\n",
        "import collections as coll \n",
        "import random\n",
        "import openpyxl\n",
        "from openpyxl import load_workbook\n",
        "from time import time\n",
        "from timeit import timeit\n",
        "from scipy.interpolate import interp1d # para el analisis de datos, regresion \t\n",
        "from scipy.optimize import curve_fit"
      ],
      "execution_count": null,
      "outputs": []
    },
    {
      "cell_type": "code",
      "metadata": {
        "id": "jRavHuDHYNX7"
      },
      "source": [
        "import pandas as pd \n",
        "import numpy as np\n",
        "import matplotlib.pyplot as plt\n",
        "import collections as coll \n",
        "import random\n",
        "from scipy import stats\n",
        "import seaborn as sns  \n",
        "from scipy.special import ndtri"
      ],
      "execution_count": null,
      "outputs": []
    },
    {
      "cell_type": "code",
      "metadata": {
        "id": "dffUUXLtLj_T"
      },
      "source": [
        "tiempo_inicial = time() \n",
        "wb = openpyxl.load_workbook (\"250mil tiempos.xlsx\")\n",
        "hoja = wb['Hoja1']\n",
        "\n",
        "l = []\n",
        "#hoja.iter_rows()\n",
        "for row in hoja['A1':'A99']:\n",
        "  v = row[0].value\n",
        "  l.append(v)\n",
        "#print(L[0])\n",
        "print(len(l))\n",
        "tiempo_final = time()\n",
        "tiempo_ejecucion = tiempo_final - tiempo_inicial\n",
        "print(tiempo_ejecucion)"
      ],
      "execution_count": null,
      "outputs": []
    },
    {
      "cell_type": "code",
      "metadata": {
        "colab": {
          "base_uri": "https://localhost:8080/"
        },
        "id": "zjFpwbPNLoO5",
        "outputId": "2fdad6e8-fe25-4aa8-f9f0-a18c03d289db"
      },
      "source": [
        "tiempo_inicial = time()# libreria para calcular el tiempo de ejecucion  \n",
        "#-------------------------------------------------------------------------------\n",
        "#variables \n",
        "s=[]#para guardar los tiempos aleatorios de replicacion\n",
        "R=0\n",
        "celulas=[]\n",
        "zi=[1,0,0,0,0,0,0,0,0,0,0,0,0,0,0,0,0,0,0,0,0,0,0,0,0,0,0,0,0,0,0]# matrix inicial  \n",
        "t=0 # tiempo que ha pasado  \n",
        "tr=[]#lista para guardar t (tiempo total )\n",
        "m=20 # si se muere en uno menos del numero  \n",
        "muertes=0# variable para contabilizar el numero de celulas muertas y no viables \n",
        "fraccion=[]\n",
        "suma=[]# lista para guardar el numero total de celulas o la suma de la matriz \n",
        "r=0 # crecimiento per capita\n",
        "#------------------------------------------------------------------------------- \n",
        "#primer for que hace los nacimientos y corre los numeros \n",
        "for j in range(30):# numero de iteraciones o numero de generaciones la cual se va realizar \n",
        "  zf=np.zeros(m,dtype=np.int64) # tiene que tener una longitud definida la cual sera la generacion en la que se mueran las celulas\n",
        "  for i in range(m-1): # numero menor al numero de generaciones \n",
        "    zf[i+1]= zi[i]\n",
        "    zf[0]=sum(zi)-zi[-1]\n",
        "  zi=zf\n",
        "#-------------------------------------------------------------------------------\n",
        "#asincronico \n",
        "  #s=[]#para guardar los tiempos aleatorios de replicacion\n",
        "  #for k in range(zi[0]):\n",
        "    #R=random.choice(l)\n",
        "    #s.append(R) \n",
        "#-------------------------------------------------------------------------------\n",
        "#sincronico \n",
        "  #R=R+120\n",
        "  #s.append(R)\n",
        "  #celulas.append(sum(zi)) \n",
        "#-------------------------------------------------------------------------------\n",
        "  #t=t+max(s)    # tiempo total que se ha demorado las celulas en cada iteracion \n",
        "  #tr.append(t)\n",
        "#-------------------------------------------------------------------------------\n",
        "#calculos \n",
        "  muertes=muertes+zf[-1]#para guardas las celulas muertas\n",
        "  total_celulas= sum(zi)+muertes #total de celulas teniendo en cuenta las muertes para sacar la fraccion de celulas viables \n",
        "  fraccion_viables= (sum(zi)-zi[-1])/total_celulas\n",
        "  fraccion.append(fraccion_viables)\n",
        "  r=zi[0]-muertes # numero de nacimientos menos numero de muertes \n",
        "#-------------------------------------------------------------------------------\n",
        "  total=sum(zi)#numero total de celulas viables\n",
        "  suma.append(total)\n",
        "#-------------------------------------------------------------------------------\n",
        "  print(zi)\n",
        "  #print('s',s)\n",
        "  #print('tiempo',t)\n",
        "  #print('lista tiempo',tr)\n",
        "  print('No viable', muertes)\n",
        "  #print('Crecimiento per capita', r)\n",
        "  #print('total de celulas vivas', total)\n",
        "  #print('total celulas',total_celulas)\n",
        "  #print('fraccion',fraccion_viables)\n",
        "  #print(fraccion)\n",
        "  print('---------------')\n",
        "#-------------------------------------------------------------------------------\n",
        "print(len(zi))\n",
        "tiempo_final = time()\n",
        "tiempo_ejecucion = tiempo_final - tiempo_inicial\n",
        "print('tiempo de ejecucion',tiempo_ejecucion)"
      ],
      "execution_count": null,
      "outputs": [
        {
          "output_type": "stream",
          "text": [
            "[1 1 0 0 0 0 0 0 0 0 0 0 0 0 0 0 0 0 0 0]\n",
            "No viable 0\n",
            "---------------\n",
            "[2 1 1 0 0 0 0 0 0 0 0 0 0 0 0 0 0 0 0 0]\n",
            "No viable 0\n",
            "---------------\n",
            "[4 2 1 1 0 0 0 0 0 0 0 0 0 0 0 0 0 0 0 0]\n",
            "No viable 0\n",
            "---------------\n",
            "[8 4 2 1 1 0 0 0 0 0 0 0 0 0 0 0 0 0 0 0]\n",
            "No viable 0\n",
            "---------------\n",
            "[16  8  4  2  1  1  0  0  0  0  0  0  0  0  0  0  0  0  0  0]\n",
            "No viable 0\n",
            "---------------\n",
            "[32 16  8  4  2  1  1  0  0  0  0  0  0  0  0  0  0  0  0  0]\n",
            "No viable 0\n",
            "---------------\n",
            "[64 32 16  8  4  2  1  1  0  0  0  0  0  0  0  0  0  0  0  0]\n",
            "No viable 0\n",
            "---------------\n",
            "[128  64  32  16   8   4   2   1   1   0   0   0   0   0   0   0   0   0\n",
            "   0   0]\n",
            "No viable 0\n",
            "---------------\n",
            "[256 128  64  32  16   8   4   2   1   1   0   0   0   0   0   0   0   0\n",
            "   0   0]\n",
            "No viable 0\n",
            "---------------\n",
            "[512 256 128  64  32  16   8   4   2   1   1   0   0   0   0   0   0   0\n",
            "   0   0]\n",
            "No viable 0\n",
            "---------------\n",
            "[1024  512  256  128   64   32   16    8    4    2    1    1    0    0\n",
            "    0    0    0    0    0    0]\n",
            "No viable 0\n",
            "---------------\n",
            "[2048 1024  512  256  128   64   32   16    8    4    2    1    1    0\n",
            "    0    0    0    0    0    0]\n",
            "No viable 0\n",
            "---------------\n",
            "[4096 2048 1024  512  256  128   64   32   16    8    4    2    1    1\n",
            "    0    0    0    0    0    0]\n",
            "No viable 0\n",
            "---------------\n",
            "[8192 4096 2048 1024  512  256  128   64   32   16    8    4    2    1\n",
            "    1    0    0    0    0    0]\n",
            "No viable 0\n",
            "---------------\n",
            "[16384  8192  4096  2048  1024   512   256   128    64    32    16     8\n",
            "     4     2     1     1     0     0     0     0]\n",
            "No viable 0\n",
            "---------------\n",
            "[32768 16384  8192  4096  2048  1024   512   256   128    64    32    16\n",
            "     8     4     2     1     1     0     0     0]\n",
            "No viable 0\n",
            "---------------\n",
            "[65536 32768 16384  8192  4096  2048  1024   512   256   128    64    32\n",
            "    16     8     4     2     1     1     0     0]\n",
            "No viable 0\n",
            "---------------\n",
            "[131072  65536  32768  16384   8192   4096   2048   1024    512    256\n",
            "    128     64     32     16      8      4      2      1      1      0]\n",
            "No viable 0\n",
            "---------------\n",
            "[262144 131072  65536  32768  16384   8192   4096   2048   1024    512\n",
            "    256    128     64     32     16      8      4      2      1      1]\n",
            "No viable 1\n",
            "---------------\n",
            "[524287 262144 131072  65536  32768  16384   8192   4096   2048   1024\n",
            "    512    256    128     64     32     16      8      4      2      1]\n",
            "No viable 2\n",
            "---------------\n",
            "[1048573  524287  262144  131072   65536   32768   16384    8192    4096\n",
            "    2048    1024     512     256     128      64      32      16       8\n",
            "       4       2]\n",
            "No viable 4\n",
            "---------------\n",
            "[2097144 1048573  524287  262144  131072   65536   32768   16384    8192\n",
            "    4096    2048    1024     512     256     128      64      32      16\n",
            "       8       4]\n",
            "No viable 8\n",
            "---------------\n",
            "[4194284 2097144 1048573  524287  262144  131072   65536   32768   16384\n",
            "    8192    4096    2048    1024     512     256     128      64      32\n",
            "      16       8]\n",
            "No viable 16\n",
            "---------------\n",
            "[8388560 4194284 2097144 1048573  524287  262144  131072   65536   32768\n",
            "   16384    8192    4096    2048    1024     512     256     128      64\n",
            "      32      16]\n",
            "No viable 32\n",
            "---------------\n",
            "[16777104  8388560  4194284  2097144  1048573   524287   262144   131072\n",
            "    65536    32768    16384     8192     4096     2048     1024      512\n",
            "      256      128       64       32]\n",
            "No viable 64\n",
            "---------------\n",
            "[33554176 16777104  8388560  4194284  2097144  1048573   524287   262144\n",
            "   131072    65536    32768    16384     8192     4096     2048     1024\n",
            "      512      256      128       64]\n",
            "No viable 128\n",
            "---------------\n",
            "[67108288 33554176 16777104  8388560  4194284  2097144  1048573   524287\n",
            "   262144   131072    65536    32768    16384     8192     4096     2048\n",
            "     1024      512      256      128]\n",
            "No viable 256\n",
            "---------------\n",
            "[134216448  67108288  33554176  16777104   8388560   4194284   2097144\n",
            "   1048573    524287    262144    131072     65536     32768     16384\n",
            "      8192      4096      2048      1024       512       256]\n",
            "No viable 512\n",
            "---------------\n",
            "[268432640 134216448  67108288  33554176  16777104   8388560   4194284\n",
            "   2097144   1048573    524287    262144    131072     65536     32768\n",
            "     16384      8192      4096      2048      1024       512]\n",
            "No viable 1024\n",
            "---------------\n",
            "[536864768 268432640 134216448  67108288  33554176  16777104   8388560\n",
            "   4194284   2097144   1048573    524287    262144    131072     65536\n",
            "     32768     16384      8192      4096      2048      1024]\n",
            "No viable 2048\n",
            "---------------\n",
            "20\n",
            "tiempo de ejecucion 0.04285740852355957\n"
          ],
          "name": "stdout"
        }
      ]
    },
    {
      "cell_type": "code",
      "metadata": {
        "colab": {
          "base_uri": "https://localhost:8080/"
        },
        "id": "alV_7qoWLyDi",
        "outputId": "4fa10414-0d60-4b02-acba-7965ea67dd6b"
      },
      "source": [
        "indice=[]#edades\n",
        "ind=-1\n",
        "for i in range(len(zi)):\n",
        "  ind=ind+1\n",
        "  indice.append(ind)\n",
        "print(indice)"
      ],
      "execution_count": null,
      "outputs": [
        {
          "output_type": "stream",
          "text": [
            "[0, 1, 2, 3, 4, 5, 6, 7, 8, 9, 10, 11, 12, 13, 14, 15, 16, 17, 18, 19]\n"
          ],
          "name": "stdout"
        }
      ]
    },
    {
      "cell_type": "code",
      "metadata": {
        "colab": {
          "base_uri": "https://localhost:8080/"
        },
        "id": "qFI6z_BuL5YJ",
        "outputId": "18295705-c89d-4221-a7ae-20ef8ee0f528"
      },
      "source": [
        "dic= dict(zip(zi,indice))# diccionario con la edad y el numero de celulas en esa edad distribucion de edades \n",
        "print(dic)# NC y edad "
      ],
      "execution_count": null,
      "outputs": [
        {
          "output_type": "stream",
          "text": [
            "{536864768: 0, 268432640: 1, 134216448: 2, 67108288: 3, 33554176: 4, 16777104: 5, 8388560: 6, 4194284: 7, 2097144: 8, 1048573: 9, 524287: 10, 262144: 11, 131072: 12, 65536: 13, 32768: 14, 16384: 15, 8192: 16, 4096: 17, 2048: 18, 1024: 19}\n"
          ],
          "name": "stdout"
        }
      ]
    },
    {
      "cell_type": "markdown",
      "metadata": {
        "id": "85JnEp9ZM5Tg"
      },
      "source": [
        "Probabilidad"
      ]
    },
    {
      "cell_type": "code",
      "metadata": {
        "colab": {
          "base_uri": "https://localhost:8080/"
        },
        "id": "Fza7svSCM6Rm",
        "outputId": "4eec1626-9c29-4149-e99e-23d95cf75967"
      },
      "source": [
        "P=[] # me guarda las probabilidades de cada edad de la distribucion \n",
        "for i in zi:\n",
        "  p=i/total_celulas # se tiene en cuentas las celulas que ya se murieron \n",
        "  P.append(p)\n",
        "print(P)"
      ],
      "execution_count": null,
      "outputs": [
        {
          "output_type": "stream",
          "text": [
            "[0.49999904631658854, 0.24999976157914713, 0.125, 0.06250005960521321, 0.031250059605213217, 0.01562504470390991, 0.007812529802606608, 0.00390626862662913, 0.0019531361759774777, 0.0009765690193201954, 0.0004882849753258259, 0.0002441429533286412, 0.0001220714766643206, 6.10357383321603e-05, 3.051786916608015e-05, 1.5258934583040076e-05, 7.629467291520038e-06, 3.814733645760019e-06, 1.9073668228800095e-06, 9.536834114400048e-07]\n"
          ],
          "name": "stdout"
        }
      ]
    },
    {
      "cell_type": "code",
      "metadata": {
        "colab": {
          "base_uri": "https://localhost:8080/",
          "height": 295
        },
        "id": "Wjhi8TRvM-DC",
        "outputId": "33c52b73-7af4-40be-dd6a-050049e7a6ae"
      },
      "source": [
        "fig, ax = plt.subplots() # coloca los letreros  \n",
        "ax.set_ylabel('Probabilidad')\n",
        "ax.set_xlabel('Edad')\n",
        "ax.set_title('Distribución de probabilidades')\n",
        "plt.bar(indice, P)\n",
        "#plt.savefig('barras_simple.png')\n",
        "plt.show()"
      ],
      "execution_count": null,
      "outputs": [
        {
          "output_type": "display_data",
          "data": {
            "image/png": "[encoded data removed]",
            "text/plain": [
              "<Figure size 432x288 with 1 Axes>"
            ]
          },
          "metadata": {
            "tags": [],
            "needs_background": "light"
          }
        }
      ]
    },
    {
      "cell_type": "code",
      "metadata": {
        "colab": {
          "base_uri": "https://localhost:8080/"
        },
        "id": "n4HlEze7NE-o",
        "outputId": "f9ce7402-2b40-4d74-b93d-385c7980b07a"
      },
      "source": [
        "sample= random.choices(indice,weights=P,k=180)   # me genera una muestra de celulas \n",
        "print(sample)# cero significa que tiene edad cero "
      ],
      "execution_count": null,
      "outputs": [
        {
          "output_type": "stream",
          "text": [
            "[0, 2, 5, 1, 4, 0, 1, 1, 0, 0, 1, 0, 0, 0, 0, 1, 0, 2, 1, 2, 0, 1, 1, 1, 1, 1, 0, 2, 0, 0, 0, 0, 0, 5, 1, 7, 0, 0, 4, 3, 0, 1, 0, 2, 1, 0, 0, 3, 0, 1, 0, 3, 0, 2, 0, 0, 4, 0, 1, 0, 0, 2, 0, 0, 3, 3, 0, 2, 0, 5, 0, 0, 2, 0, 1, 0, 3, 1, 10, 2, 0, 0, 0, 3, 0, 0, 0, 0, 0, 4, 1, 0, 1, 1, 2, 1, 1, 0, 1, 0, 3, 2, 2, 1, 0, 1, 0, 1, 2, 0, 0, 2, 1, 1, 0, 0, 6, 0, 2, 2, 4, 1, 1, 1, 0, 2, 1, 1, 1, 0, 0, 0, 0, 0, 0, 0, 1, 1, 1, 2, 0, 0, 1, 1, 0, 0, 0, 0, 0, 2, 0, 1, 0, 0, 3, 1, 0, 5, 1, 1, 2, 1, 1, 4, 2, 0, 0, 1, 0, 3, 1, 0, 1, 1, 2, 1, 3, 0, 1, 0]\n"
          ],
          "name": "stdout"
        }
      ]
    },
    {
      "cell_type": "code",
      "metadata": {
        "colab": {
          "base_uri": "https://localhost:8080/"
        },
        "id": "Iv_pfD59NJ6g",
        "outputId": "e90a6838-5046-4c06-bb3c-3710997432f4"
      },
      "source": [
        " print(coll.Counter(sample)) #cuantas celulas fueron elegidas de esa edad {edad: numero de celulas}"
      ],
      "execution_count": null,
      "outputs": [
        {
          "output_type": "stream",
          "text": [
            "Counter({0: 81, 1: 52, 2: 23, 3: 11, 4: 6, 5: 4, 7: 1, 10: 1, 6: 1})\n"
          ],
          "name": "stdout"
        }
      ]
    },
    {
      "cell_type": "markdown",
      "metadata": {
        "id": "IyZYA__ciGhn"
      },
      "source": [
        "Convolución "
      ]
    },
    {
      "cell_type": "code",
      "metadata": {
        "id": "HFMAn4WRUdgR"
      },
      "source": [
        "lista=[0,1,2,3,4,5,6,7]"
      ],
      "execution_count": null,
      "outputs": []
    },
    {
      "cell_type": "code",
      "metadata": {
        "colab": {
          "base_uri": "https://localhost:8080/"
        },
        "id": "pPwHj983HrLW",
        "outputId": "f2390805-d2a8-44ce-820c-b7d337d1c08f"
      },
      "source": [
        "Dic= coll.Counter(sample)\n",
        "Dics=sorted(Dic)\n",
        "print(Dics)"
      ],
      "execution_count": null,
      "outputs": [
        {
          "output_type": "stream",
          "text": [
            "[0, 1, 2, 3, 4, 5, 6, 7, 10]\n"
          ],
          "name": "stdout"
        }
      ]
    },
    {
      "cell_type": "code",
      "metadata": {
        "colab": {
          "base_uri": "https://localhost:8080/"
        },
        "id": "z4CnYnYZI9P5",
        "outputId": "78109dd5-f4d6-43bf-ab5e-c3019c524422"
      },
      "source": [
        "valores_ord = coll.OrderedDict(sorted(Dic.items()))\n",
        "print(valores_ord)\n",
        "print(valores_ord[0])"
      ],
      "execution_count": null,
      "outputs": [
        {
          "output_type": "stream",
          "text": [
            "OrderedDict([(0, 81), (1, 52), (2, 23), (3, 11), (4, 6), (5, 4), (6, 1), (7, 1), (10, 1)])\n",
            "81\n"
          ],
          "name": "stdout"
        }
      ]
    },
    {
      "cell_type": "code",
      "metadata": {
        "colab": {
          "base_uri": "https://localhost:8080/"
        },
        "id": "wJiAh1iLLJEY",
        "outputId": "60224e6c-968d-4193-bc49-3d0fe6ff04be"
      },
      "source": [
        "valores=valores_ord.values()\n",
        "llaves=valores_ord.keys()\n",
        "Ncell=[]\n",
        "Edad=[]\n",
        "for i in valores:\n",
        "  Ncell.append(i)\n",
        "print('Numero de celulas',Ncell)\n",
        "for j in llaves:\n",
        "  Edad.append(j)\n",
        "print('Edades',Edad)\n",
        "print(sum(Ncell))"
      ],
      "execution_count": null,
      "outputs": [
        {
          "output_type": "stream",
          "text": [
            "Numero de celulas [81, 52, 23, 11, 6, 4, 1, 1, 1]\n",
            "Edades [0, 1, 2, 3, 4, 5, 6, 7, 10]\n",
            "180\n"
          ],
          "name": "stdout"
        }
      ]
    },
    {
      "cell_type": "code",
      "metadata": {
        "colab": {
          "base_uri": "https://localhost:8080/"
        },
        "id": "PvewRqbzPDly",
        "outputId": "c4931777-c202-47dc-a320-cec849b539d6"
      },
      "source": [
        "inicial1=[0,0,0,0,0,0,0,0,0,0,0,0,0,0,0,0,0,0,0,0,0,0,0,0,0]\n",
        "for i in range(9):\n",
        "  if i==Edad[i]:\n",
        "    inicial1[i]=Ncell[i]\n",
        "  else:\n",
        "    inicial1[i]=0\n",
        "    inicial1[i+2]=Ncell[i]\n",
        "    #print(inicial1)\n",
        "print(inicial1)"
      ],
      "execution_count": null,
      "outputs": [
        {
          "output_type": "stream",
          "text": [
            "[81, 52, 23, 11, 6, 4, 1, 1, 0, 0, 1, 0, 0, 0, 0, 0, 0, 0, 0, 0, 0, 0, 0, 0, 0]\n",
            "[81, 52, 23, 11, 6, 4, 1, 1, 0, 0, 1, 0, 0, 0, 0, 0, 0, 0, 0, 0, 0, 0, 0, 0, 0]\n"
          ],
          "name": "stdout"
        }
      ]
    },
    {
      "cell_type": "code",
      "metadata": {
        "colab": {
          "base_uri": "https://localhost:8080/"
        },
        "id": "CSj5LPCUXJ-T",
        "outputId": "8a12c9fb-e66e-4afc-f25e-1702e7310eab"
      },
      "source": [
        "tiempo_inicial = time()# libreria para calcular el tiempo de ejecucion  \n",
        "#-------------------------------------------------------------------------------\n",
        "#variables \n",
        "s_1=[]#para guardar los tiempos aleatorios de replicacion\n",
        "R_1=0\n",
        "celulas_1=[]\n",
        "t_1=0 # tiempo que ha pasado  \n",
        "tr_1=[]#lista para guardar t (tiempo total )\n",
        "m_1=15 # si se muere en uno menos del numero  \n",
        "muertes_1=0# variable para contabilizar el numero de celulas muertas y no viables \n",
        "fraccion_1=[]\n",
        "suma_1=[]# lista para guardar el numero total de celulas o la suma de la matriz \n",
        "r_1=0 # crecimiento per capita\n",
        "#------------------------------------------------------------------------------- \n",
        "#primer for que hace los nacimientos y corre los numeros \n",
        "for j_1 in range(5):# numero de iteraciones o numero de generaciones la cual se va realizar \n",
        "  zf_1=np.zeros(m,dtype=np.int64) # tiene que tener una longitud definida la cual sera la generacion en la que se mueran las celulas\n",
        "  for i_1 in range(m_1-1): # numero menor al numero de generaciones \n",
        "    zf_1[i_1+1]= inicial1[i_1]\n",
        "    zf_1[0]=sum(inicial1)-inicial1[-1]\n",
        "  inicial1=zf_1\n",
        "#-------------------------------------------------------------------------------\n",
        "#asincronico \n",
        "  #s=[]#para guardar los tiempos aleatorios de replicacion\n",
        "  #for k in range(zi[0]):\n",
        "    #R=random.choice(l)\n",
        "    #s.append(R) \n",
        "#-------------------------------------------------------------------------------\n",
        "#sincronico \n",
        "  #R=R+120\n",
        "  #s.append(R)\n",
        "  #celulas.append(sum(zi)) \n",
        "#-------------------------------------------------------------------------------\n",
        "  #t=t+max(s)    # tiempo total que se ha demorado las celulas en cada iteracion \n",
        "  #tr.append(t)\n",
        "#-------------------------------------------------------------------------------\n",
        "#calculos \n",
        "  muertes_1=muertes_1+zf_1[-1]#para guardas las celulas muertas\n",
        "  total_celulas_1= sum(inicial1)+muertes_1 #total de celulas teniendo en cuenta las muertes para sacar la fraccion de celulas viables \n",
        "  fraccion_viables_1= (sum(inicial1)-inicial1[-1])/total_celulas_1\n",
        "  fraccion.append(fraccion_viables_1)\n",
        "  r_1=inicial1[0]-muertes_1 # numero de nacimientos menos numero de muertes \n",
        "#-------------------------------------------------------------------------------\n",
        "  total_1=sum(inicial1)#numero total de celulas viables\n",
        "  suma.append(total_1)\n",
        "#-------------------------------------------------------------------------------\n",
        "  print(inicial1)\n",
        "  #print('s',s)\n",
        "  #print('tiempo',t)\n",
        "  #print('lista tiempo',tr)\n",
        "  print('No viable', muertes_1)\n",
        "  #print('Crecimiento per capita', r)\n",
        "  #print('total de celulas vivas', total)\n",
        "  #print('total celulas',total_celulas)\n",
        "  #print('fraccion',fraccion_viables)\n",
        "  #print(fraccion)\n",
        "  print('---------------')\n",
        "#-------------------------------------------------------------------------------\n",
        "print(len(inicial1))\n",
        "tiempo_final = time()\n",
        "tiempo_ejecucion = tiempo_final - tiempo_inicial\n",
        "print('tiempo de ejecucion',tiempo_ejecucion)"
      ],
      "execution_count": null,
      "outputs": [
        {
          "output_type": "stream",
          "text": [
            "[2879 1440  720  360  180   81   52   23   11    6    4    1    1    0\n",
            "    0]\n",
            "No viable 0\n",
            "---------------\n",
            "[5758 2879 1440  720  360  180   81   52   23   11    6    4    1    1\n",
            "    0]\n",
            "No viable 0\n",
            "---------------\n",
            "[11516  5758  2879  1440   720   360   180    81    52    23    11     6\n",
            "     4     1     1]\n",
            "No viable 1\n",
            "---------------\n",
            "[23031 11516  5758  2879  1440   720   360   180    81    52    23    11\n",
            "     6     4     1]\n",
            "No viable 2\n",
            "---------------\n",
            "[46061 23031 11516  5758  2879  1440   720   360   180    81    52    23\n",
            "    11     6     4]\n",
            "No viable 6\n",
            "---------------\n",
            "15\n",
            "tiempo de ejecucion 0.006261348724365234\n"
          ],
          "name": "stdout"
        }
      ]
    },
    {
      "cell_type": "code",
      "metadata": {
        "colab": {
          "base_uri": "https://localhost:8080/"
        },
        "id": "CcB74kWcOG-l",
        "outputId": "942d185e-7ad6-444d-d84e-551efd298b98"
      },
      "source": [
        "valores=Dic.values()\n",
        "llaves=Dic.keys()\n",
        "Ncell=[]\n",
        "Edad=[]\n",
        "for i in valores:\n",
        "  Ncell.append(i)\n",
        "print('Numero de celulas',Ncell)\n",
        "for j in llaves:\n",
        "  Edad.append(j)\n",
        "print('Edades',Edad)\n",
        "print(sum(Ncell))"
      ],
      "execution_count": null,
      "outputs": [
        {
          "output_type": "stream",
          "text": [
            "Numero de celulas [93, 46, 16, 12, 7, 4, 1, 1]\n",
            "Edades [0, 1, 2, 3, 4, 6, 8, 5]\n",
            "180\n"
          ],
          "name": "stdout"
        }
      ]
    },
    {
      "cell_type": "code",
      "metadata": {
        "id": "LpMCBg77-VP6"
      },
      "source": [
        ""
      ],
      "execution_count": null,
      "outputs": []
    },
    {
      "cell_type": "markdown",
      "metadata": {
        "id": "7RNzAPcs-WEh"
      },
      "source": [
        "\n",
        "\n",
        "---\n",
        "\n",
        "\n",
        "\n",
        "---\n",
        "\n"
      ]
    },
    {
      "cell_type": "code",
      "metadata": {
        "id": "-5tQUqQkNMXS"
      },
      "source": [
        "repetido=[]# hace lo mismo que el codigo coll.counter pero mal jajajaja \n",
        "for i in sample:\n",
        "  rep=sample.count(i)\n",
        "  repetido.append(rep)\n",
        "print(repetido)"
      ],
      "execution_count": null,
      "outputs": []
    },
    {
      "cell_type": "markdown",
      "metadata": {
        "id": "No1TczW0hCPT"
      },
      "source": [
        "\n",
        "\n",
        "---\n",
        "\n",
        "\n",
        "\n",
        "---\n",
        "\n"
      ]
    },
    {
      "cell_type": "markdown",
      "metadata": {
        "id": "neIsyySHT7Vs"
      },
      "source": [
        "Simulacion de la curva de envejecimiento"
      ]
    },
    {
      "cell_type": "code",
      "metadata": {
        "colab": {
          "base_uri": "https://localhost:8080/"
        },
        "id": "OfJDw_CgO8vX",
        "outputId": "b59c8bec-699b-440e-9eed-1d50c2c0c719"
      },
      "source": [
        "R=[]#Me crea una lista de numeros aleatorios entre cero y uno \n",
        "for i in range(180):\n",
        "  r=random.random()\n",
        "  R.append(r)\n",
        "print(R)\n",
        "print(len(R))"
      ],
      "execution_count": null,
      "outputs": [
        {
          "output_type": "stream",
          "text": [
            "[0.33636618599059653, 0.8246125968080201, 0.7417982422177326, 0.7431995634534985, 0.1295779959315181, 0.29618595008091797, 0.7965872317647106, 0.45520633065087057, 0.8338308990397518, 0.22749555688376444, 0.5840354434574271, 0.3526736858291978, 0.33969402016766603, 0.15062334482601492, 0.25795468234481034, 0.8661648604982495, 0.38553719940631326, 0.5628066297853662, 0.9721854269318297, 0.9172649672161685, 0.33396253878343185, 0.38179216925417825, 0.5977291108390845, 0.25594384632466705, 0.29435735580838485, 0.024107153511677692, 0.328645686891764, 0.2133758966564545, 0.8320039178979186, 0.10144908223189397, 0.8874870402964229, 0.6985717652702345, 0.7324871678624033, 0.5587829077128574, 0.5412565259141434, 0.7663645020252945, 0.11746086909012043, 0.6218409497736287, 0.5142864954872155, 0.8612078294306581, 0.23751494275132978, 0.9339797046299625, 0.08768239036416892, 0.9597917124430824, 0.6601130560789793, 0.9137104661941026, 0.49142523522007553, 0.1535749713869785, 0.6626771562461397, 0.981373739574666, 0.4962727213228303, 0.8854704942910994, 0.9572117691710491, 0.18416862539141832, 0.5429368358964561, 0.8180342015687526, 0.43175990795815444, 0.8031539127007137, 0.10729984259512337, 0.6582968413794541, 0.3779041923590787, 0.5455171545453821, 0.9140123376599819, 0.18635550611446627, 0.8717521674449946, 0.5548450521439607, 0.9108780339016924, 0.29616209065099064, 0.05426239533752042, 0.025074667808094198, 0.19296185009502964, 0.08515320179944175, 0.9137653796568221, 0.506960131764073, 0.9316614169860202, 0.10790024904102447, 0.0028540638726228806, 0.9421924666443514, 0.38541199859883024, 0.3936301234554964, 0.7572813996208196, 0.016607872564457504, 0.06484235965848006, 0.783740722534227, 0.08779725070930555, 0.1308971364353596, 0.7712112165407083, 0.6797908243873063, 0.8041773290115224, 0.5511710526296808, 0.9603047476315671, 0.6663781433940701, 0.12258656495371667, 0.7069354394430168, 0.34050585260688015, 0.3760222788680633, 0.5229075564805127, 0.8234570188674405, 0.4859780744408351, 0.5178819003438707, 0.8124962088190323, 0.8843687530068922, 0.3717369610579022, 0.600224358363836, 0.7906862006391457, 0.25076119722979073, 0.904801620479267, 0.3677576863539205, 0.8624830519906923, 0.5684429200700784, 0.1692911957182196, 0.5803156187367242, 0.1436722220773775, 0.06499054871719334, 0.730600302832685, 0.18426203619976766, 0.678853078225518, 0.9891014872494105, 0.2395343654607366, 0.7576827950991875, 0.9658480322977612, 0.8980367602730795, 0.15346580992855563, 0.8898324652641632, 0.2515045158198984, 0.6017100159105616, 0.7593054136475162, 0.5496834198680787, 0.6123587537627874, 0.14978825295006148, 0.8989656317619378, 0.00278173502884016, 0.15024288382915163, 0.4044334132245804, 0.07116414876237886, 0.3499579948830023, 0.9699667406114854, 0.5046613117560738, 0.9205254865274117, 0.8167169347927917, 0.26375082759642077, 0.6344776180713627, 0.5904756935645509, 0.5033405288451652, 0.5713184632125309, 0.6271250326287607, 0.9626831222370241, 0.22422051017386713, 0.4191474208467595, 0.8363814420510708, 0.34624269726686163, 0.6907420350067925, 0.7232697453056777, 0.7908349982172921, 0.3071175841817566, 0.019533090580648782, 0.2378127058087467, 0.4187082000081196, 0.5939093477173868, 0.4179043371157348, 0.08652604912764839, 0.39266753436265767, 0.21442505719434912, 0.7923257074287371, 0.697405328772395, 0.17153829868634862, 0.16170950999927058, 0.8155287884555953, 0.7797937412156613, 0.46140425765036475, 0.9852058341350636, 0.5047017748724352, 0.7139729141483586, 0.2001332784168387, 0.8044364565887008, 0.3997339628347243, 0.239973616730487, 0.15722835091003573, 0.8049659900304061, 0.6502219795780482]\n",
            "180\n"
          ],
          "name": "stdout"
        }
      ]
    },
    {
      "cell_type": "code",
      "metadata": {
        "colab": {
          "base_uri": "https://localhost:8080/"
        },
        "id": "YQ53qwfIUEYP",
        "outputId": "16ba538a-4c7c-4226-d751-f1bf3871edd6"
      },
      "source": [
        "for i in R:\n",
        "  p=stats.norm.ppf(R, loc=19, scale=2)# loc es la media y scale la desviacion estandar \n",
        "print(p) # Devuelve el inverso de la distribución normal acumulativa donde R es el numero aleatorio, loc es la media y scale la desviacion estandar\n",
        "print(len(p))# creo que me devuelve un aaray "
      ],
      "execution_count": null,
      "outputs": [
        {
          "output_type": "stream",
          "text": [
            "[18.15519807 20.86617495 20.29779845 20.30648215 16.74322352 17.92919598\n",
            " 20.65898586 18.77496391 20.93882988 17.50575995 19.42445613 18.24377594\n",
            " 18.1734033  16.93247279 17.70067225 21.21688722 18.41806035 19.31617782\n",
            " 22.82785929 21.77381438 18.14200509 18.39844545 19.49494705 17.68819759\n",
            " 17.91860097 15.04905067 18.11268817 17.41047543 20.92422871 16.45332421\n",
            " 21.42654361 20.04059434 20.24070522 19.29576833 19.2071996  20.45385296\n",
            " 16.62444833 19.62063875 19.07163718 21.17152383 17.5713618  22.01220712\n",
            " 16.28966867 22.49654821 19.8255434  21.72792691 18.95700919 16.95755883\n",
            " 19.83956134 23.16597154 18.98131392 21.40557268 22.43841647 17.20081538\n",
            " 19.21567063 20.81579796 18.65620933 20.70588146 16.51796717 19.81563867\n",
            " 18.37802042 19.22868652 21.73176832 17.21718655 21.26942564 19.27582418\n",
            " 21.69236336 17.92905793 15.79028157 15.08262398 17.26593317 16.25756012\n",
            " 21.72862495 19.0348947  21.97655925 16.52445538 13.47181411 22.14689646\n",
            " 18.41740552 18.46025995 20.39516861 14.74106849 15.96930732 20.56977833\n",
            " 16.29111033 16.75567932 20.48568326 19.93422791 20.71327468 19.25724113\n",
            " 22.50846701 19.85986783 16.67569305 20.08890792 18.17783408 18.3681108\n",
            " 19.11490464 20.85724035 18.92969001 19.08967659 20.77426495 21.3942261\n",
            " 18.34548708 19.50785574 20.61760903 17.65580741 21.6188126  18.32440388\n",
            " 21.18308657 19.34482267 17.08605998 19.40540195 16.87206951 15.97164714\n",
            " 20.2292591  17.20151712 19.92898804 23.58777278 17.58439763 20.39773638\n",
            " 22.64599281 21.54088822 16.95663679 21.45127527 17.66047446 19.51555153\n",
            " 20.40814003 19.2497231  19.57094416 16.92531603 21.55135958 13.45508403\n",
            " 16.92921552 18.51622368 16.06564884 18.22913225 22.76061005 19.02336888\n",
            " 21.8172301  20.80584838 17.73635128 19.68747219 19.45753761 19.01674712\n",
            " 19.35946374 19.64849692 22.56541714 17.48396672 18.59184988 20.95938829\n",
            " 18.2090311  19.99590952 20.18516525 20.61864383 17.99192541 14.87302177\n",
            " 17.57328774 18.58960136 19.4752259  18.58548477 16.27507581 18.45525358\n",
            " 17.41767823 20.62903488 20.03390493 17.10379233 17.0250875  20.79691226\n",
            " 20.5429936  18.80620682 23.35111587 19.02357175 20.13005761 17.31770946\n",
            " 20.71515035 18.49192846 17.58722513 16.98817101 20.71898803 19.77183967]\n",
            "180\n"
          ],
          "name": "stdout"
        }
      ]
    },
    {
      "cell_type": "markdown",
      "metadata": {
        "id": "9W816XxlUJ3C"
      },
      "source": [
        "Para descontar las distribución de edades"
      ]
    },
    {
      "cell_type": "code",
      "metadata": {
        "id": "wjp66swbUFOp",
        "colab": {
          "base_uri": "https://localhost:8080/"
        },
        "outputId": "80659e83-7b30-4948-8976-7c6364799f7c"
      },
      "source": [
        "p_1=p[0:Ncell[0]]\n",
        "p_2=p[Ncell[0]:Ncell[1]+Ncell[0]]\n",
        "p_3=p[Ncell[1]+Ncell[0]:(Ncell[2]+Ncell[1]+Ncell[0])]\n",
        "p_4=p[(Ncell[2]+Ncell[1]+Ncell[0]):(Ncell[2]+Ncell[1]+Ncell[3]+Ncell[0])]\n",
        "p_5=p[(Ncell[2]+Ncell[1]+Ncell[3]+Ncell[0]):(Ncell[2]+Ncell[1]+Ncell[3]+Ncell[4]+Ncell[0])]\n",
        "p_6=p[(Ncell[2]+Ncell[1]+Ncell[3]+Ncell[4]+Ncell[0]):(Ncell[2]+Ncell[1]+Ncell[3]+Ncell[4]+Ncell[5]+Ncell[0])]\n",
        "p_7=p[(Ncell[2]+Ncell[1]+Ncell[3]+Ncell[4]+Ncell[5]+Ncell[0]):(Ncell[2]+Ncell[1]+Ncell[3]+Ncell[4]+Ncell[5]+Ncell[6]+Ncell[0])]\n",
        "p_8=p[(Ncell[2]+Ncell[1]+Ncell[3]+Ncell[4]+Ncell[5]+Ncell[6]+Ncell[0]):(Ncell[2]+Ncell[1]+Ncell[3]+Ncell[4]+Ncell[5]+Ncell[6]+Ncell[0]+Ncell[7])]\n",
        "#p_9=p[(Ncell[2]+Ncell[1]+Ncell[3]+Ncell[4]+Ncell[5]+Ncell[6]+Ncell[0]+Ncell[7]):(Ncell[2]+Ncell[1]+Ncell[3]+Ncell[4]+Ncell[5]+Ncell[6]+Ncell[0]+Ncell[7]+Ncell[8])]\n",
        "print(len(p_6)+len(p_5)+len(p_4)+len(p_3)+len(p_2)+len(p_1)+len(p_7)+len(p_8))#+len(p_9))"
      ],
      "execution_count": null,
      "outputs": [
        {
          "output_type": "stream",
          "text": [
            "180\n"
          ],
          "name": "stdout"
        }
      ]
    },
    {
      "cell_type": "code",
      "metadata": {
        "colab": {
          "base_uri": "https://localhost:8080/"
        },
        "id": "_snLykEXUSVy",
        "outputId": "c282b0a8-62a7-4624-da21-dbe81dfbdc18"
      },
      "source": [
        "dp_1=[]\n",
        "for i in range(len(p_1)):\n",
        "  d=p_1[i]-Edad[0]\n",
        "  dp_1.append(d)\n",
        "print(dp_1)\n",
        "len(dp_1)"
      ],
      "execution_count": null,
      "outputs": [
        {
          "output_type": "stream",
          "text": [
            "[16.155198065421523, 18.866174946313944, 18.29779845042837, 18.30648215184428, 14.743223518809693, 15.929195978939504, 18.658985857501804, 16.77496390633488, 18.938829876857852, 15.505759950763526, 17.424456129008043, 16.243775939241804, 16.173403304727646, 14.93247278885763, 15.700672253694066, 19.216887223368957, 16.418060353020905, 17.316177817032457, 20.827859286642582, 19.773814377120523, 16.14200509213996, 16.398445450354316, 17.49494705014602, 15.688197589389773]\n"
          ],
          "name": "stdout"
        },
        {
          "output_type": "execute_result",
          "data": {
            "text/plain": [
              "24"
            ]
          },
          "metadata": {
            "tags": []
          },
          "execution_count": 1203
        }
      ]
    },
    {
      "cell_type": "code",
      "metadata": {
        "colab": {
          "base_uri": "https://localhost:8080/"
        },
        "id": "sPHCyy-gUUtX",
        "outputId": "aa89849a-52da-4c0f-ac0d-c7f4a97c8107"
      },
      "source": [
        "dp_2=[]\n",
        "for i in range(len(p_2)):\n",
        "  d=p_2[i]-Edad[1]\n",
        "  dp_2.append(d)\n",
        "print(dp_2)\n",
        "len(dp_2)"
      ],
      "execution_count": null,
      "outputs": [
        {
          "output_type": "stream",
          "text": [
            "[16.91860096644203, 14.049050671620662, 17.112688172006745, 16.41047542915326, 19.92422870930503, 15.453324206458465, 20.426543607473917, 19.040594335981467, 19.24070522282187, 18.2957683318143, 18.207199595503447, 19.45385295600621, 15.62444833468334, 18.620638745648627, 18.071637182196643, 20.171523825257424, 16.57136180414152, 21.0122071211121, 15.289668666469439, 21.496548208232912, 18.825543399098592, 20.72792691102614, 17.957009193870917, 15.957558834603244, 18.839561339155743, 22.165971535815906, 17.981313923905702, 20.40557268404752, 21.43841647232201, 16.2008153788568, 18.215670631742718, 19.81579795892241, 17.656209334546507, 19.705881455293742, 15.51796717116995, 18.81563867059977, 17.37802042332253, 18.228686519810484, 20.73176832346237, 16.217186553755237, 20.26942563500082, 18.275824178901242, 20.692363357431155, 16.929057929569765]\n"
          ],
          "name": "stdout"
        },
        {
          "output_type": "execute_result",
          "data": {
            "text/plain": [
              "44"
            ]
          },
          "metadata": {
            "tags": []
          },
          "execution_count": 1204
        }
      ]
    },
    {
      "cell_type": "code",
      "metadata": {
        "colab": {
          "base_uri": "https://localhost:8080/"
        },
        "id": "GnIGymSAUW36",
        "outputId": "9aeac90d-7e66-4221-8632-a8f558f75dbd"
      },
      "source": [
        "dp_3=[]\n",
        "for i in range(len(p_3)):\n",
        "  d=p_3[i]-Edad[2]\n",
        "  dp_3.append(d)\n",
        "print(dp_3)\n",
        "len(dp_3)"
      ],
      "execution_count": null,
      "outputs": [
        {
          "output_type": "stream",
          "text": [
            "[15.79028156790632, 15.082623982705972, 17.26593316560487, 16.257560117005347, 21.728624953844943, 19.03489469645132, 21.976559249585573, 16.52445537821628, 13.471814110626635, 22.14689646048079, 18.41740551756424, 18.460259946084985, 20.395168606794954, 14.741068487419351, 15.96930732428084, 20.569778331156794, 16.291110327657726, 16.755679323913732, 20.485683263793455, 19.934227907993698, 20.71327468272382, 19.257241125490044, 22.508467005482206, 19.85986783189322, 16.675693053589473, 20.088907923339512, 18.177834082486797, 18.3681107978887, 19.114904638546395, 20.857240351081686, 18.929690010164112, 19.089676593678853, 20.774264947644376, 21.394226100672594, 18.345487083585155, 19.507855739693095, 20.61760903016099, 17.655807408169622, 21.618812597191596, 18.324403882034456, 21.183086571705914, 19.344822674362067, 17.086059976517234, 19.40540194624199, 16.872069509691975, 15.971647135545664, 20.229259101617107, 17.20151712248237, 19.92898803829357, 23.587772775859115, 17.5843976317176, 20.39773637620128, 22.645992809683207, 21.540888219513082, 16.956636788764996, 21.451275265485005, 17.660474464419355, 19.51555153282759, 20.408140028932387, 19.24972309615897, 19.57094415817932, 16.925316031885767, 21.551359575046813, 13.455084026730175, 16.929215517513462, 18.516223684498375, 16.065648835524197, 18.229132252132068, 22.760610051183683, 19.023368883422457, 21.81723009507694, 20.80584838294641, 17.736351283852496, 19.68747218901634, 19.457537612514596, 19.016747123817357, 19.359463736519313, 19.648496924354696, 22.565417140519628, 17.483966717112665, 18.591849875521785, 20.959388294931465, 18.209031097721503, 19.99590951783068, 20.185165251635638, 20.618643830944155, 17.991925407177924, 14.87302177489774, 17.573287737255207, 18.58960135824429, 19.475225902420462, 18.58548477126482, 16.27507580698364, 18.45525357775156]\n"
          ],
          "name": "stdout"
        },
        {
          "output_type": "execute_result",
          "data": {
            "text/plain": [
              "94"
            ]
          },
          "metadata": {
            "tags": []
          },
          "execution_count": 1205
        }
      ]
    },
    {
      "cell_type": "code",
      "metadata": {
        "colab": {
          "base_uri": "https://localhost:8080/"
        },
        "id": "BBXSCDS1UY6v",
        "outputId": "b9635959-7199-4e39-afe3-4c21d7b97d33"
      },
      "source": [
        "dp_4=[]\n",
        "for i in range(len(p_4)):\n",
        "  d=p_4[i]-Edad[3]\n",
        "  dp_4.append(d)\n",
        "#dp_4=[dp_3-Edad[3]]\n",
        "print(dp_4)\n",
        "len(dp_4)"
      ],
      "execution_count": null,
      "outputs": [
        {
          "output_type": "stream",
          "text": [
            "[14.417678232531806, 17.629034881023617, 17.033904928668182, 14.10379233490793, 14.025087498125952, 17.796912261550073, 17.542993602879754, 15.80620681609447, 20.351115866990348]\n"
          ],
          "name": "stdout"
        },
        {
          "output_type": "execute_result",
          "data": {
            "text/plain": [
              "9"
            ]
          },
          "metadata": {
            "tags": []
          },
          "execution_count": 1206
        }
      ]
    },
    {
      "cell_type": "code",
      "metadata": {
        "colab": {
          "base_uri": "https://localhost:8080/"
        },
        "id": "Qm_Rd6dyUcuq",
        "outputId": "e20e1aba-a81f-40b8-ffba-f1dc7ec54e57"
      },
      "source": [
        "dp_5=[]\n",
        "for i in range(len(p_5)):\n",
        "  d=p_5[i]-Edad[4]\n",
        "  dp_5.append(d)\n",
        "print(dp_5)\n",
        "len(dp_5)"
      ],
      "execution_count": null,
      "outputs": [
        {
          "output_type": "stream",
          "text": [
            "[13.0235717493739, 14.130057610498703]\n"
          ],
          "name": "stdout"
        },
        {
          "output_type": "execute_result",
          "data": {
            "text/plain": [
              "2"
            ]
          },
          "metadata": {
            "tags": []
          },
          "execution_count": 1207
        }
      ]
    },
    {
      "cell_type": "code",
      "metadata": {
        "colab": {
          "base_uri": "https://localhost:8080/"
        },
        "id": "6aa7gtLbJ94E",
        "outputId": "b231d034-1216-44cf-ccdc-491f1ba9df53"
      },
      "source": [
        "dp_6=[]\n",
        "for i in range(len(p_6)):\n",
        "  d=p_6[i]-Edad[5]\n",
        "  dp_6.append(d)\n",
        "print(dp_6)\n",
        "len(dp_6)"
      ],
      "execution_count": null,
      "outputs": [
        {
          "output_type": "stream",
          "text": [
            "[13.317709460380915, 16.71515035385244, 14.491928464690986, 13.587225132696027]\n"
          ],
          "name": "stdout"
        },
        {
          "output_type": "execute_result",
          "data": {
            "text/plain": [
              "4"
            ]
          },
          "metadata": {
            "tags": []
          },
          "execution_count": 1208
        }
      ]
    },
    {
      "cell_type": "code",
      "metadata": {
        "colab": {
          "base_uri": "https://localhost:8080/"
        },
        "id": "BygO56jOUfBo",
        "outputId": "4847b5f1-6391-4584-badd-555f1a38009e"
      },
      "source": [
        "dp_7=[]\n",
        "for i in range(len(p_7)):\n",
        "  d=p_7[i]-Edad[6]\n",
        "  dp_7.append(d)\n",
        "print(dp_7)\n",
        "len(dp_7)"
      ],
      "execution_count": null,
      "outputs": [
        {
          "output_type": "stream",
          "text": [
            "[11.988171005212443, 15.718988032335357]\n"
          ],
          "name": "stdout"
        },
        {
          "output_type": "execute_result",
          "data": {
            "text/plain": [
              "2"
            ]
          },
          "metadata": {
            "tags": []
          },
          "execution_count": 1210
        }
      ]
    },
    {
      "cell_type": "code",
      "metadata": {
        "colab": {
          "base_uri": "https://localhost:8080/"
        },
        "id": "mVE2Vz16iOZs",
        "outputId": "e314b04c-ee20-43fa-b393-ec2fc5d26032"
      },
      "source": [
        "dp_8=[]\n",
        "for i in range(len(p_8)):\n",
        "  d=p_8[i]-Edad[7]\n",
        "  dp_8.append(d)\n",
        "print(dp_8)\n",
        "len(dp_8)"
      ],
      "execution_count": null,
      "outputs": [
        {
          "output_type": "stream",
          "text": [
            "[12.7718396683551]\n"
          ],
          "name": "stdout"
        },
        {
          "output_type": "execute_result",
          "data": {
            "text/plain": [
              "1"
            ]
          },
          "metadata": {
            "tags": []
          },
          "execution_count": 1211
        }
      ]
    },
    {
      "cell_type": "code",
      "metadata": {
        "colab": {
          "base_uri": "https://localhost:8080/"
        },
        "id": "JfRbe6JMpWwB",
        "outputId": "95449b84-ed04-4d71-e869-9181f5f98b4e"
      },
      "source": [
        "dp_9=[]\n",
        "for i in range(len(p_9)):\n",
        "  d=p_9[i]-Edad[8]\n",
        "  dp_9.append(d)\n",
        "print(dp_9)\n",
        "len(dp_9)"
      ],
      "execution_count": null,
      "outputs": [
        {
          "output_type": "stream",
          "text": [
            "[13.871938737200864, 13.582496831906049]\n"
          ],
          "name": "stdout"
        },
        {
          "output_type": "execute_result",
          "data": {
            "text/plain": [
              "2"
            ]
          },
          "metadata": {
            "tags": []
          },
          "execution_count": 1141
        }
      ]
    },
    {
      "cell_type": "code",
      "metadata": {
        "colab": {
          "base_uri": "https://localhost:8080/"
        },
        "id": "WaaCR7WrUhPB",
        "outputId": "3c730e84-2cfe-4946-d6db-ec1bcbb3f7e9"
      },
      "source": [
        "listaobservada=dp_1+dp_2+dp_3+dp_4+dp_5+dp_6+dp_7+dp_8#+dp_9\n",
        "print(listaobservada)\n",
        "len(listaobservada)"
      ],
      "execution_count": null,
      "outputs": [
        {
          "output_type": "stream",
          "text": [
            "[16.155198065421523, 18.866174946313944, 18.29779845042837, 18.30648215184428, 14.743223518809693, 15.929195978939504, 18.658985857501804, 16.77496390633488, 18.938829876857852, 15.505759950763526, 17.424456129008043, 16.243775939241804, 16.173403304727646, 14.93247278885763, 15.700672253694066, 19.216887223368957, 16.418060353020905, 17.316177817032457, 20.827859286642582, 19.773814377120523, 16.14200509213996, 16.398445450354316, 17.49494705014602, 15.688197589389773, 16.91860096644203, 14.049050671620662, 17.112688172006745, 16.41047542915326, 19.92422870930503, 15.453324206458465, 20.426543607473917, 19.040594335981467, 19.24070522282187, 18.2957683318143, 18.207199595503447, 19.45385295600621, 15.62444833468334, 18.620638745648627, 18.071637182196643, 20.171523825257424, 16.57136180414152, 21.0122071211121, 15.289668666469439, 21.496548208232912, 18.825543399098592, 20.72792691102614, 17.957009193870917, 15.957558834603244, 18.839561339155743, 22.165971535815906, 17.981313923905702, 20.40557268404752, 21.43841647232201, 16.2008153788568, 18.215670631742718, 19.81579795892241, 17.656209334546507, 19.705881455293742, 15.51796717116995, 18.81563867059977, 17.37802042332253, 18.228686519810484, 20.73176832346237, 16.217186553755237, 20.26942563500082, 18.275824178901242, 20.692363357431155, 16.929057929569765, 15.79028156790632, 15.082623982705972, 17.26593316560487, 16.257560117005347, 21.728624953844943, 19.03489469645132, 21.976559249585573, 16.52445537821628, 13.471814110626635, 22.14689646048079, 18.41740551756424, 18.460259946084985, 20.395168606794954, 14.741068487419351, 15.96930732428084, 20.569778331156794, 16.291110327657726, 16.755679323913732, 20.485683263793455, 19.934227907993698, 20.71327468272382, 19.257241125490044, 22.508467005482206, 19.85986783189322, 16.675693053589473, 20.088907923339512, 18.177834082486797, 18.3681107978887, 19.114904638546395, 20.857240351081686, 18.929690010164112, 19.089676593678853, 20.774264947644376, 21.394226100672594, 18.345487083585155, 19.507855739693095, 20.61760903016099, 17.655807408169622, 21.618812597191596, 18.324403882034456, 21.183086571705914, 19.344822674362067, 17.086059976517234, 19.40540194624199, 16.872069509691975, 15.971647135545664, 20.229259101617107, 17.20151712248237, 19.92898803829357, 23.587772775859115, 17.5843976317176, 20.39773637620128, 22.645992809683207, 21.540888219513082, 16.956636788764996, 21.451275265485005, 17.660474464419355, 19.51555153282759, 20.408140028932387, 19.24972309615897, 19.57094415817932, 16.925316031885767, 21.551359575046813, 13.455084026730175, 16.929215517513462, 18.516223684498375, 16.065648835524197, 18.229132252132068, 22.760610051183683, 19.023368883422457, 21.81723009507694, 20.80584838294641, 17.736351283852496, 19.68747218901634, 19.457537612514596, 19.016747123817357, 19.359463736519313, 19.648496924354696, 22.565417140519628, 17.483966717112665, 18.591849875521785, 20.959388294931465, 18.209031097721503, 19.99590951783068, 20.185165251635638, 20.618643830944155, 17.991925407177924, 14.87302177489774, 17.573287737255207, 18.58960135824429, 19.475225902420462, 18.58548477126482, 16.27507580698364, 18.45525357775156, 14.417678232531806, 17.629034881023617, 17.033904928668182, 14.10379233490793, 14.025087498125952, 17.796912261550073, 17.542993602879754, 15.80620681609447, 20.351115866990348, 13.0235717493739, 14.130057610498703, 13.317709460380915, 16.71515035385244, 14.491928464690986, 13.587225132696027, 11.988171005212443, 15.718988032335357, 12.7718396683551]\n"
          ],
          "name": "stdout"
        },
        {
          "output_type": "execute_result",
          "data": {
            "text/plain": [
              "180"
            ]
          },
          "metadata": {
            "tags": []
          },
          "execution_count": 1212
        }
      ]
    },
    {
      "cell_type": "code",
      "metadata": {
        "colab": {
          "base_uri": "https://localhost:8080/"
        },
        "id": "sdVtj4k7UlgI",
        "outputId": "99e3295e-5eda-4849-8905-6740fcd9aae2"
      },
      "source": [
        "l=[5,6,7,8,9,10,11,12,13,14,15,16,17,18,19,20,21,22,23,24,25,26,27]# lista de tiempos en los que se grafica \n",
        "viab=[] # lista donde se van a guardar los datos de las celulas viables \n",
        "for i in l: # cuenta cuantas celulas estan vivas en cada momento \n",
        "  num=0 # contador \n",
        "  for j in listaobservada:\n",
        "    #print('i=',i,'j=',j)\n",
        "    if j>i:\n",
        "      num=num+1\n",
        "      #print(num)\n",
        "  viab.append(num)\n",
        "print(viab)\n",
        "for i in range(len(viab)): # divide la cantidad de celulas para obtener la fraccion de celulas viables \n",
        "    viab[i] /= len(listaobservada)\n",
        "print(viab)"
      ],
      "execution_count": null,
      "outputs": [
        {
          "output_type": "stream",
          "text": [
            "[180, 180, 180, 180, 180, 180, 180, 179, 178, 173, 163, 148, 123, 101, 72, 43, 19, 7, 1, 0, 0, 0, 0]\n",
            "[1.0, 1.0, 1.0, 1.0, 1.0, 1.0, 1.0, 0.9944444444444445, 0.9888888888888889, 0.9611111111111111, 0.9055555555555556, 0.8222222222222222, 0.6833333333333333, 0.5611111111111111, 0.4, 0.2388888888888889, 0.10555555555555556, 0.03888888888888889, 0.005555555555555556, 0.0, 0.0, 0.0, 0.0]\n"
          ],
          "name": "stdout"
        }
      ]
    },
    {
      "cell_type": "code",
      "metadata": {
        "colab": {
          "base_uri": "https://localhost:8080/",
          "height": 295
        },
        "id": "vLZQkwH8UoGC",
        "outputId": "0e89fa49-12d6-4f20-b45d-10e3dd255295"
      },
      "source": [
        "plt.plot(l,viab) # esta graficando los datos vs sus posiciones (0,1,2,3)\n",
        "plt.xlabel('generaciones o tiempos')\n",
        "plt.ylabel('Faccioon de celulas viables ')\n",
        "plt.title('RLS modificada ')\n",
        "plt.axhline(y=0.5, xmin=0.1, xmax=0.9)\n",
        "plt.axvline(x=18.2, ymin=0.1, ymax=0.9)\n",
        "plt.show() #mostar el grafico "
      ],
      "execution_count": null,
      "outputs": [
        {
          "output_type": "display_data",
          "data": {
            "image/png": "[encoded data removed]",
            "text/plain": [
              "<Figure size 432x288 with 1 Axes>"
            ]
          },
          "metadata": {
            "tags": [],
            "needs_background": "light"
          }
        }
      ]
    },
    {
      "cell_type": "code",
      "metadata": {
        "colab": {
          "base_uri": "https://localhost:8080/"
        },
        "id": "3mqXysV4UqcY",
        "outputId": "d9ff2e20-6277-417c-e6ec-3a3fa9f64a89"
      },
      "source": [
        "l=[5,6,7,8,9,10,11,12,13,14,15,16,17,18,19,20,21,22,23,24,25,26,27]# lista de tiempos en los que se grafica \n",
        "d=[] # lista donde se van a guardar los datos de las celulas viables \n",
        "for i in l: # cuenta cuantas celulas estan vivas en cada momento \n",
        "  num=0 # contador \n",
        "  for j in p:\n",
        "    #print('i=',i,'j=',j)\n",
        "    if j>i:\n",
        "      num=num+1\n",
        "      #print(num)\n",
        "  d.append(num)\n",
        "print(d)\n",
        "for i in range(len(d)): # divide la cantidad de celulas para obtener la fraccion de celulas viables \n",
        "    d[i] /= len(listaobservada)\n",
        "print(d)"
      ],
      "execution_count": null,
      "outputs": [
        {
          "output_type": "stream",
          "text": [
            "[180, 180, 180, 180, 180, 180, 180, 180, 180, 178, 176, 171, 152, 127, 99, 63, 30, 12, 3, 0, 0, 0, 0]\n",
            "[1.0, 1.0, 1.0, 1.0, 1.0, 1.0, 1.0, 1.0, 1.0, 0.9888888888888889, 0.9777777777777777, 0.95, 0.8444444444444444, 0.7055555555555556, 0.55, 0.35, 0.16666666666666666, 0.06666666666666667, 0.016666666666666666, 0.0, 0.0, 0.0, 0.0]\n"
          ],
          "name": "stdout"
        }
      ]
    },
    {
      "cell_type": "code",
      "metadata": {
        "colab": {
          "base_uri": "https://localhost:8080/",
          "height": 295
        },
        "id": "g0pHP8x0UtNb",
        "outputId": "ca0a611a-53d7-446b-f7d1-506cf07d4451"
      },
      "source": [
        "plt.plot(l,d) # esta graficando los datos vs sus posiciones (0,1,2,3)\n",
        "plt.xlabel('Generations')\n",
        "plt.ylabel(' Fraction of viable cells  ')\n",
        "plt.title('RLS ')\n",
        "plt.axhline(y=0.5, xmin=0.1, xmax=0.9)\n",
        "plt.axvline(x=19.3, ymin=0.1, ymax=0.9)\n",
        "plt.show() #mostar el grafico "
      ],
      "execution_count": null,
      "outputs": [
        {
          "output_type": "display_data",
          "data": {
            "image/png": "[encoded data removed]",
            "text/plain": [
              "<Figure size 432x288 with 1 Axes>"
            ]
          },
          "metadata": {
            "tags": [],
            "needs_background": "light"
          }
        }
      ]
    },
    {
      "cell_type": "code",
      "metadata": {
        "colab": {
          "base_uri": "https://localhost:8080/",
          "height": 295
        },
        "id": "2RJ7zrQJUvc6",
        "outputId": "6f1f80c6-598e-4edd-96bc-937f2d6cc726"
      },
      "source": [
        "plt.plot(l, viab, '--', label='second distribution')# con distribucion de edades \n",
        "plt.plot(l, d, label=' first distribution')# virgenes sin distribucion \n",
        "plt.title('RLS')\n",
        "plt.ylabel('Fraction of viable cells ')\n",
        "plt.xlabel('Generations')\n",
        "plt.axhline(y=0.5, xmin=0.1, xmax=0.9)\n",
        "plt.axvline(x=19.2, ymin=0.1, ymax=0.9)\n",
        "plt.legend(loc=4)\n",
        "plt.show()"
      ],
      "execution_count": null,
      "outputs": [
        {
          "output_type": "display_data",
          "data": {
            "image/png": "[encoded data removed]",
            "text/plain": [
              "<Figure size 432x288 with 1 Axes>"
            ]
          },
          "metadata": {
            "tags": [],
            "needs_background": "light"
          }
        }
      ]
    },
    {
      "cell_type": "markdown",
      "metadata": {
        "id": "jijtUbadSBgF"
      },
      "source": [
        "Comparacion con los datos de David "
      ]
    },
    {
      "cell_type": "code",
      "metadata": {
        "id": "SSIc7Ao9SMo5",
        "colab": {
          "base_uri": "https://localhost:8080/"
        },
        "outputId": "dae8fbf3-4b0b-40b2-8431-d7d24aa3f736"
      },
      "source": [
        "x=[0,11,12,13,14,15,16,17,18,19,21,25,26,27,28,35]\n",
        "xmed=sum(x)/len(x)\n",
        "print(xmed)\n",
        "y=[1,1,1,1,1,0.96,0.79,0.58,0.51,0.40,0.34,0,0,0,0,0]"
      ],
      "execution_count": null,
      "outputs": [
        {
          "output_type": "stream",
          "text": [
            "18.5625\n"
          ],
          "name": "stdout"
        }
      ]
    },
    {
      "cell_type": "code",
      "metadata": {
        "colab": {
          "base_uri": "https://localhost:8080/",
          "height": 295
        },
        "id": "06nou-t9NSKF",
        "outputId": "57098dbf-331c-459a-842f-70010c8ebe58"
      },
      "source": [
        "plt.plot(x,y) # esta graficando los datos vs sus posiciones (0,1,2,3)\n",
        "plt.xlabel('Generations')\n",
        "plt.ylabel(' Fraction of viable cells  ')\n",
        "plt.title('RLS ')\n",
        "plt.axhline(y=0.5, xmin=0.1, xmax=0.9)\n",
        "plt.axvline(x=19.2, ymin=0.1, ymax=0.9)\n",
        "plt.show() #mostar el grafico "
      ],
      "execution_count": null,
      "outputs": [
        {
          "output_type": "display_data",
          "data": {
            "image/png": "[encoded data removed]",
            "text/plain": [
              "<Figure size 432x288 with 1 Axes>"
            ]
          },
          "metadata": {
            "tags": [],
            "needs_background": "light"
          }
        }
      ]
    },
    {
      "cell_type": "code",
      "metadata": {
        "colab": {
          "base_uri": "https://localhost:8080/",
          "height": 313
        },
        "id": "iTdNDs86SSHx",
        "outputId": "5262b43f-937f-4eee-e1c3-f66cbb834aee"
      },
      "source": [
        "plt.plot(l, d, '--', label='simulation') # rla sin modificar virgenes \n",
        "plt.plot(x, y, label=' data ')\n",
        "plt.title('RLS')\n",
        "plt.ylabel('Fraction of viable cells ')\n",
        "plt.xlabel('Generations')\n",
        "plt.legend(loc=4)\n",
        "plt.axhline(y=0.5, xmin=0.1, xmax=0.9)\n",
        "plt.axvline(x=19.3, ymin=0.1, ymax=0.9)\n",
        "plt.show()\n",
        "lmed=sum(l)/len(l)\n",
        "print(xmed)"
      ],
      "execution_count": null,
      "outputs": [
        {
          "output_type": "display_data",
          "data": {
            "image/png": "[encoded data removed]",
            "text/plain": [
              "<Figure size 432x288 with 1 Axes>"
            ]
          },
          "metadata": {
            "tags": [],
            "needs_background": "light"
          }
        },
        {
          "output_type": "stream",
          "text": [
            "18.5625\n"
          ],
          "name": "stdout"
        }
      ]
    },
    {
      "cell_type": "code",
      "metadata": {
        "colab": {
          "base_uri": "https://localhost:8080/",
          "height": 295
        },
        "id": "UBIN0aOMSiQE",
        "outputId": "418d544b-ae2e-4622-dc93-d11a3a668883"
      },
      "source": [
        "plt.plot(l, viab, '--', label='simulation')# rls modificada con la distribucion \n",
        "plt.plot(x, y, label=' data ')\n",
        "plt.title('RLS')\n",
        "plt.ylabel('Fraction of viable cells ')\n",
        "plt.xlabel('Generations')\n",
        "plt.legend(loc=4)\n",
        "plt.axhline(y=0.5, xmin=0.1, xmax=0.9)\n",
        "plt.axvline(x=18.2, ymin=0.1, ymax=0.9)\n",
        "plt.show()"
      ],
      "execution_count": null,
      "outputs": [
        {
          "output_type": "display_data",
          "data": {
            "image/png": "[encoded data removed]",
            "text/plain": [
              "<Figure size 432x288 with 1 Axes>"
            ]
          },
          "metadata": {
            "tags": [],
            "needs_background": "light"
          }
        }
      ]
    },
    {
      "cell_type": "code",
      "metadata": {
        "id": "VcECe56QT0wY",
        "colab": {
          "base_uri": "https://localhost:8080/",
          "height": 301
        },
        "outputId": "8466bb19-94c1-45c0-b312-65f5ffaf5ac7"
      },
      "source": [
        "xa=np.array(x)\n",
        "ya=np.array(y)\n",
        "def fsigmoid(x,a,b):\n",
        "  return np.exp(a+b*x)/( 1+ np.exp(a+b*x))\n",
        "xdata = np.linspace(0, 35, 35)\n",
        "ydata = np.random.normal(size=len(xdata))\n",
        "popt, pcov = curve_fit(fsigmoid, xa, ya)\n",
        "a=curve_fit(fsigmoid,xa,ya)\n",
        "print('popt',popt,'pcov', pcov)\n",
        "plt.figure()\n",
        "plt.plot(xa, fsigmoid(xa, *popt), 'r-', label='fit')\n",
        "plt.plot(x,y)\n",
        "plt.plot(xa, ya, 'b-', label='data')\n",
        "plt.show()"
      ],
      "execution_count": null,
      "outputs": [
        {
          "output_type": "stream",
          "text": [
            "popt [10.01643518 -0.54299728] pcov [[ 1.54072518 -0.08542983]\n",
            " [-0.08542983  0.00478655]]\n"
          ],
          "name": "stdout"
        },
        {
          "output_type": "display_data",
          "data": {
            "image/png": "[encoded data removed]",
            "text/plain": [
              "<Figure size 432x288 with 1 Axes>"
            ]
          },
          "metadata": {
            "tags": [],
            "needs_background": "light"
          }
        }
      ]
    },
    {
      "cell_type": "markdown",
      "metadata": {
        "id": "YU46GZdM_QWZ"
      },
      "source": [
        "#-------------------------------------------------------------"
      ]
    },
    {
      "cell_type": "code",
      "metadata": {
        "id": "Lx1h3y8Il4kx",
        "colab": {
          "base_uri": "https://localhost:8080/",
          "height": 283
        },
        "outputId": "af8d559f-d2a0-4f69-b8bb-72c510a34704"
      },
      "source": [
        "plt.plot(xa, fsigmoid(xa, *popt), 'r-', label='fit')\n",
        "plt.plot(l, viab, '--', label='simulation')"
      ],
      "execution_count": null,
      "outputs": [
        {
          "output_type": "execute_result",
          "data": {
            "text/plain": [
              "[<matplotlib.lines.Line2D at 0x7f2a51c56590>]"
            ]
          },
          "metadata": {
            "tags": []
          },
          "execution_count": 1223
        },
        {
          "output_type": "display_data",
          "data": {
            "image/png": "[encoded data removed]",
            "text/plain": [
              "<Figure size 432x288 with 1 Axes>"
            ]
          },
          "metadata": {
            "tags": [],
            "needs_background": "light"
          }
        }
      ]
    },
    {
      "cell_type": "code",
      "metadata": {
        "colab": {
          "base_uri": "https://localhost:8080/"
        },
        "id": "3VR57HKw_Vms",
        "outputId": "607ce41a-da8e-4761-bc6c-aecc1425fe85"
      },
      "source": [
        "mind_xa=sum(xa)/len(xa)\n",
        "print(mind_xa)"
      ],
      "execution_count": null,
      "outputs": [
        {
          "output_type": "stream",
          "text": [
            "18.5625\n"
          ],
          "name": "stdout"
        }
      ]
    },
    {
      "cell_type": "code",
      "metadata": {
        "colab": {
          "base_uri": "https://localhost:8080/"
        },
        "id": "lzOwDLXsHPdD",
        "outputId": "49b15d9a-f6c2-48bc-86c1-bb64d028c477"
      },
      "source": [
        "error=[]\n",
        "for i in range(len(xa)):\n",
        "  #r_1=fsigmoid(xa[i],10.01643518,-0.54299728)\n",
        "  r_1=ya[i]\n",
        "  r_t=(r_1-viab[i])**2\n",
        "  error.append(r_t)\n",
        "print(error)\n",
        "print(sum(error))"
      ],
      "execution_count": null,
      "outputs": [
        {
          "output_type": "stream",
          "text": [
            "[0.0, 0.0, 0.0, 0.0, 0.0, 0.001600000000000003, 0.044099999999999986, 0.17176419753086425, 0.2293345679012346, 0.31484567901234567, 0.31985308641975313, 0.6760493827160493, 0.46694444444444444, 0.31484567901234567, 0.16000000000000003, 0.057067901234567904]\n",
            "2.756404938271605\n"
          ],
          "name": "stdout"
        }
      ]
    },
    {
      "cell_type": "code",
      "metadata": {
        "colab": {
          "base_uri": "https://localhost:8080/",
          "height": 283
        },
        "id": "dTJtNiP2j4_r",
        "outputId": "60948fef-85e2-48a4-a04b-f5247132ab13"
      },
      "source": [
        "plt.plot(xa, fsigmoid(xa, *popt), 'r-', label='fit') #sin modificar \n",
        "plt.plot(l, d, '--', label='simulation')"
      ],
      "execution_count": null,
      "outputs": [
        {
          "output_type": "execute_result",
          "data": {
            "text/plain": [
              "[<matplotlib.lines.Line2D at 0x7f2a51e44ad0>]"
            ]
          },
          "metadata": {
            "tags": []
          },
          "execution_count": 184
        },
        {
          "output_type": "display_data",
          "data": {
            "image/png": "[encoded data removed]",
            "text/plain": [
              "<Figure size 432x288 with 1 Axes>"
            ]
          },
          "metadata": {
            "tags": [],
            "needs_background": "light"
          }
        }
      ]
    },
    {
      "cell_type": "code",
      "metadata": {
        "colab": {
          "base_uri": "https://localhost:8080/"
        },
        "id": "jELvSW2VMCxQ",
        "outputId": "946a023d-4afd-4335-d788-e97a9d07c6f5"
      },
      "source": [
        "error=[]\n",
        "for i in range(len(xa)):\n",
        "  #r_1=fsigmoid(xa[i],10.01643518,-0.54299728)\n",
        "  r_1=ya[i]\n",
        "  r_t=(r_1-d[i])**2\n",
        "  error.append(r_t)\n",
        "print(error)\n",
        "print(sum(error))"
      ],
      "execution_count": null,
      "outputs": [
        {
          "output_type": "stream",
          "text": [
            "[3.12100121719053e-05, 3.12100121719053e-05, 3.12100121719053e-05, 3.12100121719053e-05, 3.12100121719053e-05, 0.0020781373864735887, 0.04647757872725571, 0.1811239474423396, 0.24560607034736748, 0.36, 0.4066021534908398, 0.8913891576417714, 0.7022252738678568, 0.4876564401860117, 0.3183733341656003, 0.15292905964233325]\n",
            "3.794617202958709\n"
          ],
          "name": "stdout"
        }
      ]
    },
    {
      "cell_type": "code",
      "metadata": {
        "id": "ZQrE7LYlnoqV"
      },
      "source": [
        ""
      ],
      "execution_count": null,
      "outputs": []
    }
  ]
}