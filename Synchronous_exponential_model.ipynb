{
  "nbformat": 4,
  "nbformat_minor": 0,
  "metadata": {
    "colab": {
      "name": "Synchronous exponential model",
      "provenance": [],
      "authorship_tag": "ABX9TyMgHHtii9wRu+HonhmtUVio",
      "include_colab_link": true
    },
    "kernelspec": {
      "name": "python3",
      "display_name": "Python 3"
    }
  },
  "cells": [
    {
      "cell_type": "markdown",
      "metadata": {
        "id": "view-in-github",
        "colab_type": "text"
      },
      "source": [
        "<a href=\"https://colab.research.google.com/github/Ivonne-Rojas/Simulation-of-Different-Age-Distributions-for-the-Analysis-of-the-Aging-Curve-of-a-Population-of-S./blob/main/Synchronous_exponential_model.ipynb\" target=\"_parent\"><img src=\"https://colab.research.google.com/assets/colab-badge.svg\" alt=\"Open In Colab\"/></a>"
      ]
    },
    {
      "cell_type": "code",
      "metadata": {
        "id": "68w5g-PQR2Qv"
      },
      "source": [
        "import pandas as pd \n",
        "import numpy as np\n",
        "import matplotlib.pyplot as plt\n",
        "import collections as coll \n",
        "import random\n",
        "import openpyxl\n",
        "from openpyxl import load_workbook\n",
        "from time import time\n",
        "from timeit import timeit"
      ],
      "execution_count": null,
      "outputs": []
    },
    {
      "cell_type": "code",
      "metadata": {
        "colab": {
          "base_uri": "https://localhost:8080/"
        },
        "id": "6KUl1Z6MSXa5",
        "outputId": "f562ea52-f292-4d35-ef4e-4acab0b2e917"
      },
      "source": [
        "tiempo_inicial = time()# libreria para calcular el tiempo de ejecucion  \n",
        "#-------------------------------------------------------------------------------\n",
        "#variables \n",
        "s=[]#para guardar los tiempos aleatorios de replicacion\n",
        "R=0\n",
        "celulas=[]\n",
        "zi=[1,0,0,0,0,0,0,0,0,0,0,0,0,0,0,0,0,0,0,0,0,0,0,0,0,0,0,0,0,0,0]# \n",
        "t=0 # tiempo que ha pasado  \n",
        "tr=[]#lista para guardar t (tiempo total )\n",
        "m=15 # si se muere en uno menos del numero  \n",
        "muertes=0# variable para contabilizar el numero de celulas muertas y no viables \n",
        "fraccion=[]\n",
        "suma=[]# lista para guardar el numero total de celulas o la suma de la matriz \n",
        "r=0 # crecimiento per capita\n",
        "#------------------------------------------------------------------------------- \n",
        "#primer for que hace los nacimientos y corre los numeros \n",
        "for j in range(6):# numero de iteraciones o numero de generaciones la cual se va realizar \n",
        "  zf=np.zeros(m,dtype=np.int64) # tiene que tener una longitud definida la cual sera la generacion en la que se mueran las celulas\n",
        "  for i in range(m-1): # numero menor al numero de generaciones \n",
        "    zf[i+1]= zi[i]\n",
        "    zf[0]=sum(zi)-zi[-1]\n",
        "  zi=zf\n",
        "#-------------------------------------------------------------------------------\n",
        "#asincronico \n",
        "  #s=[]#para guardar los tiempos aleatorios de replicacion\n",
        "  #for k in range(zi[0]):\n",
        "    #R=random.choice(l)\n",
        "    #s.append(R) \n",
        "#-------------------------------------------------------------------------------\n",
        "#sincronico \n",
        "  R=R+120\n",
        "  s.append(R)\n",
        "  celulas.append(sum(zi)) \n",
        "#-------------------------------------------------------------------------------\n",
        "  t=t+max(s)    # tiempo total que se ha demorado las celulas en cada iteracion \n",
        "  tr.append(t)\n",
        "#-------------------------------------------------------------------------------\n",
        "#calculos \n",
        "  muertes=muertes+zf[-1]#para guardas las celulas muertas\n",
        "  total_celulas= sum(zi)+muertes #total de celulas teniendo en cuenta las muertes para sacar la fraccion de celulas viables \n",
        "  fraccion_viables= (sum(zi)-zi[-1])/total_celulas\n",
        "  fraccion.append(fraccion_viables)\n",
        "  r=zi[0]-muertes # numero de nacimientos menos numero de muertes \n",
        "#-------------------------------------------------------------------------------\n",
        "  total=sum(zi)#numero total de celulas viables\n",
        "  suma.append(total)\n",
        "#-------------------------------------------------------------------------------\n",
        "  print(zi)\n",
        "  #print('s',s)\n",
        "  #print('tiempo',t)\n",
        "  #print('lista tiempo',tr)\n",
        "  print('No viable', muertes)\n",
        "  #print('Crecimiento per capita', r)\n",
        "  #print('total de celulas vivas', total)\n",
        "  #print('total celulas',total_celulas)\n",
        "  #print('fraccion',fraccion_viables)\n",
        "  #print(fraccion)\n",
        "  print('---------------')\n",
        "#-------------------------------------------------------------------------------\n",
        "print(len(zi))\n",
        "tiempo_final = time()\n",
        "tiempo_ejecucion = tiempo_final - tiempo_inicial\n",
        "#print('tiempo de ejecucion',tiempo_ejecucion)"
      ],
      "execution_count": null,
      "outputs": [
        {
          "output_type": "stream",
          "text": [
            "[1 1 0 0 0 0 0 0 0 0 0 0 0 0 0]\n",
            "No viable 0\n",
            "---------------\n",
            "[2 1 1 0 0 0 0 0 0 0 0 0 0 0 0]\n",
            "No viable 0\n",
            "---------------\n",
            "[4 2 1 1 0 0 0 0 0 0 0 0 0 0 0]\n",
            "No viable 0\n",
            "---------------\n",
            "[8 4 2 1 1 0 0 0 0 0 0 0 0 0 0]\n",
            "No viable 0\n",
            "---------------\n",
            "[16  8  4  2  1  1  0  0  0  0  0  0  0  0  0]\n",
            "No viable 0\n",
            "---------------\n",
            "[32 16  8  4  2  1  1  0  0  0  0  0  0  0  0]\n",
            "No viable 0\n",
            "---------------\n",
            "15\n"
          ],
          "name": "stdout"
        }
      ]
    },
    {
      "cell_type": "code",
      "metadata": {
        "colab": {
          "base_uri": "https://localhost:8080/"
        },
        "id": "1a-2POaF04fe",
        "outputId": "94550c3f-8628-4cbf-df4b-fcbdfc11550b"
      },
      "source": [
        "a=zi.tolist()\n",
        "print('Number of cells',a)"
      ],
      "execution_count": null,
      "outputs": [
        {
          "output_type": "stream",
          "text": [
            "Number of cells [32, 16, 8, 4, 2, 1, 1, 0, 0, 0, 0, 0, 0, 0, 0]\n"
          ],
          "name": "stdout"
        }
      ]
    },
    {
      "cell_type": "markdown",
      "metadata": {
        "id": "8PYBO9B6Vsbu"
      },
      "source": [
        "**Distribucion de edades** "
      ]
    },
    {
      "cell_type": "code",
      "metadata": {
        "colab": {
          "base_uri": "https://localhost:8080/"
        },
        "id": "_6WT3LKLjgvc",
        "outputId": "cab72ddb-b8a2-4f9b-8728-4a0a05c2ea81"
      },
      "source": [
        "print(sum(zi))\n",
        "print(suma)"
      ],
      "execution_count": null,
      "outputs": [
        {
          "output_type": "stream",
          "text": [
            "64\n",
            "[2, 4, 8, 16, 32, 64]\n"
          ],
          "name": "stdout"
        }
      ]
    },
    {
      "cell_type": "code",
      "metadata": {
        "colab": {
          "base_uri": "https://localhost:8080/"
        },
        "id": "sua28LJyZ681",
        "outputId": "73952bf4-1bc7-45a2-8e0a-e78a33f51712"
      },
      "source": [
        "edad=[]#edades\n",
        "ind=-1\n",
        "for i in range(len(zi)):\n",
        "  ind=ind+1\n",
        "  edad.append(ind)\n",
        "print('Age',edad)"
      ],
      "execution_count": null,
      "outputs": [
        {
          "output_type": "stream",
          "text": [
            "Age [0, 1, 2, 3, 4, 5, 6, 7, 8, 9, 10, 11, 12, 13, 14]\n"
          ],
          "name": "stdout"
        }
      ]
    },
    {
      "cell_type": "code",
      "metadata": {
        "colab": {
          "base_uri": "https://localhost:8080/",
          "height": 295
        },
        "id": "jtBnKclIVenV",
        "outputId": "4d14d236-9061-4758-db80-4033bfff3d25"
      },
      "source": [
        "fig, ax = plt.subplots()\n",
        "ax.set_ylabel('Número de células')\n",
        "ax.set_xlabel('Edad')\n",
        "ax.set_title('Distribucion de edades ')\n",
        "plt.bar(edad, zi)\n",
        "#plt.savefig('barras_simple.png')\n",
        "plt.show()"
      ],
      "execution_count": null,
      "outputs": [
        {
          "output_type": "display_data",
          "data": {
            "image/png": "[encoded data removed]",
            "text/plain": [
              "<Figure size 432x288 with 1 Axes>"
            ]
          },
          "metadata": {
            "tags": [],
            "needs_background": "light"
          }
        }
      ]
    },
    {
      "cell_type": "markdown",
      "metadata": {
        "id": "M5WQckpfbonV"
      },
      "source": [
        "Curva de crecimeinto asincronico"
      ]
    },
    {
      "cell_type": "code",
      "metadata": {
        "colab": {
          "base_uri": "https://localhost:8080/",
          "height": 295
        },
        "id": "rBKgnleBbAyd",
        "outputId": "877cb59b-25b3-4131-d67f-8d56bddec366"
      },
      "source": [
        "plt.plot(tr,suma) # \n",
        "plt.xlabel('Time(min)')\n",
        "plt.ylabel('Number of cells')\n",
        "plt.title('Growth curve')\n",
        "plt.show() #mostar el grafico "
      ],
      "execution_count": null,
      "outputs": [
        {
          "output_type": "display_data",
          "data": {
            "image/png": "[encoded data removed]",
            "text/plain": [
              "<Figure size 432x288 with 1 Axes>"
            ]
          },
          "metadata": {
            "tags": [],
            "needs_background": "light"
          }
        }
      ]
    },
    {
      "cell_type": "markdown",
      "metadata": {
        "id": "3UAMwyeoc8Rz"
      },
      "source": [
        "Curva de crecimeinto sincronico "
      ]
    },
    {
      "cell_type": "code",
      "metadata": {
        "colab": {
          "base_uri": "https://localhost:8080/"
        },
        "id": "eFzEJBkpcqzi",
        "outputId": "597b5f1c-4e16-4600-d384-0dca3d6c95bf"
      },
      "source": [
        "print(len(s), len(celulas))"
      ],
      "execution_count": null,
      "outputs": [
        {
          "output_type": "stream",
          "text": [
            "6 6\n"
          ],
          "name": "stdout"
        }
      ]
    },
    {
      "cell_type": "code",
      "metadata": {
        "colab": {
          "base_uri": "https://localhost:8080/",
          "height": 295
        },
        "id": "rqI7J9Pbbhxt",
        "outputId": "7b813f61-64a9-4d07-cd07-ede4a053aa27"
      },
      "source": [
        "plt.plot(s,celulas) # \n",
        "plt.xlabel('Tiempo(min)')\n",
        "plt.ylabel('Número de células')\n",
        "plt.title('Curva de crecimiento')\n",
        "plt.show() #mostar el grafico "
      ],
      "execution_count": null,
      "outputs": [
        {
          "output_type": "display_data",
          "data": {
            "image/png": "[encoded data removed]",
            "text/plain": [
              "<Figure size 432x288 with 1 Axes>"
            ]
          },
          "metadata": {
            "tags": [],
            "needs_background": "light"
          }
        }
      ]
    },
    {
      "cell_type": "markdown",
      "metadata": {
        "id": "xZr0fHHbH3ii"
      },
      "source": [
        "tasa de crecimiento "
      ]
    },
    {
      "cell_type": "code",
      "metadata": {
        "colab": {
          "base_uri": "https://localhost:8080/"
        },
        "id": "Rk0OSlSfH11r",
        "outputId": "9d7935d8-39c7-49bf-bec7-da0e9695bcb9"
      },
      "source": [
        "pendientes=[]\n",
        "for i in range(len(suma)-1):\n",
        "  y=np.log(celulas[i+1])-np.log(celulas[i])\n",
        "  x=s[i+1]-s[i]\n",
        "  pendiente=y/x\n",
        "  pendientes.append(pendiente)\n",
        "print(pendientes)\n",
        "print(len(pendientes))\n",
        "print(sum(pendientes)/len(pendientes))"
      ],
      "execution_count": null,
      "outputs": [
        {
          "output_type": "stream",
          "text": [
            "[0.0057762265046662105, 0.00577622650466621, 0.005776226504666211, 0.005776226504666211, 0.005776226504666208]\n",
            "5\n",
            "0.00577622650466621\n"
          ],
          "name": "stdout"
        }
      ]
    },
    {
      "cell_type": "markdown",
      "metadata": {
        "id": "FURGUOR_JCT2"
      },
      "source": [
        "contra generaciones"
      ]
    },
    {
      "cell_type": "code",
      "metadata": {
        "colab": {
          "base_uri": "https://localhost:8080/",
          "height": 295
        },
        "id": "AiFE_i59JBiq",
        "outputId": "3d1bfe3e-4687-4bf8-88f7-5f9fe33a4282"
      },
      "source": [
        "plt.plot(suma) # \n",
        "plt.xlabel('Generaciones')\n",
        "plt.ylabel('Número de células')\n",
        "plt.title('Curva de crecimiento')\n",
        "plt.show() #mostar el grafico "
      ],
      "execution_count": null,
      "outputs": [
        {
          "output_type": "display_data",
          "data": {
            "image/png": "[encoded data removed]",
            "text/plain": [
              "<Figure size 432x288 with 1 Axes>"
            ]
          },
          "metadata": {
            "tags": [],
            "needs_background": "light"
          }
        }
      ]
    },
    {
      "cell_type": "markdown",
      "metadata": {
        "id": "T4is9x-YJkMw"
      },
      "source": [
        "tasa de crecimiento"
      ]
    },
    {
      "cell_type": "code",
      "metadata": {
        "id": "sv8NAvjkLaZc"
      },
      "source": [
        "gen=[]\n",
        "g=0\n",
        "for i in range(len(suma)):\n",
        "  g=g+1\n",
        "  gen.append(g)"
      ],
      "execution_count": null,
      "outputs": []
    },
    {
      "cell_type": "code",
      "metadata": {
        "colab": {
          "base_uri": "https://localhost:8080/"
        },
        "id": "k2NSFJ8KJ5_1",
        "outputId": "0d5e945b-7465-44c1-e471-45f271699c5e"
      },
      "source": [
        "pendientes=[]\n",
        "for i in range(len(suma)-1):\n",
        "  y=np.log(suma[i+1])-np.log(suma[i])\n",
        "  x=gen[i+1]-gen[i]\n",
        "  pendiente=y/x\n",
        "  pendientes.append(pendiente)\n",
        "print(pendientes)\n",
        "print(len(pendientes))\n",
        "print(sum(pendientes)/len(pendientes))"
      ],
      "execution_count": null,
      "outputs": [
        {
          "output_type": "stream",
          "text": [
            "[0.6931471805599453, 0.6931471805599452, 0.6931471805599454, 0.6931471805599454, 0.693147180559945]\n",
            "5\n",
            "0.6931471805599452\n"
          ],
          "name": "stdout"
        }
      ]
    },
    {
      "cell_type": "markdown",
      "metadata": {
        "id": "CCM4csSQd1uO"
      },
      "source": [
        "Probabilidad"
      ]
    },
    {
      "cell_type": "code",
      "metadata": {
        "colab": {
          "base_uri": "https://localhost:8080/"
        },
        "id": "jNGKJi04eGX_",
        "outputId": "a64cfb02-2ab0-4ef6-ed05-38cfdc05bd58"
      },
      "source": [
        "P=[] # me guarda las probabilidades de cada edad de la distribucion \n",
        "for i in zi:\n",
        "  p=i/total_celulas # se tiene en cuentas las celulas que ya se murieron \n",
        "  P.append(p)\n",
        "print(P)"
      ],
      "execution_count": null,
      "outputs": [
        {
          "output_type": "stream",
          "text": [
            "[0.5, 0.25, 0.125, 0.0625, 0.03125, 0.015625, 0.015625, 0.0, 0.0, 0.0, 0.0, 0.0, 0.0, 0.0, 0.0]\n"
          ],
          "name": "stdout"
        }
      ]
    },
    {
      "cell_type": "code",
      "metadata": {
        "colab": {
          "base_uri": "https://localhost:8080/",
          "height": 295
        },
        "id": "0bHWPuieeMuD",
        "outputId": "d990ebf9-caa0-449c-f206-25693a544eaf"
      },
      "source": [
        "fig, ax = plt.subplots() # coloca los letreros  \n",
        "ax.set_ylabel('Probability')\n",
        "ax.set_xlabel('Age')\n",
        "ax.set_title('Probability distribution')\n",
        "plt.bar(edad, P)\n",
        "#plt.savefig('barras_simple.png')\n",
        "plt.show()"
      ],
      "execution_count": null,
      "outputs": [
        {
          "output_type": "display_data",
          "data": {
            "image/png": "[encoded data removed]",
            "text/plain": [
              "<Figure size 432x288 with 1 Axes>"
            ]
          },
          "metadata": {
            "tags": [],
            "needs_background": "light"
          }
        }
      ]
    },
    {
      "cell_type": "code",
      "metadata": {
        "id": "nyyoEYchecOl"
      },
      "source": [
        ""
      ],
      "execution_count": null,
      "outputs": []
    }
  ]
}