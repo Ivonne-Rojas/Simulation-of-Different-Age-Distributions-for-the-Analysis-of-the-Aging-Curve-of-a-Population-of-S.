{
  "nbformat": 4,
  "nbformat_minor": 0,
  "metadata": {
    "colab": {
      "name": "Synchronous exponential model",
      "provenance": [],
      "collapsed_sections": [],
      "authorship_tag": "ABX9TyPmxiwXsBpvrlxnkI4zv1He",
      "include_colab_link": true
    },
    "kernelspec": {
      "name": "python3",
      "display_name": "Python 3"
    }
  },
  "cells": [
    {
      "cell_type": "markdown",
      "metadata": {
        "id": "view-in-github",
        "colab_type": "text"
      },
      "source": [
        "<a href=\"https://colab.research.google.com/github/Ivonne-Rojas/Simulation-of-Different-Age-Distributions-for-the-Analysis-of-the-Aging-Curve-of-a-Population-of-S./blob/main/Synchronous_exponential_model.ipynb\" target=\"_parent\"><img src=\"https://colab.research.google.com/assets/colab-badge.svg\" alt=\"Open In Colab\"/></a>"
      ]
    },
    {
      "cell_type": "code",
      "metadata": {
        "id": "68w5g-PQR2Qv"
      },
      "source": [
        "import numpy as np\n",
        "import matplotlib.pyplot as plt\n",
        "import collections as coll \n",
        "import random\n",
        "from time import time\n",
        "from timeit import timeit"
      ],
      "execution_count": null,
      "outputs": []
    },
    {
      "cell_type": "code",
      "metadata": {
        "colab": {
          "base_uri": "https://localhost:8080/"
        },
        "id": "6KUl1Z6MSXa5",
        "outputId": "e4e706fb-5c80-421a-eb00-fa3b70f8cf32"
      },
      "source": [
        "initial_time = time()# we use this library to calculate execution time   \n",
        "#-------------------------------------------------------------------------------\n",
        "#initial variables \n",
        "s=[]#this list is for save the replication times\n",
        "celulas=[]# this list is for save the total number of cells \n",
        "zi=[1,0,0,0,0,0,0,0,0,0,0,0,0,0,0,0,0,0,0,0,0,0,0,0,0,0,0,0,0,0,0]# initial age distribution \n",
        "t=0 # total time   \n",
        "R=0 # to count the replicative times \n",
        "tr=[]#list to save the total time in each iteration\n",
        "m=18 # number to determine the generation in which the cells die \n",
        "muertes=0# variable to count the number of dead and non-viable cells \n",
        "fraccion=[]# list to save the fraction of viable cells \n",
        "r=0 # per capita growth\n",
        "g=25 # number of generations that growth the population \n",
        "#------------------------------------------------------------------------------- \n",
        "for j in range(g): \n",
        "  zf=np.zeros(m,dtype=np.int64) # It has a defined length which is determined by the generation in which the cells die\n",
        "  for i in range(m-1):  \n",
        "    zf[i+1]= zi[i]\n",
        "    zf[0]=sum(zi)-zi[-1]\n",
        "  zi=zf \n",
        "#-------------------------------------------------------------------------------\n",
        "  R=R+120 # 120 is the constant replicative time, in minutes, that we took \n",
        "  s.append(R)\n",
        "  celulas.append(sum(zi)) \n",
        "#-------------------------------------------------------------------------------\n",
        "  t=t+max(s)    # total time \n",
        "  tr.append(t)\n",
        "#-------------------------------------------------------------------------------\n",
        "#calculations \n",
        "  muertes=muertes+zf[-1]#list to save the dead cells\n",
        "  total_celulas= sum(zi)+muertes # total cells, viable cells plus dead cells  \n",
        "  fraccion_viables= (sum(zi)-zi[-1])/total_celulas #fraction of viable cells  \n",
        "  fraccion.append(fraccion_viables)\n",
        "  r=zi[0]-muertes \n",
        "#-------------------------------------------------------------------------------\n",
        "  print('age distribution', zi)\n",
        "  #print('s',s)\n",
        "  #print('time',t) \n",
        "  #print('time list',tr) # \n",
        "  print('Non-viable cells', muertes) \n",
        "  #print('growth rate', r)#\n",
        "  #print('viable cells ', total)\n",
        "  #print('total of population ',total_celulas)\n",
        "  #print('fraction of viable cells',fraccion_viables)\n",
        "  #print('list of viable cells fraction', fraccion)\n",
        "  print('---------------')\n",
        "#-------------------------------------------------------------------------------\n",
        "print(len(zi))\n",
        "final_time = time()\n",
        "execution_time = final_time - initial_time\n",
        "#print('execution time',execution_time)"
      ],
      "execution_count": null,
      "outputs": [
        {
          "output_type": "stream",
          "text": [
            "[1 1 0 0 0 0 0 0 0 0 0 0 0 0 0 0 0 0]\n",
            "No viable 0\n",
            "---------------\n",
            "[2 1 1 0 0 0 0 0 0 0 0 0 0 0 0 0 0 0]\n",
            "No viable 0\n",
            "---------------\n",
            "[4 2 1 1 0 0 0 0 0 0 0 0 0 0 0 0 0 0]\n",
            "No viable 0\n",
            "---------------\n",
            "[8 4 2 1 1 0 0 0 0 0 0 0 0 0 0 0 0 0]\n",
            "No viable 0\n",
            "---------------\n",
            "[16  8  4  2  1  1  0  0  0  0  0  0  0  0  0  0  0  0]\n",
            "No viable 0\n",
            "---------------\n",
            "[32 16  8  4  2  1  1  0  0  0  0  0  0  0  0  0  0  0]\n",
            "No viable 0\n",
            "---------------\n",
            "[64 32 16  8  4  2  1  1  0  0  0  0  0  0  0  0  0  0]\n",
            "No viable 0\n",
            "---------------\n",
            "[128  64  32  16   8   4   2   1   1   0   0   0   0   0   0   0   0   0]\n",
            "No viable 0\n",
            "---------------\n",
            "[256 128  64  32  16   8   4   2   1   1   0   0   0   0   0   0   0   0]\n",
            "No viable 0\n",
            "---------------\n",
            "[512 256 128  64  32  16   8   4   2   1   1   0   0   0   0   0   0   0]\n",
            "No viable 0\n",
            "---------------\n",
            "[1024  512  256  128   64   32   16    8    4    2    1    1    0    0\n",
            "    0    0    0    0]\n",
            "No viable 0\n",
            "---------------\n",
            "[2048 1024  512  256  128   64   32   16    8    4    2    1    1    0\n",
            "    0    0    0    0]\n",
            "No viable 0\n",
            "---------------\n",
            "[4096 2048 1024  512  256  128   64   32   16    8    4    2    1    1\n",
            "    0    0    0    0]\n",
            "No viable 0\n",
            "---------------\n",
            "[8192 4096 2048 1024  512  256  128   64   32   16    8    4    2    1\n",
            "    1    0    0    0]\n",
            "No viable 0\n",
            "---------------\n",
            "[16384  8192  4096  2048  1024   512   256   128    64    32    16     8\n",
            "     4     2     1     1     0     0]\n",
            "No viable 0\n",
            "---------------\n",
            "[32768 16384  8192  4096  2048  1024   512   256   128    64    32    16\n",
            "     8     4     2     1     1     0]\n",
            "No viable 0\n",
            "---------------\n",
            "[65536 32768 16384  8192  4096  2048  1024   512   256   128    64    32\n",
            "    16     8     4     2     1     1]\n",
            "No viable 1\n",
            "---------------\n",
            "[131071  65536  32768  16384   8192   4096   2048   1024    512    256\n",
            "    128     64     32     16      8      4      2      1]\n",
            "No viable 2\n",
            "---------------\n",
            "[262141 131071  65536  32768  16384   8192   4096   2048   1024    512\n",
            "    256    128     64     32     16      8      4      2]\n",
            "No viable 4\n",
            "---------------\n",
            "[524280 262141 131071  65536  32768  16384   8192   4096   2048   1024\n",
            "    512    256    128     64     32     16      8      4]\n",
            "No viable 8\n",
            "---------------\n",
            "[1048556  524280  262141  131071   65536   32768   16384    8192    4096\n",
            "    2048    1024     512     256     128      64      32      16       8]\n",
            "No viable 16\n",
            "---------------\n",
            "[2097104 1048556  524280  262141  131071   65536   32768   16384    8192\n",
            "    4096    2048    1024     512     256     128      64      32      16]\n",
            "No viable 32\n",
            "---------------\n",
            "[4194192 2097104 1048556  524280  262141  131071   65536   32768   16384\n",
            "    8192    4096    2048    1024     512     256     128      64      32]\n",
            "No viable 64\n",
            "---------------\n",
            "[8388352 4194192 2097104 1048556  524280  262141  131071   65536   32768\n",
            "   16384    8192    4096    2048    1024     512     256     128      64]\n",
            "No viable 128\n",
            "---------------\n",
            "[16776640  8388352  4194192  2097104  1048556   524280   262141   131071\n",
            "    65536    32768    16384     8192     4096     2048     1024      512\n",
            "      256      128]\n",
            "No viable 256\n",
            "---------------\n",
            "18\n"
          ],
          "name": "stdout"
        }
      ]
    },
    {
      "cell_type": "markdown",
      "metadata": {
        "id": "8PYBO9B6Vsbu"
      },
      "source": [
        "**Age Distribution** "
      ]
    },
    {
      "cell_type": "code",
      "metadata": {
        "colab": {
          "base_uri": "https://localhost:8080/"
        },
        "id": "sua28LJyZ681",
        "outputId": "d4702854-3d60-4eec-aca3-2b3ea1f8f7fc"
      },
      "source": [
        "edad=[]#Ages \n",
        "ind=-1\n",
        "for i in range(len(zi)):\n",
        "  ind=ind+1\n",
        "  edad.append(ind)\n",
        "print('Age',edad)"
      ],
      "execution_count": null,
      "outputs": [
        {
          "output_type": "stream",
          "text": [
            "Age [0, 1, 2, 3, 4, 5, 6, 7, 8, 9, 10, 11, 12, 13, 14, 15, 16, 17]\n"
          ],
          "name": "stdout"
        }
      ]
    },
    {
      "cell_type": "code",
      "metadata": {
        "colab": {
          "base_uri": "https://localhost:8080/",
          "height": 305
        },
        "id": "jtBnKclIVenV",
        "outputId": "b723de0b-46fd-4ab3-9bd3-b386f35ff0dd"
      },
      "source": [
        "fig, ax = plt.subplots()\n",
        "axes = plt.gca() \n",
        "ax.set_ylabel('Number of cells')\n",
        "ax.set_xlabel('Age')\n",
        "ax.set_title('Age Distribution ')\n",
        "plt.bar(edad, zi)\n",
        "axes.title.set_size(20)\n",
        "axes.xaxis.label.set_size(16)\n",
        "axes.yaxis.label.set_size(16)\n",
        "plt.savefig('Age Distribution.png')\n",
        "plt.show()"
      ],
      "execution_count": null,
      "outputs": [
        {
          "output_type": "display_data",
          "data": {
            "image/png": "[encoded data removed]",
            "text/plain": [
              "<Figure size 432x288 with 1 Axes>"
            ]
          },
          "metadata": {
            "tags": [],
            "needs_background": "light"
          }
        }
      ]
    },
    {
      "cell_type": "markdown",
      "metadata": {
        "id": "3UAMwyeoc8Rz"
      },
      "source": [
        "Growth curve (time)\n",
        "\n",
        "\n",
        "\n",
        " "
      ]
    },
    {
      "cell_type": "code",
      "metadata": {
        "colab": {
          "base_uri": "https://localhost:8080/",
          "height": 305
        },
        "id": "rqI7J9Pbbhxt",
        "outputId": "05d68a49-3401-4f9b-b643-cc7fa231ee8a"
      },
      "source": [
        "plt.plot(s,celulas) \n",
        "axes = plt.gca() \n",
        "plt.xlabel('Time(min)')\n",
        "plt.ylabel('Number of cells')\n",
        "plt.title('Growth curve')\n",
        "axes.title.set_size(20)\n",
        "axes.xaxis.label.set_size(16)\n",
        "axes.yaxis.label.set_size(16)\n",
        "plt.savefig('Growth Curve  time')\n",
        "plt.show() "
      ],
      "execution_count": null,
      "outputs": [
        {
          "output_type": "display_data",
          "data": {
            "image/png": "[encoded data removed]",
            "text/plain": [
              "<Figure size 432x288 with 1 Axes>"
            ]
          },
          "metadata": {
            "tags": [],
            "needs_background": "light"
          }
        }
      ]
    },
    {
      "cell_type": "markdown",
      "metadata": {
        "id": "xZr0fHHbH3ii"
      },
      "source": [
        "growth rate (time) "
      ]
    },
    {
      "cell_type": "code",
      "metadata": {
        "colab": {
          "base_uri": "https://localhost:8080/"
        },
        "id": "Rk0OSlSfH11r",
        "outputId": "75e6ef33-d71e-4795-f0a1-bb58a4261048"
      },
      "source": [
        "pendientes=[] #slope \n",
        "for i in range(len(celulas)-1):\n",
        "  y=np.log(celulas[i+1])-np.log(celulas[i])\n",
        "  x=s[i+1]-s[i]\n",
        "  pendiente=y/x\n",
        "  pendientes.append(pendiente)\n",
        "print(pendientes)\n",
        "print(len(pendientes))\n",
        "print(sum(pendientes)/len(pendientes))"
      ],
      "execution_count": null,
      "outputs": [
        {
          "output_type": "stream",
          "text": [
            "[0.0057762265046662105, 0.00577622650466621, 0.005776226504666211, 0.005776226504666211, 0.005776226504666208, 0.005776226504666211, 0.005776226504666211, 0.005776226504666211, 0.005776226504666211, 0.005776226504666211, 0.005776226504666204, 0.005776226504666211, 0.005776226504666211, 0.005776226504666211, 0.005776226504666211, 0.005776226504666211, 0.005776162926135919, 0.005776194715219166, 0.0057761947150978855, 0.0057761947149766344, 0.005776194714855354, 0.005776194714734073, 0.005776194714612822, 0.005776194714491526]\n",
            "24\n",
            "0.005776214583532614\n"
          ],
          "name": "stdout"
        }
      ]
    },
    {
      "cell_type": "markdown",
      "metadata": {
        "id": "FURGUOR_JCT2"
      },
      "source": [
        "Growth curve (generations)"
      ]
    },
    {
      "cell_type": "code",
      "metadata": {
        "colab": {
          "base_uri": "https://localhost:8080/",
          "height": 305
        },
        "id": "AiFE_i59JBiq",
        "outputId": "7ed64f72-1e8f-4fb2-c939-ea2b51743fc6"
      },
      "source": [
        "plt.plot(celulas) # \n",
        "axes = plt.gca() \n",
        "plt.xlabel('Generations')\n",
        "plt.ylabel('Number of cells')\n",
        "plt.title('Growth curve')\n",
        "axes.title.set_size(20)\n",
        "axes.xaxis.label.set_size(16)\n",
        "axes.yaxis.label.set_size(16)\n",
        "plt.savefig('Growth Curve g=25')\n",
        "plt.show() #mostar el grafico "
      ],
      "execution_count": null,
      "outputs": [
        {
          "output_type": "display_data",
          "data": {
            "image/png": "[encoded data removed]",
            "text/plain": [
              "<Figure size 432x288 with 1 Axes>"
            ]
          },
          "metadata": {
            "tags": [],
            "needs_background": "light"
          }
        }
      ]
    },
    {
      "cell_type": "markdown",
      "metadata": {
        "id": "T4is9x-YJkMw"
      },
      "source": [
        "growth rate (generations) "
      ]
    },
    {
      "cell_type": "code",
      "metadata": {
        "id": "sv8NAvjkLaZc"
      },
      "source": [
        "gen=[]\n",
        "g=0\n",
        "for i in range(len(celulas)):\n",
        "  g=g+1\n",
        "  gen.append(g)"
      ],
      "execution_count": null,
      "outputs": []
    },
    {
      "cell_type": "code",
      "metadata": {
        "colab": {
          "base_uri": "https://localhost:8080/"
        },
        "id": "k2NSFJ8KJ5_1",
        "outputId": "fe25fb61-a719-4eb2-cfeb-6e013a0e6ca9"
      },
      "source": [
        "pendientes=[]\n",
        "for i in range(len(celulas)-1):\n",
        "  y=np.log(celulas[i+1])-np.log(celulas[i])\n",
        "  x=gen[i+1]-gen[i]\n",
        "  pendiente=y/x\n",
        "  pendientes.append(pendiente)\n",
        "print(pendientes)\n",
        "print(sum(pendientes)/len(pendientes))"
      ],
      "execution_count": null,
      "outputs": [
        {
          "output_type": "stream",
          "text": [
            "[0.6931471805599453, 0.6931471805599452, 0.6931471805599454, 0.6931471805599454, 0.693147180559945, 0.6931471805599454, 0.6931471805599454, 0.6931471805599454, 0.6931471805599454, 0.6931471805599454, 0.6931471805599445, 0.6931471805599454, 0.6931471805599454, 0.6931471805599454, 0.6931471805599454, 0.6931471805599454, 0.6931395511363103, 0.6931433658263, 0.6931433658117463, 0.6931433657971962, 0.6931433657826425, 0.6931433657680888, 0.6931433657535386, 0.6931433657389832]\n",
            "0.6931457500239139\n"
          ],
          "name": "stdout"
        }
      ]
    },
    {
      "cell_type": "markdown",
      "metadata": {
        "id": "CCM4csSQd1uO"
      },
      "source": [
        "Probability"
      ]
    },
    {
      "cell_type": "code",
      "metadata": {
        "colab": {
          "base_uri": "https://localhost:8080/"
        },
        "id": "jNGKJi04eGX_",
        "outputId": "1318d546-de99-40c3-fc8e-c904994d6fc6"
      },
      "source": [
        "P=[] \n",
        "for i in zi:\n",
        "  p=i/total_celulas  \n",
        "  P.append(p)\n",
        "print(P)"
      ],
      "execution_count": null,
      "outputs": [
        {
          "output_type": "stream",
          "text": [
            "[0.49999618520086825, 0.24999904630021705, 0.125, 0.06250023842494573, 0.03125023842494574, 0.0156251788187093, 0.007812619212472867, 0.003906324507795542, 0.0019531771554568795, 0.0009765885777284398, 0.0004882942888642199, 0.00024414714443210994, 0.00012207357221605497, 6.103678610802749e-05, 3.051839305401374e-05, 1.525919652700687e-05, 7.629598263503436e-06, 3.814799131751718e-06]\n"
          ],
          "name": "stdout"
        }
      ]
    },
    {
      "cell_type": "code",
      "metadata": {
        "colab": {
          "base_uri": "https://localhost:8080/",
          "height": 305
        },
        "id": "0bHWPuieeMuD",
        "outputId": "7a08b0ba-60bc-4909-bf52-db75b4c04182"
      },
      "source": [
        "fig, ax = plt.subplots()\n",
        "plt.bar(edad, P)\n",
        "axes = plt.gca() \n",
        "ax.set_ylabel('Probability')\n",
        "ax.set_xlabel('Age')\n",
        "ax.set_title('Probability distribution')\n",
        "axes.title.set_size(20)\n",
        "axes.xaxis.label.set_size(16)\n",
        "axes.yaxis.label.set_size(16)\n",
        "plt.savefig('Probabilitym18_2.png')\n",
        "plt.show()"
      ],
      "execution_count": null,
      "outputs": [
        {
          "output_type": "display_data",
          "data": {
            "image/png": "[encoded data removed]",
            "text/plain": [
              "<Figure size 432x288 with 1 Axes>"
            ]
          },
          "metadata": {
            "tags": [],
            "needs_background": "light"
          }
        }
      ]
    },
    {
      "cell_type": "code",
      "metadata": {
        "id": "nyyoEYchecOl"
      },
      "source": [
        ""
      ],
      "execution_count": null,
      "outputs": []
    }
  ]
}